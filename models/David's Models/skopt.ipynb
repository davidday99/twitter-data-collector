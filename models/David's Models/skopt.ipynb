{
  "nbformat": 4,
  "nbformat_minor": 0,
  "metadata": {
    "colab": {
      "name": "skopt.ipynb",
      "provenance": []
    },
    "kernelspec": {
      "name": "python3",
      "display_name": "Python 3"
    }
  },
  "cells": [
    {
      "cell_type": "code",
      "metadata": {
        "id": "W6-5L5c_rigi",
        "colab_type": "code",
        "colab": {}
      },
      "source": [
        "from sklearn.ensemble import GradientBoostingRegressor\n",
        "from sklearn.model_selection import cross_val_score\n",
        "import numpy as np\n",
        "import pandas as pd"
      ],
      "execution_count": 0,
      "outputs": []
    },
    {
      "cell_type": "code",
      "metadata": {
        "id": "GBkDHooesI_4",
        "colab_type": "code",
        "colab": {}
      },
      "source": [
        "test = pd.read_csv('profile_data_test.csv')\n",
        "train = pd.read_csv('profile_data_train.csv')\n",
        "\n",
        "all_data = pd.concat((test.loc[:,'handle':'avg_word_count'], train.loc[:,'handle':'avg_word_count'])).reset_index(drop=True)"
      ],
      "execution_count": 0,
      "outputs": []
    },
    {
      "cell_type": "code",
      "metadata": {
        "id": "VUM1SdraseRY",
        "colab_type": "code",
        "colab": {}
      },
      "source": [
        "X_train = all_data[:train.shape[0]]\n",
        "X_test = all_data[train.shape[0]:]\n",
        "\n",
        "y_train = train['age_group']\n",
        "y_test = test['age_group']"
      ],
      "execution_count": 0,
      "outputs": []
    },
    {
      "cell_type": "code",
      "metadata": {
        "id": "oiwZbAh4sl4q",
        "colab_type": "code",
        "colab": {
          "base_uri": "https://localhost:8080/",
          "height": 223
        },
        "outputId": "108fd1f1-96f2-4d05-def9-83f1e70f836d"
      },
      "source": [
        "# first try xgboost on numerical features only\n",
        "import copy\n",
        "\n",
        "X_train_num = copy.deepcopy(X_train)\n",
        "del X_train_num['handle']\n",
        "del X_train_num['tweets_text']\n",
        "del X_train_num['hashtags']\n",
        "\n",
        "n_features = X_train_num.shape[1]\n",
        "\n",
        "X_train_num.head()"
      ],
      "execution_count": 4,
      "outputs": [
        {
          "output_type": "execute_result",
          "data": {
            "text/html": [
              "<div>\n",
              "<style scoped>\n",
              "    .dataframe tbody tr th:only-of-type {\n",
              "        vertical-align: middle;\n",
              "    }\n",
              "\n",
              "    .dataframe tbody tr th {\n",
              "        vertical-align: top;\n",
              "    }\n",
              "\n",
              "    .dataframe thead th {\n",
              "        text-align: right;\n",
              "    }\n",
              "</style>\n",
              "<table border=\"1\" class=\"dataframe\">\n",
              "  <thead>\n",
              "    <tr style=\"text-align: right;\">\n",
              "      <th></th>\n",
              "      <th>followers</th>\n",
              "      <th>following</th>\n",
              "      <th>follower_following_ratio</th>\n",
              "      <th>avg_favorites</th>\n",
              "      <th>min_favorites</th>\n",
              "      <th>max_favorites</th>\n",
              "      <th>avg_retweets</th>\n",
              "      <th>min_retweets</th>\n",
              "      <th>max_retweets</th>\n",
              "      <th>hashtags_per_tweet</th>\n",
              "      <th>mentions_per_tweet</th>\n",
              "      <th>avg_timedelta_hrs</th>\n",
              "      <th>avg_word_count</th>\n",
              "    </tr>\n",
              "  </thead>\n",
              "  <tbody>\n",
              "    <tr>\n",
              "      <th>0</th>\n",
              "      <td>126790.0</td>\n",
              "      <td>38762.0</td>\n",
              "      <td>3.270987</td>\n",
              "      <td>367.000</td>\n",
              "      <td>207.0</td>\n",
              "      <td>663.0</td>\n",
              "      <td>31.800</td>\n",
              "      <td>18.0</td>\n",
              "      <td>64.0</td>\n",
              "      <td>0.50</td>\n",
              "      <td>0.1</td>\n",
              "      <td>26.393673</td>\n",
              "      <td>166</td>\n",
              "    </tr>\n",
              "    <tr>\n",
              "      <th>1</th>\n",
              "      <td>1272.0</td>\n",
              "      <td>426.0</td>\n",
              "      <td>2.985915</td>\n",
              "      <td>10.700</td>\n",
              "      <td>0.0</td>\n",
              "      <td>55.0</td>\n",
              "      <td>6.300</td>\n",
              "      <td>0.0</td>\n",
              "      <td>52.0</td>\n",
              "      <td>0.20</td>\n",
              "      <td>0.2</td>\n",
              "      <td>217.188333</td>\n",
              "      <td>81</td>\n",
              "    </tr>\n",
              "    <tr>\n",
              "      <th>2</th>\n",
              "      <td>74947.0</td>\n",
              "      <td>49.0</td>\n",
              "      <td>1529.530612</td>\n",
              "      <td>181.100</td>\n",
              "      <td>42.0</td>\n",
              "      <td>774.0</td>\n",
              "      <td>15.400</td>\n",
              "      <td>3.0</td>\n",
              "      <td>53.0</td>\n",
              "      <td>0.50</td>\n",
              "      <td>0.1</td>\n",
              "      <td>88.825556</td>\n",
              "      <td>386</td>\n",
              "    </tr>\n",
              "    <tr>\n",
              "      <th>3</th>\n",
              "      <td>560650.0</td>\n",
              "      <td>119.0</td>\n",
              "      <td>4711.344538</td>\n",
              "      <td>23.400</td>\n",
              "      <td>4.0</td>\n",
              "      <td>94.0</td>\n",
              "      <td>1.400</td>\n",
              "      <td>0.0</td>\n",
              "      <td>6.0</td>\n",
              "      <td>0.10</td>\n",
              "      <td>0.0</td>\n",
              "      <td>1.508302</td>\n",
              "      <td>104</td>\n",
              "    </tr>\n",
              "    <tr>\n",
              "      <th>4</th>\n",
              "      <td>392302.0</td>\n",
              "      <td>3048.0</td>\n",
              "      <td>128.708005</td>\n",
              "      <td>210.125</td>\n",
              "      <td>3.0</td>\n",
              "      <td>514.0</td>\n",
              "      <td>47.125</td>\n",
              "      <td>2.0</td>\n",
              "      <td>141.0</td>\n",
              "      <td>0.75</td>\n",
              "      <td>0.5</td>\n",
              "      <td>20.227262</td>\n",
              "      <td>281</td>\n",
              "    </tr>\n",
              "  </tbody>\n",
              "</table>\n",
              "</div>"
            ],
            "text/plain": [
              "   followers  following  ...  avg_timedelta_hrs  avg_word_count\n",
              "0   126790.0    38762.0  ...          26.393673             166\n",
              "1     1272.0      426.0  ...         217.188333              81\n",
              "2    74947.0       49.0  ...          88.825556             386\n",
              "3   560650.0      119.0  ...           1.508302             104\n",
              "4   392302.0     3048.0  ...          20.227262             281\n",
              "\n",
              "[5 rows x 13 columns]"
            ]
          },
          "metadata": {
            "tags": []
          },
          "execution_count": 4
        }
      ]
    },
    {
      "cell_type": "code",
      "metadata": {
        "id": "8F9w_Rr6smLk",
        "colab_type": "code",
        "colab": {
          "base_uri": "https://localhost:8080/",
          "height": 223
        },
        "outputId": "3001dcb3-251e-497b-c1b6-1d6758ce8c33"
      },
      "source": [
        "X_test_num = copy.deepcopy(X_test)\n",
        "del X_test_num['handle']\n",
        "del X_test_num['tweets_text']\n",
        "del X_test_num['hashtags']\n",
        "\n",
        "X_test_num.head()"
      ],
      "execution_count": 5,
      "outputs": [
        {
          "output_type": "execute_result",
          "data": {
            "text/html": [
              "<div>\n",
              "<style scoped>\n",
              "    .dataframe tbody tr th:only-of-type {\n",
              "        vertical-align: middle;\n",
              "    }\n",
              "\n",
              "    .dataframe tbody tr th {\n",
              "        vertical-align: top;\n",
              "    }\n",
              "\n",
              "    .dataframe thead th {\n",
              "        text-align: right;\n",
              "    }\n",
              "</style>\n",
              "<table border=\"1\" class=\"dataframe\">\n",
              "  <thead>\n",
              "    <tr style=\"text-align: right;\">\n",
              "      <th></th>\n",
              "      <th>followers</th>\n",
              "      <th>following</th>\n",
              "      <th>follower_following_ratio</th>\n",
              "      <th>avg_favorites</th>\n",
              "      <th>min_favorites</th>\n",
              "      <th>max_favorites</th>\n",
              "      <th>avg_retweets</th>\n",
              "      <th>min_retweets</th>\n",
              "      <th>max_retweets</th>\n",
              "      <th>hashtags_per_tweet</th>\n",
              "      <th>mentions_per_tweet</th>\n",
              "      <th>avg_timedelta_hrs</th>\n",
              "      <th>avg_word_count</th>\n",
              "    </tr>\n",
              "  </thead>\n",
              "  <tbody>\n",
              "    <tr>\n",
              "      <th>1699</th>\n",
              "      <td>3946343.0</td>\n",
              "      <td>69.0</td>\n",
              "      <td>57193.376812</td>\n",
              "      <td>5167.4</td>\n",
              "      <td>131.0</td>\n",
              "      <td>24727.0</td>\n",
              "      <td>163.5</td>\n",
              "      <td>1.0</td>\n",
              "      <td>729.0</td>\n",
              "      <td>0.7</td>\n",
              "      <td>0.1</td>\n",
              "      <td>8.068981</td>\n",
              "      <td>109</td>\n",
              "    </tr>\n",
              "    <tr>\n",
              "      <th>1700</th>\n",
              "      <td>54359.0</td>\n",
              "      <td>17.0</td>\n",
              "      <td>3197.588235</td>\n",
              "      <td>548.5</td>\n",
              "      <td>234.0</td>\n",
              "      <td>1230.0</td>\n",
              "      <td>58.7</td>\n",
              "      <td>17.0</td>\n",
              "      <td>110.0</td>\n",
              "      <td>0.0</td>\n",
              "      <td>0.0</td>\n",
              "      <td>8.208519</td>\n",
              "      <td>54</td>\n",
              "    </tr>\n",
              "    <tr>\n",
              "      <th>1701</th>\n",
              "      <td>778.0</td>\n",
              "      <td>659.0</td>\n",
              "      <td>1.180577</td>\n",
              "      <td>2.6</td>\n",
              "      <td>0.0</td>\n",
              "      <td>13.0</td>\n",
              "      <td>0.3</td>\n",
              "      <td>0.0</td>\n",
              "      <td>2.0</td>\n",
              "      <td>0.0</td>\n",
              "      <td>0.0</td>\n",
              "      <td>20.997809</td>\n",
              "      <td>121</td>\n",
              "    </tr>\n",
              "    <tr>\n",
              "      <th>1702</th>\n",
              "      <td>114.0</td>\n",
              "      <td>148.0</td>\n",
              "      <td>0.770270</td>\n",
              "      <td>0.0</td>\n",
              "      <td>0.0</td>\n",
              "      <td>0.0</td>\n",
              "      <td>0.0</td>\n",
              "      <td>0.0</td>\n",
              "      <td>0.0</td>\n",
              "      <td>0.0</td>\n",
              "      <td>0.0</td>\n",
              "      <td>7.273642</td>\n",
              "      <td>54</td>\n",
              "    </tr>\n",
              "    <tr>\n",
              "      <th>1703</th>\n",
              "      <td>256.0</td>\n",
              "      <td>207.0</td>\n",
              "      <td>1.236715</td>\n",
              "      <td>4.4</td>\n",
              "      <td>0.0</td>\n",
              "      <td>28.0</td>\n",
              "      <td>1.2</td>\n",
              "      <td>0.0</td>\n",
              "      <td>5.0</td>\n",
              "      <td>0.0</td>\n",
              "      <td>0.1</td>\n",
              "      <td>490.341358</td>\n",
              "      <td>76</td>\n",
              "    </tr>\n",
              "  </tbody>\n",
              "</table>\n",
              "</div>"
            ],
            "text/plain": [
              "      followers  following  ...  avg_timedelta_hrs  avg_word_count\n",
              "1699  3946343.0       69.0  ...           8.068981             109\n",
              "1700    54359.0       17.0  ...           8.208519              54\n",
              "1701      778.0      659.0  ...          20.997809             121\n",
              "1702      114.0      148.0  ...           7.273642              54\n",
              "1703      256.0      207.0  ...         490.341358              76\n",
              "\n",
              "[5 rows x 13 columns]"
            ]
          },
          "metadata": {
            "tags": []
          },
          "execution_count": 5
        }
      ]
    },
    {
      "cell_type": "code",
      "metadata": {
        "id": "5SbEbeyvtR1y",
        "colab_type": "code",
        "colab": {
          "base_uri": "https://localhost:8080/",
          "height": 248
        },
        "outputId": "f3456100-e5b4-424a-f75b-01daab4d3b82"
      },
      "source": [
        "!pip install scikit-optimize"
      ],
      "execution_count": 6,
      "outputs": [
        {
          "output_type": "stream",
          "text": [
            "Collecting scikit-optimize\n",
            "\u001b[?25l  Downloading https://files.pythonhosted.org/packages/5c/87/310b52debfbc0cb79764e5770fa3f5c18f6f0754809ea9e2fc185e1b67d3/scikit_optimize-0.7.4-py2.py3-none-any.whl (80kB)\n",
            "\u001b[K     |████████████████████████████████| 81kB 2.2MB/s \n",
            "\u001b[?25hRequirement already satisfied: scikit-learn>=0.19.1 in /usr/local/lib/python3.6/dist-packages (from scikit-optimize) (0.22.2.post1)\n",
            "Requirement already satisfied: joblib>=0.11 in /usr/local/lib/python3.6/dist-packages (from scikit-optimize) (0.14.1)\n",
            "Requirement already satisfied: numpy>=1.11.0 in /usr/local/lib/python3.6/dist-packages (from scikit-optimize) (1.18.3)\n",
            "Collecting pyaml>=16.9\n",
            "  Downloading https://files.pythonhosted.org/packages/15/c4/1310a054d33abc318426a956e7d6df0df76a6ddfa9c66f6310274fb75d42/pyaml-20.4.0-py2.py3-none-any.whl\n",
            "Requirement already satisfied: scipy>=0.18.0 in /usr/local/lib/python3.6/dist-packages (from scikit-optimize) (1.4.1)\n",
            "Requirement already satisfied: PyYAML in /usr/local/lib/python3.6/dist-packages (from pyaml>=16.9->scikit-optimize) (3.13)\n",
            "Installing collected packages: pyaml, scikit-optimize\n",
            "Successfully installed pyaml-20.4.0 scikit-optimize-0.7.4\n"
          ],
          "name": "stdout"
        }
      ]
    },
    {
      "cell_type": "code",
      "metadata": {
        "id": "M7JXahkSuEEo",
        "colab_type": "code",
        "colab": {
          "base_uri": "https://localhost:8080/",
          "height": 223
        },
        "outputId": "85253a10-9257-4e46-dbce-185cd183e0a1"
      },
      "source": [
        "all_metadata = pd.concat((X_train_num.loc[:,'followers':'avg_word_count'], X_test_num.loc[:,'followers':'avg_word_count'])).reset_index(drop=True)\n",
        "y = pd.concat((y_train, y_test))\n",
        "\n",
        "all_metadata.head()"
      ],
      "execution_count": 7,
      "outputs": [
        {
          "output_type": "execute_result",
          "data": {
            "text/html": [
              "<div>\n",
              "<style scoped>\n",
              "    .dataframe tbody tr th:only-of-type {\n",
              "        vertical-align: middle;\n",
              "    }\n",
              "\n",
              "    .dataframe tbody tr th {\n",
              "        vertical-align: top;\n",
              "    }\n",
              "\n",
              "    .dataframe thead th {\n",
              "        text-align: right;\n",
              "    }\n",
              "</style>\n",
              "<table border=\"1\" class=\"dataframe\">\n",
              "  <thead>\n",
              "    <tr style=\"text-align: right;\">\n",
              "      <th></th>\n",
              "      <th>followers</th>\n",
              "      <th>following</th>\n",
              "      <th>follower_following_ratio</th>\n",
              "      <th>avg_favorites</th>\n",
              "      <th>min_favorites</th>\n",
              "      <th>max_favorites</th>\n",
              "      <th>avg_retweets</th>\n",
              "      <th>min_retweets</th>\n",
              "      <th>max_retweets</th>\n",
              "      <th>hashtags_per_tweet</th>\n",
              "      <th>mentions_per_tweet</th>\n",
              "      <th>avg_timedelta_hrs</th>\n",
              "      <th>avg_word_count</th>\n",
              "    </tr>\n",
              "  </thead>\n",
              "  <tbody>\n",
              "    <tr>\n",
              "      <th>0</th>\n",
              "      <td>126790.0</td>\n",
              "      <td>38762.0</td>\n",
              "      <td>3.270987</td>\n",
              "      <td>367.000</td>\n",
              "      <td>207.0</td>\n",
              "      <td>663.0</td>\n",
              "      <td>31.800</td>\n",
              "      <td>18.0</td>\n",
              "      <td>64.0</td>\n",
              "      <td>0.50</td>\n",
              "      <td>0.1</td>\n",
              "      <td>26.393673</td>\n",
              "      <td>166</td>\n",
              "    </tr>\n",
              "    <tr>\n",
              "      <th>1</th>\n",
              "      <td>1272.0</td>\n",
              "      <td>426.0</td>\n",
              "      <td>2.985915</td>\n",
              "      <td>10.700</td>\n",
              "      <td>0.0</td>\n",
              "      <td>55.0</td>\n",
              "      <td>6.300</td>\n",
              "      <td>0.0</td>\n",
              "      <td>52.0</td>\n",
              "      <td>0.20</td>\n",
              "      <td>0.2</td>\n",
              "      <td>217.188333</td>\n",
              "      <td>81</td>\n",
              "    </tr>\n",
              "    <tr>\n",
              "      <th>2</th>\n",
              "      <td>74947.0</td>\n",
              "      <td>49.0</td>\n",
              "      <td>1529.530612</td>\n",
              "      <td>181.100</td>\n",
              "      <td>42.0</td>\n",
              "      <td>774.0</td>\n",
              "      <td>15.400</td>\n",
              "      <td>3.0</td>\n",
              "      <td>53.0</td>\n",
              "      <td>0.50</td>\n",
              "      <td>0.1</td>\n",
              "      <td>88.825556</td>\n",
              "      <td>386</td>\n",
              "    </tr>\n",
              "    <tr>\n",
              "      <th>3</th>\n",
              "      <td>560650.0</td>\n",
              "      <td>119.0</td>\n",
              "      <td>4711.344538</td>\n",
              "      <td>23.400</td>\n",
              "      <td>4.0</td>\n",
              "      <td>94.0</td>\n",
              "      <td>1.400</td>\n",
              "      <td>0.0</td>\n",
              "      <td>6.0</td>\n",
              "      <td>0.10</td>\n",
              "      <td>0.0</td>\n",
              "      <td>1.508302</td>\n",
              "      <td>104</td>\n",
              "    </tr>\n",
              "    <tr>\n",
              "      <th>4</th>\n",
              "      <td>392302.0</td>\n",
              "      <td>3048.0</td>\n",
              "      <td>128.708005</td>\n",
              "      <td>210.125</td>\n",
              "      <td>3.0</td>\n",
              "      <td>514.0</td>\n",
              "      <td>47.125</td>\n",
              "      <td>2.0</td>\n",
              "      <td>141.0</td>\n",
              "      <td>0.75</td>\n",
              "      <td>0.5</td>\n",
              "      <td>20.227262</td>\n",
              "      <td>281</td>\n",
              "    </tr>\n",
              "  </tbody>\n",
              "</table>\n",
              "</div>"
            ],
            "text/plain": [
              "   followers  following  ...  avg_timedelta_hrs  avg_word_count\n",
              "0   126790.0    38762.0  ...          26.393673             166\n",
              "1     1272.0      426.0  ...         217.188333              81\n",
              "2    74947.0       49.0  ...          88.825556             386\n",
              "3   560650.0      119.0  ...           1.508302             104\n",
              "4   392302.0     3048.0  ...          20.227262             281\n",
              "\n",
              "[5 rows x 13 columns]"
            ]
          },
          "metadata": {
            "tags": []
          },
          "execution_count": 7
        }
      ]
    },
    {
      "cell_type": "code",
      "metadata": {
        "id": "nRt3_9S6vJPt",
        "colab_type": "code",
        "colab": {
          "base_uri": "https://localhost:8080/",
          "height": 223
        },
        "outputId": "099778d5-f912-4f7d-85cd-f9252a5d71dc"
      },
      "source": [
        "all_metadata = all_metadata.replace([np.inf, -np.inf], np.nan)\n",
        "all_metadata = all_metadata.fillna(0)\n",
        "y.fillna(0)\n",
        "\n",
        "all_metadata.head()"
      ],
      "execution_count": 37,
      "outputs": [
        {
          "output_type": "execute_result",
          "data": {
            "text/html": [
              "<div>\n",
              "<style scoped>\n",
              "    .dataframe tbody tr th:only-of-type {\n",
              "        vertical-align: middle;\n",
              "    }\n",
              "\n",
              "    .dataframe tbody tr th {\n",
              "        vertical-align: top;\n",
              "    }\n",
              "\n",
              "    .dataframe thead th {\n",
              "        text-align: right;\n",
              "    }\n",
              "</style>\n",
              "<table border=\"1\" class=\"dataframe\">\n",
              "  <thead>\n",
              "    <tr style=\"text-align: right;\">\n",
              "      <th></th>\n",
              "      <th>followers</th>\n",
              "      <th>following</th>\n",
              "      <th>follower_following_ratio</th>\n",
              "      <th>avg_favorites</th>\n",
              "      <th>min_favorites</th>\n",
              "      <th>max_favorites</th>\n",
              "      <th>avg_retweets</th>\n",
              "      <th>min_retweets</th>\n",
              "      <th>max_retweets</th>\n",
              "      <th>hashtags_per_tweet</th>\n",
              "      <th>mentions_per_tweet</th>\n",
              "      <th>avg_timedelta_hrs</th>\n",
              "      <th>avg_word_count</th>\n",
              "    </tr>\n",
              "  </thead>\n",
              "  <tbody>\n",
              "    <tr>\n",
              "      <th>0</th>\n",
              "      <td>126790.0</td>\n",
              "      <td>38762.0</td>\n",
              "      <td>3.270987</td>\n",
              "      <td>367.000</td>\n",
              "      <td>207.0</td>\n",
              "      <td>663.0</td>\n",
              "      <td>31.800</td>\n",
              "      <td>18.0</td>\n",
              "      <td>64.0</td>\n",
              "      <td>0.50</td>\n",
              "      <td>0.1</td>\n",
              "      <td>26.393673</td>\n",
              "      <td>166</td>\n",
              "    </tr>\n",
              "    <tr>\n",
              "      <th>1</th>\n",
              "      <td>1272.0</td>\n",
              "      <td>426.0</td>\n",
              "      <td>2.985915</td>\n",
              "      <td>10.700</td>\n",
              "      <td>0.0</td>\n",
              "      <td>55.0</td>\n",
              "      <td>6.300</td>\n",
              "      <td>0.0</td>\n",
              "      <td>52.0</td>\n",
              "      <td>0.20</td>\n",
              "      <td>0.2</td>\n",
              "      <td>217.188333</td>\n",
              "      <td>81</td>\n",
              "    </tr>\n",
              "    <tr>\n",
              "      <th>2</th>\n",
              "      <td>74947.0</td>\n",
              "      <td>49.0</td>\n",
              "      <td>1529.530612</td>\n",
              "      <td>181.100</td>\n",
              "      <td>42.0</td>\n",
              "      <td>774.0</td>\n",
              "      <td>15.400</td>\n",
              "      <td>3.0</td>\n",
              "      <td>53.0</td>\n",
              "      <td>0.50</td>\n",
              "      <td>0.1</td>\n",
              "      <td>88.825556</td>\n",
              "      <td>386</td>\n",
              "    </tr>\n",
              "    <tr>\n",
              "      <th>3</th>\n",
              "      <td>560650.0</td>\n",
              "      <td>119.0</td>\n",
              "      <td>4711.344538</td>\n",
              "      <td>23.400</td>\n",
              "      <td>4.0</td>\n",
              "      <td>94.0</td>\n",
              "      <td>1.400</td>\n",
              "      <td>0.0</td>\n",
              "      <td>6.0</td>\n",
              "      <td>0.10</td>\n",
              "      <td>0.0</td>\n",
              "      <td>1.508302</td>\n",
              "      <td>104</td>\n",
              "    </tr>\n",
              "    <tr>\n",
              "      <th>4</th>\n",
              "      <td>392302.0</td>\n",
              "      <td>3048.0</td>\n",
              "      <td>128.708005</td>\n",
              "      <td>210.125</td>\n",
              "      <td>3.0</td>\n",
              "      <td>514.0</td>\n",
              "      <td>47.125</td>\n",
              "      <td>2.0</td>\n",
              "      <td>141.0</td>\n",
              "      <td>0.75</td>\n",
              "      <td>0.5</td>\n",
              "      <td>20.227262</td>\n",
              "      <td>281</td>\n",
              "    </tr>\n",
              "  </tbody>\n",
              "</table>\n",
              "</div>"
            ],
            "text/plain": [
              "   followers  following  ...  avg_timedelta_hrs  avg_word_count\n",
              "0   126790.0    38762.0  ...          26.393673             166\n",
              "1     1272.0      426.0  ...         217.188333              81\n",
              "2    74947.0       49.0  ...          88.825556             386\n",
              "3   560650.0      119.0  ...           1.508302             104\n",
              "4   392302.0     3048.0  ...          20.227262             281\n",
              "\n",
              "[5 rows x 13 columns]"
            ]
          },
          "metadata": {
            "tags": []
          },
          "execution_count": 37
        }
      ]
    },
    {
      "cell_type": "code",
      "metadata": {
        "id": "RlPfibMzMxIx",
        "colab_type": "code",
        "colab": {
          "base_uri": "https://localhost:8080/",
          "height": 35
        },
        "outputId": "12016cdc-1a4d-4c83-87dc-99e7a0b6c425"
      },
      "source": [
        "np.all(np.isfinite(all_metadata))"
      ],
      "execution_count": 49,
      "outputs": [
        {
          "output_type": "execute_result",
          "data": {
            "text/plain": [
              "True"
            ]
          },
          "metadata": {
            "tags": []
          },
          "execution_count": 49
        }
      ]
    },
    {
      "cell_type": "code",
      "metadata": {
        "id": "EYi-N25oso4m",
        "colab_type": "code",
        "colab": {}
      },
      "source": [
        "# gradient boosted trees tend to do well on problems like this\n",
        "from xgboost import XGBClassifier\n",
        "\n",
        "xgb = XGBClassifier(n_estimators=500)"
      ],
      "execution_count": 0,
      "outputs": []
    },
    {
      "cell_type": "code",
      "metadata": {
        "id": "IgJpgUHmsttv",
        "colab_type": "code",
        "colab": {}
      },
      "source": [
        "from skopt.space import Real, Integer\n",
        "from skopt.utils import use_named_args\n",
        "\n",
        "# The list of hyper-parameters we want to optimize. For each one we define the\n",
        "# bounds, the corresponding scikit-learn parameter name, as well as how to\n",
        "# sample values from that dimension (`'log-uniform'` for the learning rate)\n",
        "space  = [Integer(3, 20, name='max_depth'),\n",
        "          Real(10**-5, 10**0, \"log-uniform\", name='learning_rate'),\n",
        "          Integer(1, 100, name='min_child_weight'),\n",
        "          Integer(100, 1000, name='n_estimators'),\n",
        "          Integer(0, 10, name='gamma')]\n",
        "\n",
        "# this decorator allows your objective function to receive a the parameters as\n",
        "# keyword arguments. This is particularly convenient when you want to set\n",
        "# scikit-learn estimator parameters\n",
        "@use_named_args(space)\n",
        "def objective(**params):\n",
        "    xgb.set_params(**params)\n",
        "\n",
        "    return -np.mean(cross_val_score(xgb, X=all_metadata, y=y, cv=5, n_jobs=-1,\n",
        "                                    scoring=\"accuracy\"))\n"
      ],
      "execution_count": 0,
      "outputs": []
    },
    {
      "cell_type": "code",
      "metadata": {
        "id": "UHMyozKIsyWe",
        "colab_type": "code",
        "colab": {
          "base_uri": "https://localhost:8080/",
          "height": 1000
        },
        "outputId": "8e9bdc6d-65df-40d3-95e2-e999e4d25999"
      },
      "source": [
        "from skopt import gp_minimize\n",
        "res_gp = gp_minimize(objective, space, n_calls=50, random_state=0, verbose=True)\n",
        "\n",
        "\"Best score=%.4f\" % res_gp.fun"
      ],
      "execution_count": 92,
      "outputs": [
        {
          "output_type": "stream",
          "text": [
            "Iteration No: 1 started. Evaluating function at random point.\n",
            "Iteration No: 1 ended. Evaluation done at random point.\n",
            "Time taken: 19.3584\n",
            "Function value obtained: -0.2971\n",
            "Current minimum: -0.2971\n",
            "Iteration No: 2 started. Evaluating function at random point.\n",
            "Iteration No: 2 ended. Evaluation done at random point.\n",
            "Time taken: 22.6152\n",
            "Function value obtained: -0.3023\n",
            "Current minimum: -0.3023\n",
            "Iteration No: 3 started. Evaluating function at random point.\n",
            "Iteration No: 3 ended. Evaluation done at random point.\n",
            "Time taken: 32.5237\n",
            "Function value obtained: -0.2990\n",
            "Current minimum: -0.3023\n",
            "Iteration No: 4 started. Evaluating function at random point.\n",
            "Iteration No: 4 ended. Evaluation done at random point.\n",
            "Time taken: 4.5399\n",
            "Function value obtained: -0.2980\n",
            "Current minimum: -0.3023\n",
            "Iteration No: 5 started. Evaluating function at random point.\n",
            "Iteration No: 5 ended. Evaluation done at random point.\n",
            "Time taken: 21.5602\n",
            "Function value obtained: -0.2980\n",
            "Current minimum: -0.3023\n",
            "Iteration No: 6 started. Evaluating function at random point.\n",
            "Iteration No: 6 ended. Evaluation done at random point.\n",
            "Time taken: 4.6771\n",
            "Function value obtained: -0.2862\n",
            "Current minimum: -0.3023\n",
            "Iteration No: 7 started. Evaluating function at random point.\n",
            "Iteration No: 7 ended. Evaluation done at random point.\n",
            "Time taken: 7.7022\n",
            "Function value obtained: -0.3074\n",
            "Current minimum: -0.3074\n",
            "Iteration No: 8 started. Evaluating function at random point.\n",
            "Iteration No: 8 ended. Evaluation done at random point.\n",
            "Time taken: 29.8581\n",
            "Function value obtained: -0.2853\n",
            "Current minimum: -0.3074\n",
            "Iteration No: 9 started. Evaluating function at random point.\n",
            "Iteration No: 9 ended. Evaluation done at random point.\n",
            "Time taken: 68.5328\n",
            "Function value obtained: -0.2976\n",
            "Current minimum: -0.3074\n",
            "Iteration No: 10 started. Evaluating function at random point.\n",
            "Iteration No: 10 ended. Evaluation done at random point.\n",
            "Time taken: 16.0955\n",
            "Function value obtained: -0.2914\n",
            "Current minimum: -0.3074\n",
            "Iteration No: 11 started. Searching for the next optimal point.\n",
            "Iteration No: 11 ended. Search finished for the next optimal point.\n",
            "Time taken: 15.0671\n",
            "Function value obtained: -0.2938\n",
            "Current minimum: -0.3074\n",
            "Iteration No: 12 started. Searching for the next optimal point.\n",
            "Iteration No: 12 ended. Search finished for the next optimal point.\n",
            "Time taken: 121.4169\n",
            "Function value obtained: -0.2980\n",
            "Current minimum: -0.3074\n",
            "Iteration No: 13 started. Searching for the next optimal point.\n",
            "Iteration No: 13 ended. Search finished for the next optimal point.\n",
            "Time taken: 17.0752\n",
            "Function value obtained: -0.2806\n",
            "Current minimum: -0.3074\n",
            "Iteration No: 14 started. Searching for the next optimal point.\n",
            "Iteration No: 14 ended. Search finished for the next optimal point.\n",
            "Time taken: 7.5733\n",
            "Function value obtained: -0.2928\n",
            "Current minimum: -0.3074\n",
            "Iteration No: 15 started. Searching for the next optimal point.\n",
            "Iteration No: 15 ended. Search finished for the next optimal point.\n",
            "Time taken: 4.3198\n",
            "Function value obtained: -0.2980\n",
            "Current minimum: -0.3074\n",
            "Iteration No: 16 started. Searching for the next optimal point.\n",
            "Iteration No: 16 ended. Search finished for the next optimal point.\n",
            "Time taken: 4.7305\n",
            "Function value obtained: -0.2980\n",
            "Current minimum: -0.3074\n",
            "Iteration No: 17 started. Searching for the next optimal point.\n"
          ],
          "name": "stdout"
        },
        {
          "output_type": "stream",
          "text": [
            "/usr/local/lib/python3.6/dist-packages/joblib/externals/loky/process_executor.py:706: UserWarning: A worker stopped while some jobs were given to the executor. This can be caused by a too short worker timeout or by a memory leak.\n",
            "  \"timeout or by a memory leak.\", UserWarning\n"
          ],
          "name": "stderr"
        },
        {
          "output_type": "stream",
          "text": [
            "Iteration No: 17 ended. Search finished for the next optimal point.\n",
            "Time taken: 139.7383\n",
            "Function value obtained: -0.2980\n",
            "Current minimum: -0.3074\n",
            "Iteration No: 18 started. Searching for the next optimal point.\n",
            "Iteration No: 18 ended. Search finished for the next optimal point.\n",
            "Time taken: 3.9155\n",
            "Function value obtained: -0.2980\n",
            "Current minimum: -0.3074\n",
            "Iteration No: 19 started. Searching for the next optimal point.\n",
            "Iteration No: 19 ended. Search finished for the next optimal point.\n",
            "Time taken: 21.1246\n",
            "Function value obtained: -0.2980\n",
            "Current minimum: -0.3074\n",
            "Iteration No: 20 started. Searching for the next optimal point.\n",
            "Iteration No: 20 ended. Search finished for the next optimal point.\n",
            "Time taken: 2.3906\n",
            "Function value obtained: -0.2980\n",
            "Current minimum: -0.3074\n",
            "Iteration No: 21 started. Searching for the next optimal point.\n",
            "Iteration No: 21 ended. Search finished for the next optimal point.\n",
            "Time taken: 2.3796\n",
            "Function value obtained: -0.2980\n",
            "Current minimum: -0.3074\n",
            "Iteration No: 22 started. Searching for the next optimal point.\n",
            "Iteration No: 22 ended. Search finished for the next optimal point.\n",
            "Time taken: 3.8401\n",
            "Function value obtained: -0.2872\n",
            "Current minimum: -0.3074\n",
            "Iteration No: 23 started. Searching for the next optimal point.\n",
            "Iteration No: 23 ended. Search finished for the next optimal point.\n",
            "Time taken: 14.5372\n",
            "Function value obtained: -0.2980\n",
            "Current minimum: -0.3074\n",
            "Iteration No: 24 started. Searching for the next optimal point.\n",
            "Iteration No: 24 ended. Search finished for the next optimal point.\n",
            "Time taken: 19.2820\n",
            "Function value obtained: -0.2980\n",
            "Current minimum: -0.3074\n",
            "Iteration No: 25 started. Searching for the next optimal point.\n",
            "Iteration No: 25 ended. Search finished for the next optimal point.\n",
            "Time taken: 19.8823\n",
            "Function value obtained: -0.2980\n",
            "Current minimum: -0.3074\n",
            "Iteration No: 26 started. Searching for the next optimal point.\n",
            "Iteration No: 26 ended. Search finished for the next optimal point.\n",
            "Time taken: 24.3226\n",
            "Function value obtained: -0.2830\n",
            "Current minimum: -0.3074\n",
            "Iteration No: 27 started. Searching for the next optimal point.\n",
            "Iteration No: 27 ended. Search finished for the next optimal point.\n",
            "Time taken: 18.1635\n",
            "Function value obtained: -0.2980\n",
            "Current minimum: -0.3074\n",
            "Iteration No: 28 started. Searching for the next optimal point.\n",
            "Iteration No: 28 ended. Search finished for the next optimal point.\n",
            "Time taken: 18.0033\n",
            "Function value obtained: -0.2980\n",
            "Current minimum: -0.3074\n",
            "Iteration No: 29 started. Searching for the next optimal point.\n",
            "Iteration No: 29 ended. Search finished for the next optimal point.\n",
            "Time taken: 3.0690\n",
            "Function value obtained: -0.2980\n",
            "Current minimum: -0.3074\n",
            "Iteration No: 30 started. Searching for the next optimal point.\n",
            "Iteration No: 30 ended. Search finished for the next optimal point.\n",
            "Time taken: 19.1421\n",
            "Function value obtained: -0.2980\n",
            "Current minimum: -0.3074\n",
            "Iteration No: 31 started. Searching for the next optimal point.\n",
            "Iteration No: 31 ended. Search finished for the next optimal point.\n",
            "Time taken: 15.2086\n",
            "Function value obtained: -0.2980\n",
            "Current minimum: -0.3074\n",
            "Iteration No: 32 started. Searching for the next optimal point.\n",
            "Iteration No: 32 ended. Search finished for the next optimal point.\n",
            "Time taken: 61.6096\n",
            "Function value obtained: -0.2980\n",
            "Current minimum: -0.3074\n",
            "Iteration No: 33 started. Searching for the next optimal point.\n",
            "Iteration No: 33 ended. Search finished for the next optimal point.\n",
            "Time taken: 2.7840\n",
            "Function value obtained: -0.2980\n",
            "Current minimum: -0.3074\n",
            "Iteration No: 34 started. Searching for the next optimal point.\n",
            "Iteration No: 34 ended. Search finished for the next optimal point.\n",
            "Time taken: 16.3409\n",
            "Function value obtained: -0.2863\n",
            "Current minimum: -0.3074\n",
            "Iteration No: 35 started. Searching for the next optimal point.\n"
          ],
          "name": "stdout"
        },
        {
          "output_type": "stream",
          "text": [
            "/usr/local/lib/python3.6/dist-packages/skopt/optimizer/optimizer.py:409: UserWarning: The objective has been evaluated at this point before.\n",
            "  warnings.warn(\"The objective has been evaluated \"\n"
          ],
          "name": "stderr"
        },
        {
          "output_type": "stream",
          "text": [
            "Iteration No: 35 ended. Search finished for the next optimal point.\n",
            "Time taken: 2.5949\n",
            "Function value obtained: -0.2980\n",
            "Current minimum: -0.3074\n",
            "Iteration No: 36 started. Searching for the next optimal point.\n",
            "Iteration No: 36 ended. Search finished for the next optimal point.\n",
            "Time taken: 4.2218\n",
            "Function value obtained: -0.2980\n",
            "Current minimum: -0.3074\n",
            "Iteration No: 37 started. Searching for the next optimal point.\n",
            "Iteration No: 37 ended. Search finished for the next optimal point.\n",
            "Time taken: 23.0872\n",
            "Function value obtained: -0.2980\n",
            "Current minimum: -0.3074\n",
            "Iteration No: 38 started. Searching for the next optimal point.\n",
            "Iteration No: 38 ended. Search finished for the next optimal point.\n",
            "Time taken: 109.9419\n",
            "Function value obtained: -0.2980\n",
            "Current minimum: -0.3074\n",
            "Iteration No: 39 started. Searching for the next optimal point.\n",
            "Iteration No: 39 ended. Search finished for the next optimal point.\n",
            "Time taken: 3.1533\n",
            "Function value obtained: -0.2933\n",
            "Current minimum: -0.3074\n",
            "Iteration No: 40 started. Searching for the next optimal point.\n",
            "Iteration No: 40 ended. Search finished for the next optimal point.\n",
            "Time taken: 7.5352\n",
            "Function value obtained: -0.2980\n",
            "Current minimum: -0.3074\n",
            "Iteration No: 41 started. Searching for the next optimal point.\n",
            "Iteration No: 41 ended. Search finished for the next optimal point.\n",
            "Time taken: 79.9652\n",
            "Function value obtained: -0.2985\n",
            "Current minimum: -0.3074\n",
            "Iteration No: 42 started. Searching for the next optimal point.\n",
            "Iteration No: 42 ended. Search finished for the next optimal point.\n",
            "Time taken: 20.5436\n",
            "Function value obtained: -0.2980\n",
            "Current minimum: -0.3074\n",
            "Iteration No: 43 started. Searching for the next optimal point.\n"
          ],
          "name": "stdout"
        },
        {
          "output_type": "stream",
          "text": [
            "/usr/local/lib/python3.6/dist-packages/skopt/optimizer/optimizer.py:409: UserWarning: The objective has been evaluated at this point before.\n",
            "  warnings.warn(\"The objective has been evaluated \"\n"
          ],
          "name": "stderr"
        },
        {
          "output_type": "stream",
          "text": [
            "Iteration No: 43 ended. Search finished for the next optimal point.\n",
            "Time taken: 2.6177\n",
            "Function value obtained: -0.2980\n",
            "Current minimum: -0.3074\n",
            "Iteration No: 44 started. Searching for the next optimal point.\n",
            "Iteration No: 44 ended. Search finished for the next optimal point.\n",
            "Time taken: 3.2949\n",
            "Function value obtained: -0.2933\n",
            "Current minimum: -0.3074\n",
            "Iteration No: 45 started. Searching for the next optimal point.\n"
          ],
          "name": "stdout"
        },
        {
          "output_type": "stream",
          "text": [
            "/usr/local/lib/python3.6/dist-packages/skopt/optimizer/optimizer.py:409: UserWarning: The objective has been evaluated at this point before.\n",
            "  warnings.warn(\"The objective has been evaluated \"\n"
          ],
          "name": "stderr"
        },
        {
          "output_type": "stream",
          "text": [
            "Iteration No: 45 ended. Search finished for the next optimal point.\n",
            "Time taken: 20.5774\n",
            "Function value obtained: -0.2980\n",
            "Current minimum: -0.3074\n",
            "Iteration No: 46 started. Searching for the next optimal point.\n",
            "Iteration No: 46 ended. Search finished for the next optimal point.\n",
            "Time taken: 15.1837\n",
            "Function value obtained: -0.3009\n",
            "Current minimum: -0.3074\n",
            "Iteration No: 47 started. Searching for the next optimal point.\n",
            "Iteration No: 47 ended. Search finished for the next optimal point.\n",
            "Time taken: 32.7993\n",
            "Function value obtained: -0.2976\n",
            "Current minimum: -0.3074\n",
            "Iteration No: 48 started. Searching for the next optimal point.\n",
            "Iteration No: 48 ended. Search finished for the next optimal point.\n",
            "Time taken: 2.6197\n",
            "Function value obtained: -0.2961\n",
            "Current minimum: -0.3074\n",
            "Iteration No: 49 started. Searching for the next optimal point.\n",
            "Iteration No: 49 ended. Search finished for the next optimal point.\n",
            "Time taken: 19.6199\n",
            "Function value obtained: -0.3004\n",
            "Current minimum: -0.3074\n",
            "Iteration No: 50 started. Searching for the next optimal point.\n"
          ],
          "name": "stdout"
        },
        {
          "output_type": "stream",
          "text": [
            "/usr/local/lib/python3.6/dist-packages/joblib/externals/loky/process_executor.py:706: UserWarning: A worker stopped while some jobs were given to the executor. This can be caused by a too short worker timeout or by a memory leak.\n",
            "  \"timeout or by a memory leak.\", UserWarning\n"
          ],
          "name": "stderr"
        },
        {
          "output_type": "stream",
          "text": [
            "Iteration No: 50 ended. Search finished for the next optimal point.\n",
            "Time taken: 142.4908\n",
            "Function value obtained: -0.2980\n",
            "Current minimum: -0.3074\n"
          ],
          "name": "stdout"
        },
        {
          "output_type": "execute_result",
          "data": {
            "text/plain": [
              "'Best score=-0.3074'"
            ]
          },
          "metadata": {
            "tags": []
          },
          "execution_count": 92
        }
      ]
    },
    {
      "cell_type": "code",
      "metadata": {
        "id": "sskUXPj2s7zE",
        "colab_type": "code",
        "colab": {
          "base_uri": "https://localhost:8080/",
          "height": 123
        },
        "outputId": "4edbd9e8-2f1a-42b4-b23f-8bc654160c7f"
      },
      "source": [
        "print(\"\"\"Best parameters:\n",
        "- max_depth=%d\n",
        "- learning_rate=%.6f\n",
        "- min_child_weight=%d\n",
        "- n_estimators=%d\n",
        "- gamma=%d\"\"\" % (res_gp.x[0], res_gp.x[1],\n",
        "                            res_gp.x[2], res_gp.x[3],\n",
        "                            res_gp.x[4]))"
      ],
      "execution_count": 93,
      "outputs": [
        {
          "output_type": "stream",
          "text": [
            "Best parameters:\n",
            "- max_depth=6\n",
            "- learning_rate=0.048372\n",
            "- min_child_weight=22\n",
            "- n_estimators=222\n",
            "- gamma=3\n"
          ],
          "name": "stdout"
        }
      ]
    },
    {
      "cell_type": "code",
      "metadata": {
        "id": "jiO6hB2MQ8sX",
        "colab_type": "code",
        "colab": {
          "base_uri": "https://localhost:8080/",
          "height": 140
        },
        "outputId": "d1eca064-a6ab-4fa8-b415-8db7e072bc36"
      },
      "source": [
        "xgb = XGBClassifier(max_depth=6, learning_rate=0.048372, min_child_weight=22, n_estimators=222, gamma=3)\n",
        "xgb.fit(X_train_num, y_train)"
      ],
      "execution_count": 94,
      "outputs": [
        {
          "output_type": "execute_result",
          "data": {
            "text/plain": [
              "XGBClassifier(base_score=0.5, booster='gbtree', colsample_bylevel=1,\n",
              "              colsample_bynode=1, colsample_bytree=1, gamma=3,\n",
              "              learning_rate=0.048372, max_delta_step=0, max_depth=6,\n",
              "              min_child_weight=22, missing=None, n_estimators=222, n_jobs=1,\n",
              "              nthread=None, objective='multi:softprob', random_state=0,\n",
              "              reg_alpha=0, reg_lambda=1, scale_pos_weight=1, seed=None,\n",
              "              silent=None, subsample=1, verbosity=1)"
            ]
          },
          "metadata": {
            "tags": []
          },
          "execution_count": 94
        }
      ]
    },
    {
      "cell_type": "code",
      "metadata": {
        "id": "GuzpalS74HEs",
        "colab_type": "code",
        "colab": {
          "base_uri": "https://localhost:8080/",
          "height": 35
        },
        "outputId": "9079b67a-1c8b-4609-fe33-ecb096fcbfaa"
      },
      "source": [
        "from sklearn.metrics import accuracy_score\n",
        "\n",
        "accuracy_score(y_test, xgb.predict(X_test_num))"
      ],
      "execution_count": 95,
      "outputs": [
        {
          "output_type": "execute_result",
          "data": {
            "text/plain": [
              "0.31529411764705884"
            ]
          },
          "metadata": {
            "tags": []
          },
          "execution_count": 95
        }
      ]
    },
    {
      "cell_type": "code",
      "metadata": {
        "id": "-lnDO3er4XB_",
        "colab_type": "code",
        "colab": {}
      },
      "source": [
        ""
      ],
      "execution_count": 0,
      "outputs": []
    }
  ]
}
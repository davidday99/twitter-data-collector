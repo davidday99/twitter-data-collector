{
  "nbformat": 4,
  "nbformat_minor": 0,
  "metadata": {
    "colab": {
      "name": "benchmark.ipynb",
      "provenance": []
    },
    "kernelspec": {
      "name": "python3",
      "display_name": "Python 3"
    }
  },
  "cells": [
    {
      "cell_type": "code",
      "metadata": {
        "id": "9pRXfO1hyLp-",
        "colab_type": "code",
        "colab": {}
      },
      "source": [
        "import pandas as pd\n",
        "import numpy as np"
      ],
      "execution_count": 0,
      "outputs": []
    },
    {
      "cell_type": "code",
      "metadata": {
        "id": "uN7uk2WHy_-H",
        "colab_type": "code",
        "colab": {}
      },
      "source": [
        "test = pd.read_csv('profile_data_test.csv')\n",
        "train = pd.read_csv('profile_data_train.csv')\n",
        "\n",
        "all_data = pd.concat((test.loc[:,'handle':'avg_word_count'], train.loc[:,'handle':'avg_word_count'])).reset_index(drop=True)"
      ],
      "execution_count": 0,
      "outputs": []
    },
    {
      "cell_type": "code",
      "metadata": {
        "id": "7FWTOKBKzLHd",
        "colab_type": "code",
        "colab": {}
      },
      "source": [
        "X_train = all_data[:train.shape[0]]\n",
        "X_test = all_data[train.shape[0]:]\n",
        "\n",
        "y_train = train['age_group']\n",
        "y_test = test['age_group']"
      ],
      "execution_count": 0,
      "outputs": []
    },
    {
      "cell_type": "code",
      "metadata": {
        "id": "x1VtrYy83FtB",
        "colab_type": "code",
        "colab": {
          "base_uri": "https://localhost:8080/",
          "height": 223
        },
        "outputId": "6613450c-0dde-44f9-c63a-cac942a2af7f"
      },
      "source": [
        "# first try xgboost on numerical features only\n",
        "import copy\n",
        "\n",
        "X_train_num = copy.deepcopy(X_train)\n",
        "del X_train_num['handle']\n",
        "del X_train_num['tweets_text']\n",
        "del X_train_num['hashtags']\n",
        "\n",
        "X_train_num.head()"
      ],
      "execution_count": 22,
      "outputs": [
        {
          "output_type": "execute_result",
          "data": {
            "text/html": [
              "<div>\n",
              "<style scoped>\n",
              "    .dataframe tbody tr th:only-of-type {\n",
              "        vertical-align: middle;\n",
              "    }\n",
              "\n",
              "    .dataframe tbody tr th {\n",
              "        vertical-align: top;\n",
              "    }\n",
              "\n",
              "    .dataframe thead th {\n",
              "        text-align: right;\n",
              "    }\n",
              "</style>\n",
              "<table border=\"1\" class=\"dataframe\">\n",
              "  <thead>\n",
              "    <tr style=\"text-align: right;\">\n",
              "      <th></th>\n",
              "      <th>followers</th>\n",
              "      <th>following</th>\n",
              "      <th>follower_following_ratio</th>\n",
              "      <th>avg_favorites</th>\n",
              "      <th>min_favorites</th>\n",
              "      <th>max_favorites</th>\n",
              "      <th>avg_retweets</th>\n",
              "      <th>min_retweets</th>\n",
              "      <th>max_retweets</th>\n",
              "      <th>hashtags_per_tweet</th>\n",
              "      <th>mentions_per_tweet</th>\n",
              "      <th>avg_timedelta_hrs</th>\n",
              "      <th>avg_word_count</th>\n",
              "    </tr>\n",
              "  </thead>\n",
              "  <tbody>\n",
              "    <tr>\n",
              "      <th>0</th>\n",
              "      <td>126790.0</td>\n",
              "      <td>38762.0</td>\n",
              "      <td>3.270987</td>\n",
              "      <td>367.000</td>\n",
              "      <td>207.0</td>\n",
              "      <td>663.0</td>\n",
              "      <td>31.800</td>\n",
              "      <td>18.0</td>\n",
              "      <td>64.0</td>\n",
              "      <td>0.50</td>\n",
              "      <td>0.1</td>\n",
              "      <td>26.393673</td>\n",
              "      <td>166</td>\n",
              "    </tr>\n",
              "    <tr>\n",
              "      <th>1</th>\n",
              "      <td>1272.0</td>\n",
              "      <td>426.0</td>\n",
              "      <td>2.985915</td>\n",
              "      <td>10.700</td>\n",
              "      <td>0.0</td>\n",
              "      <td>55.0</td>\n",
              "      <td>6.300</td>\n",
              "      <td>0.0</td>\n",
              "      <td>52.0</td>\n",
              "      <td>0.20</td>\n",
              "      <td>0.2</td>\n",
              "      <td>217.188333</td>\n",
              "      <td>81</td>\n",
              "    </tr>\n",
              "    <tr>\n",
              "      <th>2</th>\n",
              "      <td>74947.0</td>\n",
              "      <td>49.0</td>\n",
              "      <td>1529.530612</td>\n",
              "      <td>181.100</td>\n",
              "      <td>42.0</td>\n",
              "      <td>774.0</td>\n",
              "      <td>15.400</td>\n",
              "      <td>3.0</td>\n",
              "      <td>53.0</td>\n",
              "      <td>0.50</td>\n",
              "      <td>0.1</td>\n",
              "      <td>88.825556</td>\n",
              "      <td>386</td>\n",
              "    </tr>\n",
              "    <tr>\n",
              "      <th>3</th>\n",
              "      <td>560650.0</td>\n",
              "      <td>119.0</td>\n",
              "      <td>4711.344538</td>\n",
              "      <td>23.400</td>\n",
              "      <td>4.0</td>\n",
              "      <td>94.0</td>\n",
              "      <td>1.400</td>\n",
              "      <td>0.0</td>\n",
              "      <td>6.0</td>\n",
              "      <td>0.10</td>\n",
              "      <td>0.0</td>\n",
              "      <td>1.508302</td>\n",
              "      <td>104</td>\n",
              "    </tr>\n",
              "    <tr>\n",
              "      <th>4</th>\n",
              "      <td>392302.0</td>\n",
              "      <td>3048.0</td>\n",
              "      <td>128.708005</td>\n",
              "      <td>210.125</td>\n",
              "      <td>3.0</td>\n",
              "      <td>514.0</td>\n",
              "      <td>47.125</td>\n",
              "      <td>2.0</td>\n",
              "      <td>141.0</td>\n",
              "      <td>0.75</td>\n",
              "      <td>0.5</td>\n",
              "      <td>20.227262</td>\n",
              "      <td>281</td>\n",
              "    </tr>\n",
              "  </tbody>\n",
              "</table>\n",
              "</div>"
            ],
            "text/plain": [
              "   followers  following  ...  avg_timedelta_hrs  avg_word_count\n",
              "0   126790.0    38762.0  ...          26.393673             166\n",
              "1     1272.0      426.0  ...         217.188333              81\n",
              "2    74947.0       49.0  ...          88.825556             386\n",
              "3   560650.0      119.0  ...           1.508302             104\n",
              "4   392302.0     3048.0  ...          20.227262             281\n",
              "\n",
              "[5 rows x 13 columns]"
            ]
          },
          "metadata": {
            "tags": []
          },
          "execution_count": 22
        }
      ]
    },
    {
      "cell_type": "code",
      "metadata": {
        "id": "84RnL5WI36_M",
        "colab_type": "code",
        "colab": {
          "base_uri": "https://localhost:8080/",
          "height": 223
        },
        "outputId": "837333d6-d466-462b-b726-698159a907f1"
      },
      "source": [
        "X_test_num = copy.deepcopy(X_test)\n",
        "del X_test_num['handle']\n",
        "del X_test_num['tweets_text']\n",
        "del X_test_num['hashtags']\n",
        "\n",
        "X_test_num.head()"
      ],
      "execution_count": 23,
      "outputs": [
        {
          "output_type": "execute_result",
          "data": {
            "text/html": [
              "<div>\n",
              "<style scoped>\n",
              "    .dataframe tbody tr th:only-of-type {\n",
              "        vertical-align: middle;\n",
              "    }\n",
              "\n",
              "    .dataframe tbody tr th {\n",
              "        vertical-align: top;\n",
              "    }\n",
              "\n",
              "    .dataframe thead th {\n",
              "        text-align: right;\n",
              "    }\n",
              "</style>\n",
              "<table border=\"1\" class=\"dataframe\">\n",
              "  <thead>\n",
              "    <tr style=\"text-align: right;\">\n",
              "      <th></th>\n",
              "      <th>followers</th>\n",
              "      <th>following</th>\n",
              "      <th>follower_following_ratio</th>\n",
              "      <th>avg_favorites</th>\n",
              "      <th>min_favorites</th>\n",
              "      <th>max_favorites</th>\n",
              "      <th>avg_retweets</th>\n",
              "      <th>min_retweets</th>\n",
              "      <th>max_retweets</th>\n",
              "      <th>hashtags_per_tweet</th>\n",
              "      <th>mentions_per_tweet</th>\n",
              "      <th>avg_timedelta_hrs</th>\n",
              "      <th>avg_word_count</th>\n",
              "    </tr>\n",
              "  </thead>\n",
              "  <tbody>\n",
              "    <tr>\n",
              "      <th>1699</th>\n",
              "      <td>3946343.0</td>\n",
              "      <td>69.0</td>\n",
              "      <td>57193.376812</td>\n",
              "      <td>5167.4</td>\n",
              "      <td>131.0</td>\n",
              "      <td>24727.0</td>\n",
              "      <td>163.5</td>\n",
              "      <td>1.0</td>\n",
              "      <td>729.0</td>\n",
              "      <td>0.7</td>\n",
              "      <td>0.1</td>\n",
              "      <td>8.068981</td>\n",
              "      <td>109</td>\n",
              "    </tr>\n",
              "    <tr>\n",
              "      <th>1700</th>\n",
              "      <td>54359.0</td>\n",
              "      <td>17.0</td>\n",
              "      <td>3197.588235</td>\n",
              "      <td>548.5</td>\n",
              "      <td>234.0</td>\n",
              "      <td>1230.0</td>\n",
              "      <td>58.7</td>\n",
              "      <td>17.0</td>\n",
              "      <td>110.0</td>\n",
              "      <td>0.0</td>\n",
              "      <td>0.0</td>\n",
              "      <td>8.208519</td>\n",
              "      <td>54</td>\n",
              "    </tr>\n",
              "    <tr>\n",
              "      <th>1701</th>\n",
              "      <td>778.0</td>\n",
              "      <td>659.0</td>\n",
              "      <td>1.180577</td>\n",
              "      <td>2.6</td>\n",
              "      <td>0.0</td>\n",
              "      <td>13.0</td>\n",
              "      <td>0.3</td>\n",
              "      <td>0.0</td>\n",
              "      <td>2.0</td>\n",
              "      <td>0.0</td>\n",
              "      <td>0.0</td>\n",
              "      <td>20.997809</td>\n",
              "      <td>121</td>\n",
              "    </tr>\n",
              "    <tr>\n",
              "      <th>1702</th>\n",
              "      <td>114.0</td>\n",
              "      <td>148.0</td>\n",
              "      <td>0.770270</td>\n",
              "      <td>0.0</td>\n",
              "      <td>0.0</td>\n",
              "      <td>0.0</td>\n",
              "      <td>0.0</td>\n",
              "      <td>0.0</td>\n",
              "      <td>0.0</td>\n",
              "      <td>0.0</td>\n",
              "      <td>0.0</td>\n",
              "      <td>7.273642</td>\n",
              "      <td>54</td>\n",
              "    </tr>\n",
              "    <tr>\n",
              "      <th>1703</th>\n",
              "      <td>256.0</td>\n",
              "      <td>207.0</td>\n",
              "      <td>1.236715</td>\n",
              "      <td>4.4</td>\n",
              "      <td>0.0</td>\n",
              "      <td>28.0</td>\n",
              "      <td>1.2</td>\n",
              "      <td>0.0</td>\n",
              "      <td>5.0</td>\n",
              "      <td>0.0</td>\n",
              "      <td>0.1</td>\n",
              "      <td>490.341358</td>\n",
              "      <td>76</td>\n",
              "    </tr>\n",
              "  </tbody>\n",
              "</table>\n",
              "</div>"
            ],
            "text/plain": [
              "      followers  following  ...  avg_timedelta_hrs  avg_word_count\n",
              "1699  3946343.0       69.0  ...           8.068981             109\n",
              "1700    54359.0       17.0  ...           8.208519              54\n",
              "1701      778.0      659.0  ...          20.997809             121\n",
              "1702      114.0      148.0  ...           7.273642              54\n",
              "1703      256.0      207.0  ...         490.341358              76\n",
              "\n",
              "[5 rows x 13 columns]"
            ]
          },
          "metadata": {
            "tags": []
          },
          "execution_count": 23
        }
      ]
    },
    {
      "cell_type": "code",
      "metadata": {
        "id": "hGqjNTcizV7S",
        "colab_type": "code",
        "colab": {}
      },
      "source": [
        "from xgboost import XGBClassifier\n",
        "\n",
        "xgb = XGBClassifier()"
      ],
      "execution_count": 0,
      "outputs": []
    },
    {
      "cell_type": "code",
      "metadata": {
        "id": "0LoOmUMP0xLL",
        "colab_type": "code",
        "colab": {
          "base_uri": "https://localhost:8080/",
          "height": 140
        },
        "outputId": "427f5a29-c733-4df3-9e63-fdb7c2be7bc5"
      },
      "source": [
        "xgb.fit(X_train_num, y_train)"
      ],
      "execution_count": 27,
      "outputs": [
        {
          "output_type": "execute_result",
          "data": {
            "text/plain": [
              "XGBClassifier(base_score=0.5, booster='gbtree', colsample_bylevel=1,\n",
              "              colsample_bynode=1, colsample_bytree=1, gamma=0,\n",
              "              learning_rate=0.1, max_delta_step=0, max_depth=3,\n",
              "              min_child_weight=1, missing=None, n_estimators=100, n_jobs=1,\n",
              "              nthread=None, objective='multi:softprob', random_state=0,\n",
              "              reg_alpha=0, reg_lambda=1, scale_pos_weight=1, seed=None,\n",
              "              silent=None, subsample=1, verbosity=1)"
            ]
          },
          "metadata": {
            "tags": []
          },
          "execution_count": 27
        }
      ]
    },
    {
      "cell_type": "code",
      "metadata": {
        "id": "BaRUcPap21SN",
        "colab_type": "code",
        "colab": {
          "base_uri": "https://localhost:8080/",
          "height": 35
        },
        "outputId": "2f8ee017-34cc-4f81-dfd6-ddfddbd3d836"
      },
      "source": [
        "from sklearn.metrics import accuracy_score\n",
        "\n",
        "accuracy_score(y_test, xgb.predict(X_test_num))"
      ],
      "execution_count": 28,
      "outputs": [
        {
          "output_type": "execute_result",
          "data": {
            "text/plain": [
              "0.2823529411764706"
            ]
          },
          "metadata": {
            "tags": []
          },
          "execution_count": 28
        }
      ]
    },
    {
      "cell_type": "code",
      "metadata": {
        "id": "i4LKFSbJ4Wjt",
        "colab_type": "code",
        "colab": {}
      },
      "source": [
        ""
      ],
      "execution_count": 0,
      "outputs": []
    }
  ]
}
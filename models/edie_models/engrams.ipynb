{
  "nbformat": 4,
  "nbformat_minor": 0,
  "metadata": {
    "colab": {
      "name": "engrams.ipynb",
      "provenance": [],
      "collapsed_sections": []
    },
    "kernelspec": {
      "name": "python3",
      "display_name": "Python 3"
    }
  },
  "cells": [
    {
      "cell_type": "code",
      "metadata": {
        "id": "kMxKQrdzFAzs",
        "colab_type": "code",
        "outputId": "1baffbff-549c-48ff-879d-64336180f438",
        "colab": {
          "base_uri": "https://localhost:8080/",
          "height": 52
        }
      },
      "source": [
        "import collections\n",
        "import datetime\n",
        "import os\n",
        "from pathlib import Path\n",
        "import random\n",
        "import re\n",
        "import sys\n",
        "\n",
        "from langdetect import detect\n",
        "import matplotlib.pyplot as plt\n",
        "import nltk\n",
        "from nltk.util import ngrams\n",
        "import numpy as np\n",
        "import pandas as pd\n",
        "from scipy.sparse import hstack\n",
        "import seaborn as sns\n",
        "from sklearn.feature_extraction.text import TfidfVectorizer\n",
        "from sklearn.linear_model import LogisticRegression\n",
        "from sklearn.decomposition import PCA\n",
        "from sklearn.metrics import accuracy_score, average_precision_score,\\\n",
        "  confusion_matrix, plot_precision_recall_curve, precision_recall_curve\n",
        "from sklearn.model_selection import cross_val_score, train_test_split\n",
        "from sklearn.svm import SVC\n",
        "from sklearn import preprocessing\n",
        "from textblob import TextBlob\n",
        "import xgboost as xgb\n",
        "\n",
        "nltk.download('punkt')\n",
        "\n",
        "%matplotlib inline"
      ],
      "execution_count": 0,
      "outputs": [
        {
          "output_type": "stream",
          "text": [
            "[nltk_data] Downloading package punkt to /root/nltk_data...\n",
            "[nltk_data]   Package punkt is already up-to-date!\n"
          ],
          "name": "stdout"
        }
      ]
    },
    {
      "cell_type": "code",
      "metadata": {
        "id": "izW4XWDzNQDb",
        "colab_type": "code",
        "outputId": "b86942bf-0af1-4ef1-b93a-4648d332bb9f",
        "colab": {
          "base_uri": "https://localhost:8080/",
          "height": 228
        }
      },
      "source": [
        "!pip3 install langdetect"
      ],
      "execution_count": 0,
      "outputs": [
        {
          "output_type": "stream",
          "text": [
            "Collecting langdetect\n",
            "\u001b[?25l  Downloading https://files.pythonhosted.org/packages/56/a3/8407c1e62d5980188b4acc45ef3d94b933d14a2ebc9ef3505f22cf772570/langdetect-1.0.8.tar.gz (981kB)\n",
            "\u001b[K     |████████████████████████████████| 983kB 2.8MB/s \n",
            "\u001b[?25hRequirement already satisfied: six in /usr/local/lib/python3.6/dist-packages (from langdetect) (1.12.0)\n",
            "Building wheels for collected packages: langdetect\n",
            "  Building wheel for langdetect (setup.py) ... \u001b[?25l\u001b[?25hdone\n",
            "  Created wheel for langdetect: filename=langdetect-1.0.8-cp36-none-any.whl size=993193 sha256=18224a0a27557f9a0cfa08f050a0c77165e641eb0ad404fbf4319b073ce43ad9\n",
            "  Stored in directory: /root/.cache/pip/wheels/8d/b3/aa/6d99de9f3841d7d3d40a60ea06e6d669e8e5012e6c8b947a57\n",
            "Successfully built langdetect\n",
            "Installing collected packages: langdetect\n",
            "Successfully installed langdetect-1.0.8\n"
          ],
          "name": "stdout"
        }
      ]
    },
    {
      "cell_type": "code",
      "metadata": {
        "id": "PWzoKmZEH3Nt",
        "colab_type": "code",
        "outputId": "713f18c4-0fb0-486d-9f26-e3e87f572cde",
        "colab": {
          "base_uri": "https://localhost:8080/",
          "height": 540
        }
      },
      "source": [
        "from google.colab import drive\n",
        "drive.mount('/content/drive', force_remount=True)"
      ],
      "execution_count": 0,
      "outputs": [
        {
          "output_type": "error",
          "ename": "KeyboardInterrupt",
          "evalue": "ignored",
          "traceback": [
            "\u001b[0;31m---------------------------------------------------------------------------\u001b[0m",
            "\u001b[0;31mKeyboardInterrupt\u001b[0m                         Traceback (most recent call last)",
            "\u001b[0;32m/usr/local/lib/python3.6/dist-packages/ipykernel/kernelbase.py\u001b[0m in \u001b[0;36m_input_request\u001b[0;34m(self, prompt, ident, parent, password)\u001b[0m\n\u001b[1;32m    728\u001b[0m             \u001b[0;32mtry\u001b[0m\u001b[0;34m:\u001b[0m\u001b[0;34m\u001b[0m\u001b[0;34m\u001b[0m\u001b[0m\n\u001b[0;32m--> 729\u001b[0;31m                 \u001b[0mident\u001b[0m\u001b[0;34m,\u001b[0m \u001b[0mreply\u001b[0m \u001b[0;34m=\u001b[0m \u001b[0mself\u001b[0m\u001b[0;34m.\u001b[0m\u001b[0msession\u001b[0m\u001b[0;34m.\u001b[0m\u001b[0mrecv\u001b[0m\u001b[0;34m(\u001b[0m\u001b[0mself\u001b[0m\u001b[0;34m.\u001b[0m\u001b[0mstdin_socket\u001b[0m\u001b[0;34m,\u001b[0m \u001b[0;36m0\u001b[0m\u001b[0;34m)\u001b[0m\u001b[0;34m\u001b[0m\u001b[0;34m\u001b[0m\u001b[0m\n\u001b[0m\u001b[1;32m    730\u001b[0m             \u001b[0;32mexcept\u001b[0m \u001b[0mException\u001b[0m\u001b[0;34m:\u001b[0m\u001b[0;34m\u001b[0m\u001b[0;34m\u001b[0m\u001b[0m\n",
            "\u001b[0;32m/usr/local/lib/python3.6/dist-packages/jupyter_client/session.py\u001b[0m in \u001b[0;36mrecv\u001b[0;34m(self, socket, mode, content, copy)\u001b[0m\n\u001b[1;32m    802\u001b[0m         \u001b[0;32mtry\u001b[0m\u001b[0;34m:\u001b[0m\u001b[0;34m\u001b[0m\u001b[0;34m\u001b[0m\u001b[0m\n\u001b[0;32m--> 803\u001b[0;31m             \u001b[0mmsg_list\u001b[0m \u001b[0;34m=\u001b[0m \u001b[0msocket\u001b[0m\u001b[0;34m.\u001b[0m\u001b[0mrecv_multipart\u001b[0m\u001b[0;34m(\u001b[0m\u001b[0mmode\u001b[0m\u001b[0;34m,\u001b[0m \u001b[0mcopy\u001b[0m\u001b[0;34m=\u001b[0m\u001b[0mcopy\u001b[0m\u001b[0;34m)\u001b[0m\u001b[0;34m\u001b[0m\u001b[0;34m\u001b[0m\u001b[0m\n\u001b[0m\u001b[1;32m    804\u001b[0m         \u001b[0;32mexcept\u001b[0m \u001b[0mzmq\u001b[0m\u001b[0;34m.\u001b[0m\u001b[0mZMQError\u001b[0m \u001b[0;32mas\u001b[0m \u001b[0me\u001b[0m\u001b[0;34m:\u001b[0m\u001b[0;34m\u001b[0m\u001b[0;34m\u001b[0m\u001b[0m\n",
            "\u001b[0;32m/usr/local/lib/python3.6/dist-packages/zmq/sugar/socket.py\u001b[0m in \u001b[0;36mrecv_multipart\u001b[0;34m(self, flags, copy, track)\u001b[0m\n\u001b[1;32m    474\u001b[0m         \"\"\"\n\u001b[0;32m--> 475\u001b[0;31m         \u001b[0mparts\u001b[0m \u001b[0;34m=\u001b[0m \u001b[0;34m[\u001b[0m\u001b[0mself\u001b[0m\u001b[0;34m.\u001b[0m\u001b[0mrecv\u001b[0m\u001b[0;34m(\u001b[0m\u001b[0mflags\u001b[0m\u001b[0;34m,\u001b[0m \u001b[0mcopy\u001b[0m\u001b[0;34m=\u001b[0m\u001b[0mcopy\u001b[0m\u001b[0;34m,\u001b[0m \u001b[0mtrack\u001b[0m\u001b[0;34m=\u001b[0m\u001b[0mtrack\u001b[0m\u001b[0;34m)\u001b[0m\u001b[0;34m]\u001b[0m\u001b[0;34m\u001b[0m\u001b[0;34m\u001b[0m\u001b[0m\n\u001b[0m\u001b[1;32m    476\u001b[0m         \u001b[0;31m# have first part already, only loop while more to receive\u001b[0m\u001b[0;34m\u001b[0m\u001b[0;34m\u001b[0m\u001b[0;34m\u001b[0m\u001b[0m\n",
            "\u001b[0;32mzmq/backend/cython/socket.pyx\u001b[0m in \u001b[0;36mzmq.backend.cython.socket.Socket.recv\u001b[0;34m()\u001b[0m\n",
            "\u001b[0;32mzmq/backend/cython/socket.pyx\u001b[0m in \u001b[0;36mzmq.backend.cython.socket.Socket.recv\u001b[0;34m()\u001b[0m\n",
            "\u001b[0;32mzmq/backend/cython/socket.pyx\u001b[0m in \u001b[0;36mzmq.backend.cython.socket._recv_copy\u001b[0;34m()\u001b[0m\n",
            "\u001b[0;32m/usr/local/lib/python3.6/dist-packages/zmq/backend/cython/checkrc.pxd\u001b[0m in \u001b[0;36mzmq.backend.cython.checkrc._check_rc\u001b[0;34m()\u001b[0m\n",
            "\u001b[0;31mKeyboardInterrupt\u001b[0m: ",
            "\nDuring handling of the above exception, another exception occurred:\n",
            "\u001b[0;31mKeyboardInterrupt\u001b[0m                         Traceback (most recent call last)",
            "\u001b[0;32m<ipython-input-4-a145c0899d7d>\u001b[0m in \u001b[0;36m<module>\u001b[0;34m()\u001b[0m\n\u001b[1;32m      1\u001b[0m \u001b[0;32mfrom\u001b[0m \u001b[0mgoogle\u001b[0m\u001b[0;34m.\u001b[0m\u001b[0mcolab\u001b[0m \u001b[0;32mimport\u001b[0m \u001b[0mdrive\u001b[0m\u001b[0;34m\u001b[0m\u001b[0;34m\u001b[0m\u001b[0m\n\u001b[0;32m----> 2\u001b[0;31m \u001b[0mdrive\u001b[0m\u001b[0;34m.\u001b[0m\u001b[0mmount\u001b[0m\u001b[0;34m(\u001b[0m\u001b[0;34m'/content/drive'\u001b[0m\u001b[0;34m,\u001b[0m \u001b[0mforce_remount\u001b[0m\u001b[0;34m=\u001b[0m\u001b[0;32mTrue\u001b[0m\u001b[0;34m)\u001b[0m\u001b[0;34m\u001b[0m\u001b[0;34m\u001b[0m\u001b[0m\n\u001b[0m",
            "\u001b[0;32m/usr/local/lib/python3.6/dist-packages/google/colab/drive.py\u001b[0m in \u001b[0;36mmount\u001b[0;34m(mountpoint, force_remount, timeout_ms, use_metadata_server)\u001b[0m\n\u001b[1;32m    236\u001b[0m       \u001b[0mauth_prompt\u001b[0m \u001b[0;34m=\u001b[0m \u001b[0md\u001b[0m\u001b[0;34m.\u001b[0m\u001b[0mmatch\u001b[0m\u001b[0;34m.\u001b[0m\u001b[0mgroup\u001b[0m\u001b[0;34m(\u001b[0m\u001b[0;36m1\u001b[0m\u001b[0;34m)\u001b[0m \u001b[0;34m+\u001b[0m \u001b[0;34m'\\nEnter your authorization code:\\n'\u001b[0m\u001b[0;34m\u001b[0m\u001b[0;34m\u001b[0m\u001b[0m\n\u001b[1;32m    237\u001b[0m       \u001b[0;32mwith\u001b[0m \u001b[0mopen\u001b[0m\u001b[0;34m(\u001b[0m\u001b[0mfifo\u001b[0m\u001b[0;34m,\u001b[0m \u001b[0;34m'w'\u001b[0m\u001b[0;34m)\u001b[0m \u001b[0;32mas\u001b[0m \u001b[0mfifo_file\u001b[0m\u001b[0;34m:\u001b[0m\u001b[0;34m\u001b[0m\u001b[0;34m\u001b[0m\u001b[0m\n\u001b[0;32m--> 238\u001b[0;31m         \u001b[0mfifo_file\u001b[0m\u001b[0;34m.\u001b[0m\u001b[0mwrite\u001b[0m\u001b[0;34m(\u001b[0m\u001b[0m_getpass\u001b[0m\u001b[0;34m.\u001b[0m\u001b[0mgetpass\u001b[0m\u001b[0;34m(\u001b[0m\u001b[0mauth_prompt\u001b[0m\u001b[0;34m)\u001b[0m \u001b[0;34m+\u001b[0m \u001b[0;34m'\\n'\u001b[0m\u001b[0;34m)\u001b[0m\u001b[0;34m\u001b[0m\u001b[0;34m\u001b[0m\u001b[0m\n\u001b[0m\u001b[1;32m    239\u001b[0m       \u001b[0mwrote_to_fifo\u001b[0m \u001b[0;34m=\u001b[0m \u001b[0;32mTrue\u001b[0m\u001b[0;34m\u001b[0m\u001b[0;34m\u001b[0m\u001b[0m\n\u001b[1;32m    240\u001b[0m   \u001b[0;32mif\u001b[0m \u001b[0;32mnot\u001b[0m \u001b[0mwrote_to_fifo\u001b[0m\u001b[0;34m:\u001b[0m\u001b[0;34m\u001b[0m\u001b[0;34m\u001b[0m\u001b[0m\n",
            "\u001b[0;32m/usr/local/lib/python3.6/dist-packages/ipykernel/kernelbase.py\u001b[0m in \u001b[0;36mgetpass\u001b[0;34m(self, prompt, stream)\u001b[0m\n\u001b[1;32m    685\u001b[0m             \u001b[0mself\u001b[0m\u001b[0;34m.\u001b[0m\u001b[0m_parent_ident\u001b[0m\u001b[0;34m,\u001b[0m\u001b[0;34m\u001b[0m\u001b[0;34m\u001b[0m\u001b[0m\n\u001b[1;32m    686\u001b[0m             \u001b[0mself\u001b[0m\u001b[0;34m.\u001b[0m\u001b[0m_parent_header\u001b[0m\u001b[0;34m,\u001b[0m\u001b[0;34m\u001b[0m\u001b[0;34m\u001b[0m\u001b[0m\n\u001b[0;32m--> 687\u001b[0;31m             \u001b[0mpassword\u001b[0m\u001b[0;34m=\u001b[0m\u001b[0;32mTrue\u001b[0m\u001b[0;34m,\u001b[0m\u001b[0;34m\u001b[0m\u001b[0;34m\u001b[0m\u001b[0m\n\u001b[0m\u001b[1;32m    688\u001b[0m         )\n\u001b[1;32m    689\u001b[0m \u001b[0;34m\u001b[0m\u001b[0m\n",
            "\u001b[0;32m/usr/local/lib/python3.6/dist-packages/ipykernel/kernelbase.py\u001b[0m in \u001b[0;36m_input_request\u001b[0;34m(self, prompt, ident, parent, password)\u001b[0m\n\u001b[1;32m    732\u001b[0m             \u001b[0;32mexcept\u001b[0m \u001b[0mKeyboardInterrupt\u001b[0m\u001b[0;34m:\u001b[0m\u001b[0;34m\u001b[0m\u001b[0;34m\u001b[0m\u001b[0m\n\u001b[1;32m    733\u001b[0m                 \u001b[0;31m# re-raise KeyboardInterrupt, to truncate traceback\u001b[0m\u001b[0;34m\u001b[0m\u001b[0;34m\u001b[0m\u001b[0;34m\u001b[0m\u001b[0m\n\u001b[0;32m--> 734\u001b[0;31m                 \u001b[0;32mraise\u001b[0m \u001b[0mKeyboardInterrupt\u001b[0m\u001b[0;34m\u001b[0m\u001b[0;34m\u001b[0m\u001b[0m\n\u001b[0m\u001b[1;32m    735\u001b[0m             \u001b[0;32melse\u001b[0m\u001b[0;34m:\u001b[0m\u001b[0;34m\u001b[0m\u001b[0;34m\u001b[0m\u001b[0m\n\u001b[1;32m    736\u001b[0m                 \u001b[0;32mbreak\u001b[0m\u001b[0;34m\u001b[0m\u001b[0;34m\u001b[0m\u001b[0m\n",
            "\u001b[0;31mKeyboardInterrupt\u001b[0m: "
          ]
        }
      ]
    },
    {
      "cell_type": "code",
      "metadata": {
        "id": "LsP4qT8yJP_V",
        "colab_type": "code",
        "colab": {}
      },
      "source": [
        "train_path = './train_w_logits_and_embeddings.csv'\n",
        "test_path = './test_w_logits_and_embeddings.csv'\n",
        "\n",
        "# train_path = './drive/My Drive/train_w_logits.csv'\n",
        "# test_path = './drive/My Drive/train_w_logits.csv'\n",
        "\n",
        "df_tr = pd.read_csv(train_path)\n",
        "df_t = pd.read_csv(test_path)"
      ],
      "execution_count": 0,
      "outputs": []
    },
    {
      "cell_type": "code",
      "metadata": {
        "id": "gyIZOjz1KHSe",
        "colab_type": "code",
        "outputId": "ac198c0f-f2b9-4871-bec0-ea0e5e865a1e",
        "colab": {
          "base_uri": "https://localhost:8080/",
          "height": 52
        }
      },
      "source": [
        "df_train = df_tr.drop(columns=['Unnamed: 0'])\n",
        "df_test = df_t.drop(columns=['Unnamed: 0'])\n",
        "print(df_train.shape)\n",
        "print(df_test.shape)"
      ],
      "execution_count": 0,
      "outputs": [
        {
          "output_type": "stream",
          "text": [
            "(1488, 800)\n",
            "(374, 800)\n"
          ],
          "name": "stdout"
        }
      ]
    },
    {
      "cell_type": "code",
      "metadata": {
        "id": "KdF46de_pYLR",
        "colab_type": "code",
        "colab": {}
      },
      "source": [
        "def clean_strings (df_in):\n",
        "    tweet_idx = 'tweets_text'\n",
        "\n",
        "    # make text lowercase\n",
        "    df_in[tweet_idx]= df_in[tweet_idx].str.lower()\n",
        "\n",
        "    # replace tab strings\n",
        "    tab_str = '\\t'\n",
        "    space_str = ' '\n",
        "\n",
        "    for i, row in df_in.iterrows():\n",
        "        tweet_str = row[tweet_idx]\n",
        "\n",
        "        # replace urls with token\n",
        "        tweet_str = re.sub('http\\S+|www.\\S+', '~', tweet_str)\n",
        "        \n",
        "        # remove punctuation\n",
        "        tweet_str = re.sub('[^\\w\\s]', '', tweet_str)\n",
        "\n",
        "        # reduce character repetition to 3 chararacters\n",
        "        tweet_str = re.sub(r\"(.)\\1{3,}\", r\"\\1\"*3, tweet_str)\n",
        "\n",
        "        # remove tab artifacts\n",
        "        if tab_str in tweet_str:\n",
        "          tweet_str = tweet_str.replace(tab_str, space_str)\n",
        "\n",
        "        # replace hashtags, mentions with token, remove duplicate spaces\n",
        "        tweet_str = re.sub('@[A-Za-z0-9]+', '@', tweet_str, re.MULTILINE)\n",
        "        tweet_str = re.sub('#[A-Za-z0-9]+', '#', tweet_str)\n",
        "        tweet_str = re.sub(' +', ' ', tweet_str)\n",
        "\n",
        "        df_in.at[i,tweet_idx] = tweet_str\n",
        "\n",
        "    return df_in\n",
        "\n",
        "df_train = clean_strings(df_train)\n",
        "df_test = clean_strings(df_test)\n",
        "# display(df_train)"
      ],
      "execution_count": 0,
      "outputs": []
    },
    {
      "cell_type": "code",
      "metadata": {
        "id": "bYnrW9wZyhx0",
        "colab_type": "code",
        "colab": {}
      },
      "source": [
        "train_text = df_train['tweets_text']\n",
        "test_text = df_test['tweets_text']\n",
        "\n",
        "train_ages = df_train['age_group']\n",
        "test_ages = df_test['age_group']\n",
        "\n",
        "train_coded = pd.get_dummies(train_ages)\n",
        "test_coded = pd.get_dummies(test_ages)\n",
        "\n",
        "train_ds = pd.concat([train_text,train_coded], axis=1)\n",
        "test_ds = pd.concat([test_text,test_coded], axis=1)\n",
        "df_full = pd.concat([train_text,test_text])"
      ],
      "execution_count": 0,
      "outputs": []
    },
    {
      "cell_type": "code",
      "metadata": {
        "id": "pLxDi2rPNRl0",
        "colab_type": "code",
        "colab": {}
      },
      "source": [
        "def get_engrams (df_in, init=False):\n",
        "    unigram = {}\n",
        "    bigram = {}\n",
        "    trigram = {}\n",
        "    tetragram = {}\n",
        "\n",
        "    for count in range (1, 5):\n",
        "        for i, row in df_in.iterrows():\n",
        "            tweet_idx = 'tweets_text'\n",
        "            data = row[tweet_idx]\n",
        "            n_grams = ngrams(nltk.word_tokenize(data), count)\n",
        "            # n_grams = TextBlob(data).ngrams(count)\n",
        "\n",
        "            for n_gram in n_grams:\n",
        "\n",
        "                if count is 1 and n_gram in unigram.keys():\n",
        "                    unigram[n_gram] = unigram[n_gram] + 1\n",
        "                elif count is 1 and n_gram not in unigram.keys():\n",
        "                    unigram[n_gram] = 1\n",
        "                elif count is 2 and n_gram in bigram.keys():\n",
        "                    bigram[n_gram] = bigram[n_gram] + 1\n",
        "                elif count is 2 and n_gram not in bigram.keys():\n",
        "                    bigram[n_gram] = 1\n",
        "                elif count is 3 and n_gram in trigram.keys():\n",
        "                    trigram[n_gram] = trigram[n_gram] + 1\n",
        "                elif count is 3 and n_gram not in trigram.keys():\n",
        "                    trigram[n_gram] = 1\n",
        "                elif count is 4 and n_gram in tetragram.keys():\n",
        "                    tetragram[n_gram] = tetragram[n_gram] + 1\n",
        "                elif count is 4 and n_gram not in tetragram.keys():\n",
        "                    tetragram[n_gram] = 1\n",
        "\n",
        "    return unigram, bigram, trigram, tetragram\n",
        "\n",
        "\n",
        "def fill_engram_feature (df_in, top_engram):\n",
        "  unigram = {}\n",
        "  bigram = {}\n",
        "  trigram = {}\n",
        "  tetragram = {}\n",
        "\n",
        "  for count in range (1, 5):\n",
        "      for i, row in df_in.iterrows():\n",
        "          tweet_idx = 'tweets_text'\n",
        "          data = row[tweet_idx]\n",
        "          n_grams = ngrams(nltk.word_tokenize(data), count)\n",
        "          # n_grams = TextBlob(data).ngrams(count)\n",
        "\n",
        "          for n_gram in n_grams:\n",
        "            \n",
        "              n_str = str(n_gram)\n",
        "              # poo = False\n",
        "              # if n_str in top_engram:\n",
        "              #   poo = True\n",
        "              # print(n_str, poo)\n",
        "              if n_str in top_engram:\n",
        "                  # print('ngram found')\n",
        "                  # count = row[n_str]\n",
        "                  df_in.at[i, n_str] = 1\n",
        "\n",
        "  return df_in"
      ],
      "execution_count": 0,
      "outputs": []
    },
    {
      "cell_type": "code",
      "metadata": {
        "id": "e7TSOjhsNLXi",
        "colab_type": "code",
        "outputId": "b9ffe543-98d3-4a5f-e9ee-b2f66a335bf9",
        "colab": {
          "base_uri": "https://localhost:8080/",
          "height": 208
        }
      },
      "source": [
        "# Get top 2500 unigrams, bigrams, trigrams, tetragrams to use as features\n",
        "df_full = pd.concat([df_train, df_test])\n",
        "train_uni, train_bi, train_tri, train_tetra = get_engrams(df_full)\n",
        "uni = sorted(train_uni.items(), key=lambda x: x[1], reverse=True)\n",
        "bi = sorted(train_bi.items(), key=lambda x: x[1], reverse=True)\n",
        "tri = sorted(train_tri.items(), key=lambda x: x[1], reverse=True)\n",
        "tetra = sorted(train_tetra.items(), key=lambda x: x[1], reverse=True)\n",
        "top_engram = uni[0:2500] + bi[0:2500] + tri[0:2500] + tetra[0:2500]\n",
        "\n",
        "features = []\n",
        "for n_gram in top_engram:\n",
        "    features.append(str(n_gram[0]))\n",
        "\n",
        "train = df_train[['tweets_text', 'age_group']]\n",
        "test = df_test[['tweets_text', 'age_group']]\n",
        "for feature in features:\n",
        "    train[feature] = 0\n",
        "    test[feature] = 0\n",
        "\n",
        "x_train = fill_engram_feature(train, features)\n",
        "x_train_ngram = x_train.drop(columns=['tweets_text','age_group'])\n",
        "x_test = fill_engram_feature(test, features)\n",
        "x_test_ngram = x_test.drop(columns=['tweets_text','age_group'])\n",
        "y_train = df_train['age_group']\n",
        "y_test = df_test['age_group']"
      ],
      "execution_count": 0,
      "outputs": [
        {
          "output_type": "stream",
          "text": [
            "/usr/local/lib/python3.6/dist-packages/ipykernel_launcher.py:16: SettingWithCopyWarning: \n",
            "A value is trying to be set on a copy of a slice from a DataFrame.\n",
            "Try using .loc[row_indexer,col_indexer] = value instead\n",
            "\n",
            "See the caveats in the documentation: https://pandas.pydata.org/pandas-docs/stable/user_guide/indexing.html#returning-a-view-versus-a-copy\n",
            "  app.launch_new_instance()\n",
            "/usr/local/lib/python3.6/dist-packages/ipykernel_launcher.py:17: SettingWithCopyWarning: \n",
            "A value is trying to be set on a copy of a slice from a DataFrame.\n",
            "Try using .loc[row_indexer,col_indexer] = value instead\n",
            "\n",
            "See the caveats in the documentation: https://pandas.pydata.org/pandas-docs/stable/user_guide/indexing.html#returning-a-view-versus-a-copy\n"
          ],
          "name": "stderr"
        }
      ]
    },
    {
      "cell_type": "code",
      "metadata": {
        "id": "If3OefkoOlHq",
        "colab_type": "code",
        "outputId": "2f1e12b5-9e8b-442b-c46e-e5817f83d8b0",
        "colab": {
          "base_uri": "https://localhost:8080/",
          "height": 282
        }
      },
      "source": [
        "# Create SVM model\n",
        "svm = SVC(kernel='linear',C=0.025,random_state=42)\n",
        "svm.fit(x_train_ngram, y_train)\n",
        "y_pred = svm.predict(x_test_ngram)\n",
        "matrix = confusion_matrix(y_test, y_pred)\n",
        "matrix = matrix / matrix.astype(np.float).sum(axis=1)\n",
        "ax = sns.heatmap(matrix, annot=True, annot_kws={\"size\": 16})\n",
        "print('Accuracy: ', accuracy_score(test_ages, y_pred))\n",
        "plt.show()"
      ],
      "execution_count": 0,
      "outputs": [
        {
          "output_type": "stream",
          "text": [
            "Accuracy:  0.4304812834224599\n"
          ],
          "name": "stdout"
        },
        {
          "output_type": "display_data",
          "data": {
            "image/png": "[encoded data removed]",
            "text/plain": [
              "<Figure size 432x288 with 2 Axes>"
            ]
          },
          "metadata": {
            "tags": [],
            "needs_background": "light"
          }
        }
      ]
    },
    {
      "cell_type": "code",
      "metadata": {
        "id": "w8E6RX_ydfci",
        "colab_type": "code",
        "outputId": "27a24739-0383-4751-a8a6-7551dbdb8f6c",
        "colab": {
          "base_uri": "https://localhost:8080/",
          "height": 282
        }
      },
      "source": [
        "# Create xgboost classifier model\n",
        "model_type = 'gbtree'\n",
        "model_xgb = xgb.XGBClassifier(booster=model_type)\n",
        "model_xgb.fit(x_train_ngram, y_train)\n",
        "y_pred = model_xgb.predict(x_test_ngram)\n",
        "matrix = confusion_matrix(y_test, y_pred)\n",
        "matrix = matrix / matrix.astype(np.float).sum(axis=1)\n",
        "ax = sns.heatmap(matrix, annot=True, annot_kws={\"size\": 16})\n",
        "print('Accuracy: ', accuracy_score(test_ages, y_pred))\n",
        "plt.show()"
      ],
      "execution_count": 0,
      "outputs": [
        {
          "output_type": "stream",
          "text": [
            "Accuracy:  0.4117647058823529\n"
          ],
          "name": "stdout"
        },
        {
          "output_type": "display_data",
          "data": {
            "image/png": "[encoded data removed]",
            "text/plain": [
              "<Figure size 432x288 with 2 Axes>"
            ]
          },
          "metadata": {
            "tags": [],
            "needs_background": "light"
          }
        }
      ]
    },
    {
      "cell_type": "code",
      "metadata": {
        "id": "oHxFPlxuhoj-",
        "colab_type": "code",
        "colab": {}
      },
      "source": [
        "# combine engram with other features\n",
        "unwanted = ['handle', 'tweets_text', 'age_group', 'followers', 'following', \n",
        "            'hashtags', 'avg_timedelta_hrs']\n",
        "x_train_full = pd.concat([x_train, df_train], axis=1)\n",
        "x_train_full = x_train_full.drop(columns=unwanted)\n",
        "x_test_full = pd.concat([x_test, df_test], axis=1)\n",
        "x_test_full = x_test_full.drop(columns=unwanted)"
      ],
      "execution_count": 0,
      "outputs": []
    },
    {
      "cell_type": "code",
      "metadata": {
        "id": "OlSA4L3Ine_f",
        "colab_type": "code",
        "outputId": "39800ee1-9149-42c0-eb17-c448e19245a7",
        "colab": {
          "base_uri": "https://localhost:8080/",
          "height": 295
        }
      },
      "source": [
        "x_concat = pd.concat([x_train_full, x_test_full])\n",
        "\n",
        "#100 components\n",
        "n_components = 100\n",
        "pca = PCA(n_components)\n",
        "principalComponents = pca.fit_transform(x_concat)\n",
        "ratios = pca.explained_variance_ratio_\n",
        "x_tr_pca = np.asarray(a = principalComponents)\n",
        "\n",
        "#Scree Plot for all components\n",
        "ratio_arr = np.asarray(ratios)\n",
        "first_ten = ratio_arr[0:10]\n",
        "percent_variance = np.round(first_ten * 100, decimals =2)\n",
        "columns = ['1', '2', '3', '4', '5', '6', '7', '8', '9', '10']\n",
        "plt.bar(x=range(1,11), height=percent_variance, tick_label=columns)\n",
        "plt.ylabel('Percentage of Variance Explained')\n",
        "plt.xlabel('Principal Component')\n",
        "plt.title('PCA Scree Plot: all Components')\n",
        "plt.show()"
      ],
      "execution_count": 0,
      "outputs": [
        {
          "output_type": "display_data",
          "data": {
            "image/png": "[encoded data removed]",
            "text/plain": [
              "<Figure size 432x288 with 1 Axes>"
            ]
          },
          "metadata": {
            "tags": [],
            "needs_background": "light"
          }
        }
      ]
    },
    {
      "cell_type": "code",
      "metadata": {
        "id": "-N2xIDW9t0wg",
        "colab_type": "code",
        "outputId": "54ea593e-04db-47d9-ec39-7be7db243625",
        "colab": {
          "base_uri": "https://localhost:8080/",
          "height": 243
        }
      },
      "source": [
        "display(x_tr_pca)"
      ],
      "execution_count": 0,
      "outputs": [
        {
          "output_type": "display_data",
          "data": {
            "text/plain": [
              "array([[-4.13617623e+04, -1.13186607e+04,  7.59119424e+02, ...,\n",
              "         5.49465582e-01,  1.35977520e-01,  6.93336833e-01],\n",
              "       [-2.99640110e+04,  3.38780726e+04, -4.55510700e+03, ...,\n",
              "        -1.59652518e-01, -3.39171788e-01,  9.15119643e-03],\n",
              "       [-4.13620967e+04, -1.13219397e+04,  7.59360524e+02, ...,\n",
              "        -5.41503851e-01, -2.26506831e-02,  8.15101606e-02],\n",
              "       ...,\n",
              "       [-4.05439627e+04,  4.53817399e+04, -8.37810206e+03, ...,\n",
              "         2.18382542e-02, -3.80103907e-01, -6.28642332e-01],\n",
              "       [-4.13000345e+04, -1.10779647e+04,  7.21562856e+02, ...,\n",
              "        -8.43948881e-01,  5.10498735e-01, -1.31193208e+00],\n",
              "       [-4.11789600e+04, -1.09631159e+04,  6.99863797e+02, ...,\n",
              "        -6.83951614e-02,  5.58817716e-01, -4.73507539e-01]])"
            ]
          },
          "metadata": {
            "tags": []
          }
        }
      ]
    },
    {
      "cell_type": "code",
      "metadata": {
        "id": "lMz7fFPYuDlm",
        "colab_type": "code",
        "outputId": "6f89f5f9-1556-4958-a64e-39029df78a1b",
        "colab": {
          "base_uri": "https://localhost:8080/",
          "height": 282
        }
      },
      "source": [
        "# Create train/test splits\n",
        "y_train = df_train['age_group']\n",
        "y_test = df_test['age_group']\n",
        "y_concat = pd.concat([y_train, test_ages])\n",
        "x_train, x_test, y_train, y_test = train_test_split(x_tr_pca, y_concat,\n",
        "        test_size=0.25, random_state=42)\n",
        "\n",
        "# Train xgbclassifier\n",
        "model_type = 'gbtree'\n",
        "model_xgb = xgb.XGBClassifier(booster=model_type)\n",
        "model_xgb.fit(x_train, y_train)\n",
        "y_pred = model_xgb.predict(x_test)\n",
        "matrix = confusion_matrix(y_test, y_pred)\n",
        "matrix = matrix / matrix.astype(np.float).sum(axis=1)\n",
        "ax = sns.heatmap(matrix, annot=True, annot_kws={\"size\": 16})\n",
        "print('Accuracy: ', accuracy_score(y_test, y_pred))\n",
        "plt.show()"
      ],
      "execution_count": 0,
      "outputs": [
        {
          "output_type": "stream",
          "text": [
            "Accuracy:  0.4892703862660944\n"
          ],
          "name": "stdout"
        },
        {
          "output_type": "display_data",
          "data": {
            "image/png": "[encoded data removed]",
            "text/plain": [
              "<Figure size 432x288 with 2 Axes>"
            ]
          },
          "metadata": {
            "tags": [],
            "needs_background": "light"
          }
        }
      ]
    },
    {
      "cell_type": "code",
      "metadata": {
        "id": "TfSMOMR4uy_U",
        "colab_type": "code",
        "outputId": "c9e672ef-be13-475c-b762-67bfb2129d52",
        "colab": {
          "base_uri": "https://localhost:8080/",
          "height": 295
        }
      },
      "source": [
        "x_concat = pd.concat([x_train_ngram, x_test_ngram])\n",
        "\n",
        "# 100 components\n",
        "n_components = 100\n",
        "pca = PCA(n_components)\n",
        "principalComponents = pca.fit_transform(x_concat)\n",
        "ratios = pca.explained_variance_ratio_\n",
        "x_tr_pca = np.asarray(a = principalComponents)\n",
        "\n",
        "#Scree Plot for all components\n",
        "ratio_arr = np.asarray(ratios)\n",
        "first_ten = ratio_arr[0:10]\n",
        "percent_variance = np.round(first_ten * 100, decimals =2)\n",
        "columns = ['1', '2', '3', '4', '5', '6', '7', '8', '9', '10']\n",
        "plt.bar(x=range(1,11), height=percent_variance, tick_label=columns)\n",
        "plt.ylabel('Percentage of Variance Explained')\n",
        "plt.xlabel('Principal Component')\n",
        "plt.title('PCA Scree Plot: all Components')\n",
        "plt.show()"
      ],
      "execution_count": 0,
      "outputs": [
        {
          "output_type": "display_data",
          "data": {
            "image/png": "[encoded data removed]",
            "text/plain": [
              "<Figure size 432x288 with 1 Axes>"
            ]
          },
          "metadata": {
            "tags": [],
            "needs_background": "light"
          }
        }
      ]
    },
    {
      "cell_type": "code",
      "metadata": {
        "id": "Y53krIbmvHg9",
        "colab_type": "code",
        "outputId": "515ab3ba-c0e2-4669-a940-fb1315f68a1b",
        "colab": {
          "base_uri": "https://localhost:8080/",
          "height": 285
        }
      },
      "source": [
        "# Create train/test splits\n",
        "y_train = df_train['age_group']\n",
        "y_test = df_test['age_group']\n",
        "y_concat = pd.concat([y_train, test_ages])\n",
        "x_train, x_test, y_train, y_test = train_test_split(x_tr_pca, y_concat,\n",
        "        test_size=0.25, random_state=42)\n",
        "\n",
        "# Train xgbclassifier\n",
        "model_type = 'gbtree'\n",
        "model_xgb = xgb.XGBClassifier(booster=model_type)\n",
        "model_xgb.fit(x_train, y_train)\n",
        "y_pred = model_xgb.predict(x_test)\n",
        "matrix = confusion_matrix(y_test, y_pred)\n",
        "matrix = matrix / matrix.astype(np.float).sum(axis=1)\n",
        "ax = sns.heatmap(matrix, annot=True, annot_kws={\"size\": 16})\n",
        "print('Accuracy: ', accuracy_score(y_test, y_pred))\n",
        "plt.show()"
      ],
      "execution_count": 0,
      "outputs": [
        {
          "output_type": "stream",
          "text": [
            "Accuracy:  0.49141630901287553\n"
          ],
          "name": "stdout"
        },
        {
          "output_type": "display_data",
          "data": {
            "image/png": "[encoded data removed]",
            "text/plain": [
              "<Figure size 432x288 with 2 Axes>"
            ]
          },
          "metadata": {
            "tags": [],
            "needs_background": "light"
          }
        }
      ]
    }
  ]
}
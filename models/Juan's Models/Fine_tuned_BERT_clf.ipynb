{
  "nbformat": 4,
  "nbformat_minor": 0,
  "metadata": {
    "colab": {
      "name": "Fine_tuned_BERT_clf.ipynb",
      "provenance": [],
      "collapsed_sections": []
    },
    "kernelspec": {
      "name": "python3",
      "display_name": "Python 3"
    },
    "accelerator": "GPU",
    "widgets": {
      "application/vnd.jupyter.widget-state+json": {
        "b81ea7e15cda4f0faf2c6e64a2a02b2b": {
          "model_module": "@jupyter-widgets/controls",
          "model_name": "HBoxModel",
          "state": {
            "_view_name": "HBoxView",
            "_dom_classes": [],
            "_model_name": "HBoxModel",
            "_view_module": "@jupyter-widgets/controls",
            "_model_module_version": "1.5.0",
            "_view_count": null,
            "_view_module_version": "1.5.0",
            "box_style": "",
            "layout": "IPY_MODEL_2b8ff40856684a338b83689a783e5e91",
            "_model_module": "@jupyter-widgets/controls",
            "children": [
              "IPY_MODEL_8b76c58fcfe64018b8df70009b44ac4d",
              "IPY_MODEL_7e0452d469cd4d42bfefb34d8b0c22b9"
            ]
          }
        },
        "2b8ff40856684a338b83689a783e5e91": {
          "model_module": "@jupyter-widgets/base",
          "model_name": "LayoutModel",
          "state": {
            "_view_name": "LayoutView",
            "grid_template_rows": null,
            "right": null,
            "justify_content": null,
            "_view_module": "@jupyter-widgets/base",
            "overflow": null,
            "_model_module_version": "1.2.0",
            "_view_count": null,
            "flex_flow": null,
            "width": null,
            "min_width": null,
            "border": null,
            "align_items": null,
            "bottom": null,
            "_model_module": "@jupyter-widgets/base",
            "top": null,
            "grid_column": null,
            "overflow_y": null,
            "overflow_x": null,
            "grid_auto_flow": null,
            "grid_area": null,
            "grid_template_columns": null,
            "flex": null,
            "_model_name": "LayoutModel",
            "justify_items": null,
            "grid_row": null,
            "max_height": null,
            "align_content": null,
            "visibility": null,
            "align_self": null,
            "height": null,
            "min_height": null,
            "padding": null,
            "grid_auto_rows": null,
            "grid_gap": null,
            "max_width": null,
            "order": null,
            "_view_module_version": "1.2.0",
            "grid_template_areas": null,
            "object_position": null,
            "object_fit": null,
            "grid_auto_columns": null,
            "margin": null,
            "display": null,
            "left": null
          }
        },
        "8b76c58fcfe64018b8df70009b44ac4d": {
          "model_module": "@jupyter-widgets/controls",
          "model_name": "IntProgressModel",
          "state": {
            "_view_name": "ProgressView",
            "style": "IPY_MODEL_02b4c9bc3c29495ea3f6bb6fae0eaf6f",
            "_dom_classes": [],
            "description": "Downloading: 100%",
            "_model_name": "IntProgressModel",
            "bar_style": "success",
            "max": 433,
            "_view_module": "@jupyter-widgets/controls",
            "_model_module_version": "1.5.0",
            "value": 433,
            "_view_count": null,
            "_view_module_version": "1.5.0",
            "orientation": "horizontal",
            "min": 0,
            "description_tooltip": null,
            "_model_module": "@jupyter-widgets/controls",
            "layout": "IPY_MODEL_48ff09fe9a194e8f8310dfb18ba2c6a9"
          }
        },
        "7e0452d469cd4d42bfefb34d8b0c22b9": {
          "model_module": "@jupyter-widgets/controls",
          "model_name": "HTMLModel",
          "state": {
            "_view_name": "HTMLView",
            "style": "IPY_MODEL_158c78369c4f40a0ae816961a7f85875",
            "_dom_classes": [],
            "description": "",
            "_model_name": "HTMLModel",
            "placeholder": "​",
            "_view_module": "@jupyter-widgets/controls",
            "_model_module_version": "1.5.0",
            "value": " 433/433 [00:00&lt;00:00, 1.11kB/s]",
            "_view_count": null,
            "_view_module_version": "1.5.0",
            "description_tooltip": null,
            "_model_module": "@jupyter-widgets/controls",
            "layout": "IPY_MODEL_8b2ceb6a0213415981a1d9c8b57219a8"
          }
        },
        "02b4c9bc3c29495ea3f6bb6fae0eaf6f": {
          "model_module": "@jupyter-widgets/controls",
          "model_name": "ProgressStyleModel",
          "state": {
            "_view_name": "StyleView",
            "_model_name": "ProgressStyleModel",
            "description_width": "initial",
            "_view_module": "@jupyter-widgets/base",
            "_model_module_version": "1.5.0",
            "_view_count": null,
            "_view_module_version": "1.2.0",
            "bar_color": null,
            "_model_module": "@jupyter-widgets/controls"
          }
        },
        "48ff09fe9a194e8f8310dfb18ba2c6a9": {
          "model_module": "@jupyter-widgets/base",
          "model_name": "LayoutModel",
          "state": {
            "_view_name": "LayoutView",
            "grid_template_rows": null,
            "right": null,
            "justify_content": null,
            "_view_module": "@jupyter-widgets/base",
            "overflow": null,
            "_model_module_version": "1.2.0",
            "_view_count": null,
            "flex_flow": null,
            "width": null,
            "min_width": null,
            "border": null,
            "align_items": null,
            "bottom": null,
            "_model_module": "@jupyter-widgets/base",
            "top": null,
            "grid_column": null,
            "overflow_y": null,
            "overflow_x": null,
            "grid_auto_flow": null,
            "grid_area": null,
            "grid_template_columns": null,
            "flex": null,
            "_model_name": "LayoutModel",
            "justify_items": null,
            "grid_row": null,
            "max_height": null,
            "align_content": null,
            "visibility": null,
            "align_self": null,
            "height": null,
            "min_height": null,
            "padding": null,
            "grid_auto_rows": null,
            "grid_gap": null,
            "max_width": null,
            "order": null,
            "_view_module_version": "1.2.0",
            "grid_template_areas": null,
            "object_position": null,
            "object_fit": null,
            "grid_auto_columns": null,
            "margin": null,
            "display": null,
            "left": null
          }
        },
        "158c78369c4f40a0ae816961a7f85875": {
          "model_module": "@jupyter-widgets/controls",
          "model_name": "DescriptionStyleModel",
          "state": {
            "_view_name": "StyleView",
            "_model_name": "DescriptionStyleModel",
            "description_width": "",
            "_view_module": "@jupyter-widgets/base",
            "_model_module_version": "1.5.0",
            "_view_count": null,
            "_view_module_version": "1.2.0",
            "_model_module": "@jupyter-widgets/controls"
          }
        },
        "8b2ceb6a0213415981a1d9c8b57219a8": {
          "model_module": "@jupyter-widgets/base",
          "model_name": "LayoutModel",
          "state": {
            "_view_name": "LayoutView",
            "grid_template_rows": null,
            "right": null,
            "justify_content": null,
            "_view_module": "@jupyter-widgets/base",
            "overflow": null,
            "_model_module_version": "1.2.0",
            "_view_count": null,
            "flex_flow": null,
            "width": null,
            "min_width": null,
            "border": null,
            "align_items": null,
            "bottom": null,
            "_model_module": "@jupyter-widgets/base",
            "top": null,
            "grid_column": null,
            "overflow_y": null,
            "overflow_x": null,
            "grid_auto_flow": null,
            "grid_area": null,
            "grid_template_columns": null,
            "flex": null,
            "_model_name": "LayoutModel",
            "justify_items": null,
            "grid_row": null,
            "max_height": null,
            "align_content": null,
            "visibility": null,
            "align_self": null,
            "height": null,
            "min_height": null,
            "padding": null,
            "grid_auto_rows": null,
            "grid_gap": null,
            "max_width": null,
            "order": null,
            "_view_module_version": "1.2.0",
            "grid_template_areas": null,
            "object_position": null,
            "object_fit": null,
            "grid_auto_columns": null,
            "margin": null,
            "display": null,
            "left": null
          }
        },
        "b6b473b7ff7f4a949c670b7265bef6da": {
          "model_module": "@jupyter-widgets/controls",
          "model_name": "HBoxModel",
          "state": {
            "_view_name": "HBoxView",
            "_dom_classes": [],
            "_model_name": "HBoxModel",
            "_view_module": "@jupyter-widgets/controls",
            "_model_module_version": "1.5.0",
            "_view_count": null,
            "_view_module_version": "1.5.0",
            "box_style": "",
            "layout": "IPY_MODEL_224a22bcc05844dd95964f582b7df86d",
            "_model_module": "@jupyter-widgets/controls",
            "children": [
              "IPY_MODEL_d3190640a13144f485e29e227e1cf3cb",
              "IPY_MODEL_2758092dbc3547cb826e5465d44436cb"
            ]
          }
        },
        "224a22bcc05844dd95964f582b7df86d": {
          "model_module": "@jupyter-widgets/base",
          "model_name": "LayoutModel",
          "state": {
            "_view_name": "LayoutView",
            "grid_template_rows": null,
            "right": null,
            "justify_content": null,
            "_view_module": "@jupyter-widgets/base",
            "overflow": null,
            "_model_module_version": "1.2.0",
            "_view_count": null,
            "flex_flow": null,
            "width": null,
            "min_width": null,
            "border": null,
            "align_items": null,
            "bottom": null,
            "_model_module": "@jupyter-widgets/base",
            "top": null,
            "grid_column": null,
            "overflow_y": null,
            "overflow_x": null,
            "grid_auto_flow": null,
            "grid_area": null,
            "grid_template_columns": null,
            "flex": null,
            "_model_name": "LayoutModel",
            "justify_items": null,
            "grid_row": null,
            "max_height": null,
            "align_content": null,
            "visibility": null,
            "align_self": null,
            "height": null,
            "min_height": null,
            "padding": null,
            "grid_auto_rows": null,
            "grid_gap": null,
            "max_width": null,
            "order": null,
            "_view_module_version": "1.2.0",
            "grid_template_areas": null,
            "object_position": null,
            "object_fit": null,
            "grid_auto_columns": null,
            "margin": null,
            "display": null,
            "left": null
          }
        },
        "d3190640a13144f485e29e227e1cf3cb": {
          "model_module": "@jupyter-widgets/controls",
          "model_name": "IntProgressModel",
          "state": {
            "_view_name": "ProgressView",
            "style": "IPY_MODEL_5c57a31135774ebc931f5127c898bc94",
            "_dom_classes": [],
            "description": "Downloading: 100%",
            "_model_name": "IntProgressModel",
            "bar_style": "success",
            "max": 440473133,
            "_view_module": "@jupyter-widgets/controls",
            "_model_module_version": "1.5.0",
            "value": 440473133,
            "_view_count": null,
            "_view_module_version": "1.5.0",
            "orientation": "horizontal",
            "min": 0,
            "description_tooltip": null,
            "_model_module": "@jupyter-widgets/controls",
            "layout": "IPY_MODEL_ede91e5278ce4e0c87e6676fad08b4f5"
          }
        },
        "2758092dbc3547cb826e5465d44436cb": {
          "model_module": "@jupyter-widgets/controls",
          "model_name": "HTMLModel",
          "state": {
            "_view_name": "HTMLView",
            "style": "IPY_MODEL_466971b97abe4c2988ee2ac6ac877b75",
            "_dom_classes": [],
            "description": "",
            "_model_name": "HTMLModel",
            "placeholder": "​",
            "_view_module": "@jupyter-widgets/controls",
            "_model_module_version": "1.5.0",
            "value": " 440M/440M [00:13&lt;00:00, 31.6MB/s]",
            "_view_count": null,
            "_view_module_version": "1.5.0",
            "description_tooltip": null,
            "_model_module": "@jupyter-widgets/controls",
            "layout": "IPY_MODEL_8e01d3825d294f7082ff4a620e35fd95"
          }
        },
        "5c57a31135774ebc931f5127c898bc94": {
          "model_module": "@jupyter-widgets/controls",
          "model_name": "ProgressStyleModel",
          "state": {
            "_view_name": "StyleView",
            "_model_name": "ProgressStyleModel",
            "description_width": "initial",
            "_view_module": "@jupyter-widgets/base",
            "_model_module_version": "1.5.0",
            "_view_count": null,
            "_view_module_version": "1.2.0",
            "bar_color": null,
            "_model_module": "@jupyter-widgets/controls"
          }
        },
        "ede91e5278ce4e0c87e6676fad08b4f5": {
          "model_module": "@jupyter-widgets/base",
          "model_name": "LayoutModel",
          "state": {
            "_view_name": "LayoutView",
            "grid_template_rows": null,
            "right": null,
            "justify_content": null,
            "_view_module": "@jupyter-widgets/base",
            "overflow": null,
            "_model_module_version": "1.2.0",
            "_view_count": null,
            "flex_flow": null,
            "width": null,
            "min_width": null,
            "border": null,
            "align_items": null,
            "bottom": null,
            "_model_module": "@jupyter-widgets/base",
            "top": null,
            "grid_column": null,
            "overflow_y": null,
            "overflow_x": null,
            "grid_auto_flow": null,
            "grid_area": null,
            "grid_template_columns": null,
            "flex": null,
            "_model_name": "LayoutModel",
            "justify_items": null,
            "grid_row": null,
            "max_height": null,
            "align_content": null,
            "visibility": null,
            "align_self": null,
            "height": null,
            "min_height": null,
            "padding": null,
            "grid_auto_rows": null,
            "grid_gap": null,
            "max_width": null,
            "order": null,
            "_view_module_version": "1.2.0",
            "grid_template_areas": null,
            "object_position": null,
            "object_fit": null,
            "grid_auto_columns": null,
            "margin": null,
            "display": null,
            "left": null
          }
        },
        "466971b97abe4c2988ee2ac6ac877b75": {
          "model_module": "@jupyter-widgets/controls",
          "model_name": "DescriptionStyleModel",
          "state": {
            "_view_name": "StyleView",
            "_model_name": "DescriptionStyleModel",
            "description_width": "",
            "_view_module": "@jupyter-widgets/base",
            "_model_module_version": "1.5.0",
            "_view_count": null,
            "_view_module_version": "1.2.0",
            "_model_module": "@jupyter-widgets/controls"
          }
        },
        "8e01d3825d294f7082ff4a620e35fd95": {
          "model_module": "@jupyter-widgets/base",
          "model_name": "LayoutModel",
          "state": {
            "_view_name": "LayoutView",
            "grid_template_rows": null,
            "right": null,
            "justify_content": null,
            "_view_module": "@jupyter-widgets/base",
            "overflow": null,
            "_model_module_version": "1.2.0",
            "_view_count": null,
            "flex_flow": null,
            "width": null,
            "min_width": null,
            "border": null,
            "align_items": null,
            "bottom": null,
            "_model_module": "@jupyter-widgets/base",
            "top": null,
            "grid_column": null,
            "overflow_y": null,
            "overflow_x": null,
            "grid_auto_flow": null,
            "grid_area": null,
            "grid_template_columns": null,
            "flex": null,
            "_model_name": "LayoutModel",
            "justify_items": null,
            "grid_row": null,
            "max_height": null,
            "align_content": null,
            "visibility": null,
            "align_self": null,
            "height": null,
            "min_height": null,
            "padding": null,
            "grid_auto_rows": null,
            "grid_gap": null,
            "max_width": null,
            "order": null,
            "_view_module_version": "1.2.0",
            "grid_template_areas": null,
            "object_position": null,
            "object_fit": null,
            "grid_auto_columns": null,
            "margin": null,
            "display": null,
            "left": null
          }
        }
      }
    }
  },
  "cells": [
    {
      "cell_type": "markdown",
      "metadata": {
        "id": "nrFWtPUK9Zzs",
        "colab_type": "text"
      },
      "source": [
        "## Generate Logits and Embeddings to use as Features for Tweet Classifier\n",
        "\n",
        "Given a labeled training and unlabeled test set of tweets, this notebook fine-tunes a pre-trained BERT model and generates embeddings and logtis to use as features in a stacked model.\n",
        "\n",
        "To generate features on the training set, the training set will be divided into 8 holdouts, and a new model will be trained on 7 holdouts at a time to generate the logits and embeddings for the other holdout.\n",
        "\n",
        "To generate features on the test set, the model will be trained on the entire training set and used to generate features for the entire test set at once."
      ]
    },
    {
      "cell_type": "code",
      "metadata": {
        "id": "ykQ12U6Y9RSi",
        "colab_type": "code",
        "colab": {}
      },
      "source": [
        "import random\n",
        "import os\n",
        "import pandas as pd\n",
        "import numpy as np\n",
        "!pip install transformers\n",
        "from transformers import BertTokenizer, BertForSequenceClassification, BertModel, BertPreTrainedModel, BertConfig\n",
        "from transformers import AdamW, BertConfig, get_linear_schedule_with_warmup\n",
        "from keras.preprocessing.sequence import pad_sequences\n",
        "import torch\n",
        "from torch import nn, optim\n",
        "from torch.utils.data import TensorDataset, Subset, DataLoader, RandomSampler, SequentialSampler, TensorDataset\n",
        "import io\n",
        "from sklearn.model_selection import train_test_split\n",
        "import matplotlib.pyplot as plt\n",
        "from google.colab import files, drive\n",
        "drive.mount('/content/drive')\n",
        "uploaded = files.upload()"
      ],
      "execution_count": 0,
      "outputs": []
    },
    {
      "cell_type": "code",
      "metadata": {
        "id": "C9IsUVPE-J8y",
        "colab_type": "code",
        "colab": {}
      },
      "source": [
        "df_train = pd.read_csv(io.StringIO(uploaded['profile_data_train.csv'].decode('utf-8')))\n",
        "df_train = df_train.drop('Unnamed: 0', axis=1).reset_index(drop=True)\n",
        "\n",
        "df_test = pd.read_csv(io.StringIO(uploaded['profile_data_test.csv'].decode('utf-8')))\n",
        "df_test = df_test.drop('Unnamed: 0', axis=1).reset_index(drop=True)"
      ],
      "execution_count": 0,
      "outputs": []
    },
    {
      "cell_type": "markdown",
      "metadata": {
        "id": "nKWLSBc9-p4E",
        "colab_type": "text"
      },
      "source": [
        "Split training set into 8 holdouts, generate X/Y variables."
      ]
    },
    {
      "cell_type": "code",
      "metadata": {
        "id": "ZzDHiz45-LX9",
        "colab_type": "code",
        "colab": {}
      },
      "source": [
        "# Split train dataframe into 8 stratified chunks\n",
        "X_train = df_train.drop('age_group', axis=1)\n",
        "Y_train = df_train.age_group.values.tolist()\n",
        "X_test = df_test.drop('age_group', axis=1)\n",
        "Y_test = df_test.age_group.values.tolist()\n",
        "\n",
        "# First split: 50-50\n",
        "X_1, X_2, Y_1, Y_2 = train_test_split(X_train, Y_train, stratify=Y_train, test_size=0.5, random_state=42)\n",
        "\n",
        "# Second split: 25-25-25-25\n",
        "X_1, X_3, Y_1, Y_3 = train_test_split(X_1, Y_1, stratify=Y_1, test_size=0.5, random_state=42)\n",
        "X_2, X_4, Y_2, Y_4 = train_test_split(X_2, Y_2, stratify=Y_2, test_size=0.5, random_state=42)\n",
        "\n",
        "# Third split: 12.5 x 8\n",
        "X_1, X_5, Y_1, Y_5 = train_test_split(X_1, Y_1, stratify=Y_1, test_size=0.5, random_state=42)\n",
        "X_2, X_6, Y_2, Y_6 = train_test_split(X_2, Y_2, stratify=Y_2, test_size=0.5, random_state=42)\n",
        "X_3, X_7, Y_3, Y_7 = train_test_split(X_3, Y_3, stratify=Y_3, test_size=0.5, random_state=42)\n",
        "X_4, X_8, Y_4, Y_8 = train_test_split(X_4, Y_4, stratify=Y_4, test_size=0.5, random_state=42)\n",
        "\n",
        "X_1 = X_1.reset_index(drop=True)\n",
        "X_2 = X_2.reset_index(drop=True)\n",
        "X_3 = X_3.reset_index(drop=True)\n",
        "X_4 = X_4.reset_index(drop=True)\n",
        "X_5 = X_5.reset_index(drop=True)\n",
        "X_6 = X_6.reset_index(drop=True)\n",
        "X_7 = X_7.reset_index(drop=True)\n",
        "X_8 = X_8.reset_index(drop=True)\n",
        "\n",
        "X_splits = [X_1, X_2, X_3, X_4, X_5, X_6, X_7, X_8]\n",
        "Y_splits = [Y_1, Y_2, Y_3, Y_4, Y_5, Y_6, Y_7, Y_8]"
      ],
      "execution_count": 0,
      "outputs": []
    },
    {
      "cell_type": "code",
      "metadata": {
        "id": "GMM7rJLg-Nyf",
        "colab_type": "code",
        "colab": {}
      },
      "source": [
        "tokenizer = BertTokenizer.from_pretrained('bert-base-uncased')"
      ],
      "execution_count": 0,
      "outputs": []
    },
    {
      "cell_type": "markdown",
      "metadata": {
        "id": "Otx5X8N7_bQi",
        "colab_type": "text"
      },
      "source": [
        "Define functions to train, evaluate, and get outputs for a fine-tuned BERT"
      ]
    },
    {
      "cell_type": "code",
      "metadata": {
        "id": "SfWbDJIQ-ORX",
        "colab_type": "code",
        "colab": {}
      },
      "source": [
        "# Compute accuracy given logits and true labels\n",
        "def accuracy(logits, labels):\n",
        "    preds = np.argmax(logits, axis=1).flatten()\n",
        "    labels = labels.flatten()\n",
        "    return np.sum(preds == labels) / len(labels)\n",
        "\n",
        "# Train a model over one epoch\n",
        "def train_one_epoch(model, train_dataloader, optimizer, scheduler):\n",
        "    print(\"*************STARTING EPOCH*************\")\n",
        "    seed_val = 42\n",
        "    random.seed(seed_val)\n",
        "    np.random.seed(seed_val)\n",
        "    torch.manual_seed(seed_val)\n",
        "    torch.cuda.manual_seed_all(seed_val)\n",
        "    total_loss = 0\n",
        "    device = torch.device(\"cuda:0\" if torch.cuda.is_available() else \"cpu\")\n",
        "\n",
        "    # Epoch\n",
        "    model.train()\n",
        "    for step, batch in enumerate(train_dataloader):\n",
        "        if step % 100 == 0:\n",
        "            print(\"Batch \" + str(step) + ' of ' + str(len(train_dataloader)))\n",
        "        batch_input_ids = batch[0].to(device)\n",
        "        batch_input_masks = batch[1].to(device)\n",
        "        batch_labels = batch[2].to(device)\n",
        "        model.zero_grad()\n",
        "        outputs = model(batch_input_ids, token_type_ids=None, attention_mask=batch_input_masks, labels=batch_labels)\n",
        "        loss = outputs[0]\n",
        "        total_loss += loss.item()\n",
        "        loss.backward()\n",
        "        torch.nn.utils.clip_grad_norm_(model.parameters(), 1.0)\n",
        "        optimizer.step()\n",
        "        scheduler.step()\n",
        "\n",
        "    avg_train_loss = total_loss / len(train_dataloader)\n",
        "    print(\"Done training epoch. Average training loss: \" + str(avg_train_loss))\n",
        "    return avg_train_loss\n",
        "\n",
        "# Evaluate a model's accuracy and return predictions, true labels, embeddings\n",
        "def eval_profiles(model, test_dataloader):\n",
        "    device = torch.device(\"cuda:0\" if torch.cuda.is_available() else \"cpu\")\n",
        "    model.eval()\n",
        "    predictions, true_labels, embedding_layers = [], [], []\n",
        "\n",
        "    eval_accuracy, eval_steps = 0, 0\n",
        "\n",
        "    for step, batch in enumerate(test_dataloader):\n",
        "        batch = tuple(t.to(device) for t in batch)\n",
        "        if step % 100 == 0:\n",
        "            print(\"batch \" + str(step) + ' of ' + str(len(test_dataloader)))\n",
        "        batch_input_ids, batch_input_mask, batch_labels = batch\n",
        "        with torch.no_grad():\n",
        "            outputs = model(batch_input_ids, token_type_ids=None, attention_mask=batch_input_mask)\n",
        "        logits = outputs[0]\n",
        "        logits = logits.detach().cpu().numpy()\n",
        "        labels = batch_labels.to('cpu').numpy()\n",
        "        embed = outputs[1][-1].detach().cpu().numpy() # Last layer before logits\n",
        "        predictions.append(logits)\n",
        "        true_labels.append(labels)\n",
        "        embedding_layers.append(embed)\n",
        "        eval_accuracy += accuracy(logits, labels)\n",
        "        eval_steps += 1\n",
        "\n",
        "    print(\"Calculated accuracy on eval set: \" + str(eval_accuracy / eval_steps))\n",
        "    return predictions, true_labels, embedding_layers"
      ],
      "execution_count": 0,
      "outputs": []
    },
    {
      "cell_type": "code",
      "metadata": {
        "id": "T1_0Sllz-Qc4",
        "colab_type": "code",
        "colab": {}
      },
      "source": [
        "# Assign initial training logits\n",
        "df_train = df_train.assign(Logit0=np.zeros(df_train.shape[0]))\n",
        "df_train = df_train.assign(Logit1=np.zeros(df_train.shape[0]))\n",
        "df_train = df_train.assign(Logit2=np.zeros(df_train.shape[0]))\n",
        "df_train = df_train.assign(Logit3=np.zeros(df_train.shape[0]))"
      ],
      "execution_count": 0,
      "outputs": []
    },
    {
      "cell_type": "markdown",
      "metadata": {
        "id": "KQUWzfdF_yDh",
        "colab_type": "text"
      },
      "source": [
        "Generate logits and embeddings for each holdout by training on the others"
      ]
    },
    {
      "cell_type": "code",
      "metadata": {
        "id": "ZP_4W54J_h--",
        "colab_type": "code",
        "outputId": "47da3512-6e85-40bb-d208-effb0d87873d",
        "colab": {
          "base_uri": "https://localhost:8080/",
          "height": 1000,
          "referenced_widgets": [
            "b81ea7e15cda4f0faf2c6e64a2a02b2b",
            "2b8ff40856684a338b83689a783e5e91",
            "8b76c58fcfe64018b8df70009b44ac4d",
            "7e0452d469cd4d42bfefb34d8b0c22b9",
            "02b4c9bc3c29495ea3f6bb6fae0eaf6f",
            "48ff09fe9a194e8f8310dfb18ba2c6a9",
            "158c78369c4f40a0ae816961a7f85875",
            "8b2ceb6a0213415981a1d9c8b57219a8",
            "b6b473b7ff7f4a949c670b7265bef6da",
            "224a22bcc05844dd95964f582b7df86d",
            "d3190640a13144f485e29e227e1cf3cb",
            "2758092dbc3547cb826e5465d44436cb",
            "5c57a31135774ebc931f5127c898bc94",
            "ede91e5278ce4e0c87e6676fad08b4f5",
            "466971b97abe4c2988ee2ac6ac877b75",
            "8e01d3825d294f7082ff4a620e35fd95"
          ]
        }
      },
      "source": [
        "epochs = 7\n",
        "batch_size = 8\n",
        "\n",
        "for holdout_idx in range(8):\n",
        "  print(\"************************************************************************************************************\")\n",
        "  print(\"************************************GENERATING LOGITS FOR HOLDOUT \" + str(holdout_idx + 1) + \" OF 8************************************\")\n",
        "  print(\"************************************************************************************************************\\n\")\n",
        "  X_temp, Y_temp = [], []\n",
        "  X_holdout, Y_holdout = [], []\n",
        "  # Generate temporary X and Y for training and holdout\n",
        "  for idx in range(8):\n",
        "    if idx != holdout_idx:\n",
        "      X_temp = X_temp + X_splits[idx].tweets_text.values.tolist()\n",
        "      Y_temp = Y_temp + Y_splits[idx]\n",
        "    else:\n",
        "      X_holdout = X_splits[idx].tweets_text.values.tolist()\n",
        "      Y_holdout = Y_splits[idx]\n",
        "  \n",
        "  # Tokenize and pad inputs\n",
        "  input_ids, holdout_input_ids = [], []\n",
        "\n",
        "  for tweet in X_temp:\n",
        "    encoded = tokenizer.encode(tweet, add_special_tokens=True, max_length=512)\n",
        "    input_ids.append(encoded)\n",
        "  input_ids = pad_sequences(input_ids, maxlen=512, dtype='long', value=0, padding='post', truncating='post')\n",
        "\n",
        "  for tweet in X_holdout:\n",
        "    encoded = tokenizer.encode(tweet, add_special_tokens=True, max_length=512)\n",
        "    holdout_input_ids.append(encoded)\n",
        "  holdout_input_ids = pad_sequences(holdout_input_ids, maxlen=512, dtype='long', value=0, padding='post', truncating='post')\n",
        "\n",
        "  # Attention masks to ignore padded tokens\n",
        "  attention_masks, holdout_attention_masks = [], []\n",
        "  for tweet in input_ids:\n",
        "    mask = [int(token_id > 0) for token_id in tweet]\n",
        "    attention_masks.append(mask)\n",
        "\n",
        "  for tweet in holdout_input_ids:\n",
        "    mask = [int(token_id > 0) for token_id in tweet]\n",
        "    holdout_attention_masks.append(mask)\n",
        "  \n",
        "  # Prep torch data\n",
        "  train_inputs = torch.tensor(input_ids)\n",
        "  train_labels = torch.tensor(Y_temp)\n",
        "  train_masks = torch.tensor(attention_masks)\n",
        "  holdout_inputs = torch.tensor(holdout_input_ids)\n",
        "  holdout_labels = torch.tensor(Y_holdout)\n",
        "  holdout_masks = torch.tensor(holdout_attention_masks)\n",
        "  \n",
        "  train_data = TensorDataset(train_inputs, train_masks, train_labels)\n",
        "  train_sampler = RandomSampler(train_data)\n",
        "  train_dataloader = DataLoader(train_data, sampler=train_sampler, batch_size=batch_size)\n",
        "  holdout_data = TensorDataset(holdout_inputs, holdout_masks, holdout_labels)\n",
        "  holdout_dataloader = DataLoader(holdout_data, sampler=None, batch_size=batch_size)\n",
        "\n",
        "  # Load empty model\n",
        "  model =  BertForSequenceClassification.from_pretrained('bert-base-uncased', num_labels=4, output_attentions=False, output_hidden_states=True)\n",
        "  model.cuda()\n",
        "  optimizer = AdamW(model.parameters(), lr = 2e-5, eps = 1e-8)\n",
        "  total_steps = len(train_dataloader) * epochs\n",
        "  scheduler = get_linear_schedule_with_warmup(optimizer, num_warmup_steps=0, num_training_steps=total_steps)\n",
        "\n",
        "  # Train over epochs\n",
        "  losses = []\n",
        "  for epoch in range(epochs):\n",
        "    print(\"Epoch \" + str(epoch + 1))\n",
        "    loss = train_one_epoch(model, train_dataloader, optimizer, scheduler)\n",
        "    losses.append(loss)\n",
        "\n",
        "  plt.plot(losses, 'b-o')\n",
        "  plt.title(\"Training loss without holdout \" + str(holdout_idx + 1))\n",
        "  plt.xlabel(\"Epoch\")\n",
        "  plt.ylabel(\"Loss\")\n",
        "  plt.show()\n",
        "  \n",
        "  predictions, true_labels, embedding_layers = eval_profiles(model, holdout_dataloader)\n",
        "\n",
        "  # Assign logits and embeddings to dataframe\n",
        "  logits = [item for sublist in predictions for item in sublist]\n",
        "  logits = np.array(logits)\n",
        "  embeddings = np.array([item for sublist in embedding_layers for item in sublist]) # N x 512 x 768\n",
        "  embeddings = embeddings[:,0,:]  # Embedding of [CLS] token represents sentence, N x 768\n",
        "\n",
        "  X_splits[holdout_idx] = X_splits[holdout_idx].reset_index(drop=True)\n",
        "  for idx, row in X_splits[holdout_idx].iterrows():\n",
        "    handle = row['handle']\n",
        "    df_train.loc[df_train['handle'] == handle, 'Logit0'] = logits[idx][0]\n",
        "    df_train.loc[df_train['handle'] == handle, 'Logit1'] = logits[idx][1]\n",
        "    df_train.loc[df_train['handle'] == handle, 'Logit2'] = logits[idx][2]\n",
        "    df_train.loc[df_train['handle'] == handle, 'Logit3'] = logits[idx][3]\n",
        "    for i in range(768):\n",
        "      feat_name = 'embed' + str(i)\n",
        "      df_train.loc[df_train['handle'] == handle, feat_name] = embeddings[idx][i]\n",
        "  \n",
        "  del model # Free cuda memory, prevent information leakage"
      ],
      "execution_count": 0,
      "outputs": [
        {
          "output_type": "stream",
          "text": [
            "************************************************************************************************************\n",
            "************************************GENERATING LOGITS FOR HOLDOUT 1 OF 8************************************\n",
            "************************************************************************************************************\n",
            "\n"
          ],
          "name": "stdout"
        },
        {
          "output_type": "display_data",
          "data": {
            "application/vnd.jupyter.widget-view+json": {
              "model_id": "b81ea7e15cda4f0faf2c6e64a2a02b2b",
              "version_minor": 0,
              "version_major": 2
            },
            "text/plain": [
              "HBox(children=(IntProgress(value=0, description='Downloading', max=433, style=ProgressStyle(description_width=…"
            ]
          },
          "metadata": {
            "tags": []
          }
        },
        {
          "output_type": "stream",
          "text": [
            "\n"
          ],
          "name": "stdout"
        },
        {
          "output_type": "display_data",
          "data": {
            "application/vnd.jupyter.widget-view+json": {
              "model_id": "b6b473b7ff7f4a949c670b7265bef6da",
              "version_minor": 0,
              "version_major": 2
            },
            "text/plain": [
              "HBox(children=(IntProgress(value=0, description='Downloading', max=440473133, style=ProgressStyle(description_…"
            ]
          },
          "metadata": {
            "tags": []
          }
        },
        {
          "output_type": "stream",
          "text": [
            "\n",
            "Epoch 1\n",
            "*************STARTING EPOCH*************\n",
            "Batch 0 of 186\n"
          ],
          "name": "stdout"
        },
        {
          "output_type": "stream",
          "text": [
            "/pytorch/torch/csrc/utils/python_arg_parser.cpp:756: UserWarning: This overload of add_ is deprecated:\n",
            "\tadd_(Number alpha, Tensor other)\n",
            "Consider using one of the following signatures instead:\n",
            "\tadd_(Tensor other, *, Number alpha)\n"
          ],
          "name": "stderr"
        },
        {
          "output_type": "stream",
          "text": [
            "Batch 100 of 186\n",
            "Done training epoch. Average training loss: 1.1985201300472341\n",
            "Epoch 2\n",
            "*************STARTING EPOCH*************\n",
            "Batch 0 of 186\n",
            "Batch 100 of 186\n",
            "Done training epoch. Average training loss: 0.9267382572094599\n",
            "Epoch 3\n",
            "*************STARTING EPOCH*************\n",
            "Batch 0 of 186\n",
            "Batch 100 of 186\n",
            "Done training epoch. Average training loss: 0.6490305994627297\n",
            "Epoch 4\n",
            "*************STARTING EPOCH*************\n",
            "Batch 0 of 186\n",
            "Batch 100 of 186\n",
            "Done training epoch. Average training loss: 0.39485938710871565\n",
            "Epoch 5\n",
            "*************STARTING EPOCH*************\n",
            "Batch 0 of 186\n",
            "Batch 100 of 186\n",
            "Done training epoch. Average training loss: 0.18592819448320136\n",
            "Epoch 6\n",
            "*************STARTING EPOCH*************\n",
            "Batch 0 of 186\n",
            "Batch 100 of 186\n",
            "Done training epoch. Average training loss: 0.054078109297020144\n",
            "Epoch 7\n",
            "*************STARTING EPOCH*************\n",
            "Batch 0 of 186\n",
            "Batch 100 of 186\n",
            "Done training epoch. Average training loss: 0.022619281151902773\n"
          ],
          "name": "stdout"
        },
        {
          "output_type": "display_data",
          "data": {
            "image/png": "[encoded data removed]",
            "text/plain": [
              "<Figure size 432x288 with 1 Axes>"
            ]
          },
          "metadata": {
            "tags": [],
            "needs_background": "light"
          }
        },
        {
          "output_type": "stream",
          "text": [
            "batch 0 of 27\n",
            "Calculated accuracy on eval set: 0.47685185185185186\n",
            "************************************************************************************************************\n",
            "************************************GENERATING LOGITS FOR HOLDOUT 2 OF 8************************************\n",
            "************************************************************************************************************\n",
            "\n",
            "Epoch 1\n",
            "*************STARTING EPOCH*************\n",
            "Batch 0 of 186\n",
            "Batch 100 of 186\n",
            "Done training epoch. Average training loss: 1.2079175515200502\n",
            "Epoch 2\n",
            "*************STARTING EPOCH*************\n",
            "Batch 0 of 186\n",
            "Batch 100 of 186\n",
            "Done training epoch. Average training loss: 0.9444932022722818\n",
            "Epoch 3\n",
            "*************STARTING EPOCH*************\n",
            "Batch 0 of 186\n",
            "Batch 100 of 186\n",
            "Done training epoch. Average training loss: 0.5919571495665017\n",
            "Epoch 4\n",
            "*************STARTING EPOCH*************\n",
            "Batch 0 of 186\n",
            "Batch 100 of 186\n",
            "Done training epoch. Average training loss: 0.3065184117645346\n",
            "Epoch 5\n",
            "*************STARTING EPOCH*************\n",
            "Batch 0 of 186\n",
            "Batch 100 of 186\n",
            "Done training epoch. Average training loss: 0.12824050118766164\n",
            "Epoch 6\n",
            "*************STARTING EPOCH*************\n",
            "Batch 0 of 186\n",
            "Batch 100 of 186\n",
            "Done training epoch. Average training loss: 0.03464048143015594\n",
            "Epoch 7\n",
            "*************STARTING EPOCH*************\n",
            "Batch 0 of 186\n",
            "Batch 100 of 186\n",
            "Done training epoch. Average training loss: 0.01735372412248805\n"
          ],
          "name": "stdout"
        },
        {
          "output_type": "display_data",
          "data": {
            "image/png": "[encoded data removed]",
            "text/plain": [
              "<Figure size 432x288 with 1 Axes>"
            ]
          },
          "metadata": {
            "tags": [],
            "needs_background": "light"
          }
        },
        {
          "output_type": "stream",
          "text": [
            "batch 0 of 27\n",
            "Calculated accuracy on eval set: 0.5185185185185185\n",
            "************************************************************************************************************\n",
            "************************************GENERATING LOGITS FOR HOLDOUT 3 OF 8************************************\n",
            "************************************************************************************************************\n",
            "\n",
            "Epoch 1\n",
            "*************STARTING EPOCH*************\n",
            "Batch 0 of 186\n",
            "Batch 100 of 186\n",
            "Done training epoch. Average training loss: 1.208329483386009\n",
            "Epoch 2\n",
            "*************STARTING EPOCH*************\n",
            "Batch 0 of 186\n",
            "Batch 100 of 186\n",
            "Done training epoch. Average training loss: 0.9595490609125424\n",
            "Epoch 3\n",
            "*************STARTING EPOCH*************\n",
            "Batch 0 of 186\n",
            "Batch 100 of 186\n",
            "Done training epoch. Average training loss: 0.6110440143333968\n",
            "Epoch 4\n",
            "*************STARTING EPOCH*************\n",
            "Batch 0 of 186\n",
            "Batch 100 of 186\n",
            "Done training epoch. Average training loss: 0.3332428754737941\n",
            "Epoch 5\n",
            "*************STARTING EPOCH*************\n",
            "Batch 0 of 186\n",
            "Batch 100 of 186\n",
            "Done training epoch. Average training loss: 0.1636602443452644\n",
            "Epoch 6\n",
            "*************STARTING EPOCH*************\n",
            "Batch 0 of 186\n",
            "Batch 100 of 186\n",
            "Done training epoch. Average training loss: 0.042319871507765304\n",
            "Epoch 7\n",
            "*************STARTING EPOCH*************\n",
            "Batch 0 of 186\n",
            "Batch 100 of 186\n",
            "Done training epoch. Average training loss: 0.017002859961501852\n"
          ],
          "name": "stdout"
        },
        {
          "output_type": "display_data",
          "data": {
            "image/png": "[encoded data removed]",
            "text/plain": [
              "<Figure size 432x288 with 1 Axes>"
            ]
          },
          "metadata": {
            "tags": [],
            "needs_background": "light"
          }
        },
        {
          "output_type": "stream",
          "text": [
            "batch 0 of 27\n",
            "Calculated accuracy on eval set: 0.5370370370370371\n",
            "************************************************************************************************************\n",
            "************************************GENERATING LOGITS FOR HOLDOUT 4 OF 8************************************\n",
            "************************************************************************************************************\n",
            "\n",
            "Epoch 1\n",
            "*************STARTING EPOCH*************\n",
            "Batch 0 of 186\n",
            "Batch 100 of 186\n",
            "Done training epoch. Average training loss: 1.2061449154730766\n",
            "Epoch 2\n",
            "*************STARTING EPOCH*************\n",
            "Batch 0 of 186\n",
            "Batch 100 of 186\n",
            "Done training epoch. Average training loss: 0.9153922360430482\n",
            "Epoch 3\n",
            "*************STARTING EPOCH*************\n",
            "Batch 0 of 186\n",
            "Batch 100 of 186\n",
            "Done training epoch. Average training loss: 0.5761502807339033\n",
            "Epoch 4\n",
            "*************STARTING EPOCH*************\n",
            "Batch 0 of 186\n",
            "Batch 100 of 186\n",
            "Done training epoch. Average training loss: 0.30978118812525146\n",
            "Epoch 5\n",
            "*************STARTING EPOCH*************\n",
            "Batch 0 of 186\n",
            "Batch 100 of 186\n",
            "Done training epoch. Average training loss: 0.12839353252803126\n",
            "Epoch 6\n",
            "*************STARTING EPOCH*************\n",
            "Batch 0 of 186\n",
            "Batch 100 of 186\n",
            "Done training epoch. Average training loss: 0.04198846141857806\n",
            "Epoch 7\n",
            "*************STARTING EPOCH*************\n",
            "Batch 0 of 186\n",
            "Batch 100 of 186\n",
            "Done training epoch. Average training loss: 0.014597769711487076\n"
          ],
          "name": "stdout"
        },
        {
          "output_type": "display_data",
          "data": {
            "image/png": "[encoded data removed]",
            "text/plain": [
              "<Figure size 432x288 with 1 Axes>"
            ]
          },
          "metadata": {
            "tags": [],
            "needs_background": "light"
          }
        },
        {
          "output_type": "stream",
          "text": [
            "batch 0 of 27\n",
            "Calculated accuracy on eval set: 0.4722222222222222\n",
            "************************************************************************************************************\n",
            "************************************GENERATING LOGITS FOR HOLDOUT 5 OF 8************************************\n",
            "************************************************************************************************************\n",
            "\n",
            "Epoch 1\n",
            "*************STARTING EPOCH*************\n",
            "Batch 0 of 186\n",
            "Batch 100 of 186\n",
            "Done training epoch. Average training loss: 1.2120276788870494\n",
            "Epoch 2\n",
            "*************STARTING EPOCH*************\n",
            "Batch 0 of 186\n",
            "Batch 100 of 186\n",
            "Done training epoch. Average training loss: 0.9384861490739289\n",
            "Epoch 3\n",
            "*************STARTING EPOCH*************\n",
            "Batch 0 of 186\n",
            "Batch 100 of 186\n",
            "Done training epoch. Average training loss: 0.6189236010434807\n",
            "Epoch 4\n",
            "*************STARTING EPOCH*************\n",
            "Batch 0 of 186\n",
            "Batch 100 of 186\n",
            "Done training epoch. Average training loss: 0.3484393509645616\n",
            "Epoch 5\n",
            "*************STARTING EPOCH*************\n",
            "Batch 0 of 186\n",
            "Batch 100 of 186\n",
            "Done training epoch. Average training loss: 0.1534753091513149\n",
            "Epoch 6\n",
            "*************STARTING EPOCH*************\n",
            "Batch 0 of 186\n",
            "Batch 100 of 186\n",
            "Done training epoch. Average training loss: 0.05686133359408667\n",
            "Epoch 7\n",
            "*************STARTING EPOCH*************\n",
            "Batch 0 of 186\n",
            "Batch 100 of 186\n",
            "Done training epoch. Average training loss: 0.022390851500614355\n"
          ],
          "name": "stdout"
        },
        {
          "output_type": "display_data",
          "data": {
            "image/png": "[encoded data removed]",
            "text/plain": [
              "<Figure size 432x288 with 1 Axes>"
            ]
          },
          "metadata": {
            "tags": [],
            "needs_background": "light"
          }
        },
        {
          "output_type": "stream",
          "text": [
            "batch 0 of 27\n",
            "Calculated accuracy on eval set: 0.5462962962962963\n",
            "************************************************************************************************************\n",
            "************************************GENERATING LOGITS FOR HOLDOUT 6 OF 8************************************\n",
            "************************************************************************************************************\n",
            "\n",
            "Epoch 1\n",
            "*************STARTING EPOCH*************\n",
            "Batch 0 of 186\n",
            "Batch 100 of 186\n",
            "Done training epoch. Average training loss: 1.2151711595955716\n",
            "Epoch 2\n",
            "*************STARTING EPOCH*************\n",
            "Batch 0 of 186\n",
            "Batch 100 of 186\n",
            "Done training epoch. Average training loss: 0.9561460594977101\n",
            "Epoch 3\n",
            "*************STARTING EPOCH*************\n",
            "Batch 0 of 186\n",
            "Batch 100 of 186\n",
            "Done training epoch. Average training loss: 0.6422312001707733\n",
            "Epoch 4\n",
            "*************STARTING EPOCH*************\n",
            "Batch 0 of 186\n",
            "Batch 100 of 186\n",
            "Done training epoch. Average training loss: 0.4068613084413672\n",
            "Epoch 5\n",
            "*************STARTING EPOCH*************\n",
            "Batch 0 of 186\n",
            "Batch 100 of 186\n",
            "Done training epoch. Average training loss: 0.18638671235612003\n",
            "Epoch 6\n",
            "*************STARTING EPOCH*************\n",
            "Batch 0 of 186\n",
            "Batch 100 of 186\n",
            "Done training epoch. Average training loss: 0.07035644496640851\n",
            "Epoch 7\n",
            "*************STARTING EPOCH*************\n",
            "Batch 0 of 186\n",
            "Batch 100 of 186\n",
            "Done training epoch. Average training loss: 0.03218212235037998\n"
          ],
          "name": "stdout"
        },
        {
          "output_type": "display_data",
          "data": {
            "image/png": "[encoded data removed]",
            "text/plain": [
              "<Figure size 432x288 with 1 Axes>"
            ]
          },
          "metadata": {
            "tags": [],
            "needs_background": "light"
          }
        },
        {
          "output_type": "stream",
          "text": [
            "batch 0 of 27\n",
            "Calculated accuracy on eval set: 0.5351851851851852\n",
            "************************************************************************************************************\n",
            "************************************GENERATING LOGITS FOR HOLDOUT 7 OF 8************************************\n",
            "************************************************************************************************************\n",
            "\n",
            "Epoch 1\n",
            "*************STARTING EPOCH*************\n",
            "Batch 0 of 186\n",
            "Batch 100 of 186\n",
            "Done training epoch. Average training loss: 1.202116492294496\n",
            "Epoch 2\n",
            "*************STARTING EPOCH*************\n",
            "Batch 0 of 186\n",
            "Batch 100 of 186\n",
            "Done training epoch. Average training loss: 0.9693838971596892\n",
            "Epoch 3\n",
            "*************STARTING EPOCH*************\n",
            "Batch 0 of 186\n",
            "Batch 100 of 186\n",
            "Done training epoch. Average training loss: 0.7240425231315757\n",
            "Epoch 4\n",
            "*************STARTING EPOCH*************\n",
            "Batch 0 of 186\n",
            "Batch 100 of 186\n",
            "Done training epoch. Average training loss: 0.46299800124540125\n",
            "Epoch 5\n",
            "*************STARTING EPOCH*************\n",
            "Batch 0 of 186\n",
            "Batch 100 of 186\n",
            "Done training epoch. Average training loss: 0.25300807007137804\n",
            "Epoch 6\n",
            "*************STARTING EPOCH*************\n",
            "Batch 0 of 186\n",
            "Batch 100 of 186\n",
            "Done training epoch. Average training loss: 0.09957699405570183\n",
            "Epoch 7\n",
            "*************STARTING EPOCH*************\n",
            "Batch 0 of 186\n",
            "Batch 100 of 186\n",
            "Done training epoch. Average training loss: 0.03934690349745334\n"
          ],
          "name": "stdout"
        },
        {
          "output_type": "display_data",
          "data": {
            "image/png": "[encoded data removed]",
            "text/plain": [
              "<Figure size 432x288 with 1 Axes>"
            ]
          },
          "metadata": {
            "tags": [],
            "needs_background": "light"
          }
        },
        {
          "output_type": "stream",
          "text": [
            "batch 0 of 27\n",
            "Calculated accuracy on eval set: 0.5407407407407407\n",
            "************************************************************************************************************\n",
            "************************************GENERATING LOGITS FOR HOLDOUT 8 OF 8************************************\n",
            "************************************************************************************************************\n",
            "\n",
            "Epoch 1\n",
            "*************STARTING EPOCH*************\n",
            "Batch 0 of 186\n",
            "Batch 100 of 186\n",
            "Done training epoch. Average training loss: 1.187458702953913\n",
            "Epoch 2\n",
            "*************STARTING EPOCH*************\n",
            "Batch 0 of 186\n",
            "Batch 100 of 186\n",
            "Done training epoch. Average training loss: 0.9417789123391592\n",
            "Epoch 3\n",
            "*************STARTING EPOCH*************\n",
            "Batch 0 of 186\n",
            "Batch 100 of 186\n",
            "Done training epoch. Average training loss: 0.667666224382257\n",
            "Epoch 4\n",
            "*************STARTING EPOCH*************\n",
            "Batch 0 of 186\n",
            "Batch 100 of 186\n",
            "Done training epoch. Average training loss: 0.4221239566642751\n",
            "Epoch 5\n",
            "*************STARTING EPOCH*************\n",
            "Batch 0 of 186\n",
            "Batch 100 of 186\n",
            "Done training epoch. Average training loss: 0.1911743421267758\n",
            "Epoch 6\n",
            "*************STARTING EPOCH*************\n",
            "Batch 0 of 186\n",
            "Batch 100 of 186\n",
            "Done training epoch. Average training loss: 0.0660370948013439\n",
            "Epoch 7\n",
            "*************STARTING EPOCH*************\n",
            "Batch 0 of 186\n",
            "Batch 100 of 186\n",
            "Done training epoch. Average training loss: 0.03026522818692429\n"
          ],
          "name": "stdout"
        },
        {
          "output_type": "display_data",
          "data": {
            "image/png": "[encoded data removed]",
            "text/plain": [
              "<Figure size 432x288 with 1 Axes>"
            ]
          },
          "metadata": {
            "tags": [],
            "needs_background": "light"
          }
        },
        {
          "output_type": "stream",
          "text": [
            "batch 0 of 27\n",
            "Calculated accuracy on eval set: 0.5157407407407407\n"
          ],
          "name": "stdout"
        }
      ]
    },
    {
      "cell_type": "code",
      "metadata": {
        "id": "PEIrLIL_HYGR",
        "colab_type": "code",
        "outputId": "9a703dd9-ad6b-4ac7-acfb-f9582904e5cd",
        "colab": {
          "base_uri": "https://localhost:8080/",
          "height": 173
        }
      },
      "source": [
        "# Save generated training features\n",
        "df_train.to_csv('train.csv')\n",
        "!cp train.csv \"drive/My Drive/\"\n",
        "\n",
        "print(\"Successfully saved training features:\")\n",
        "print(df_train.head())"
      ],
      "execution_count": 0,
      "outputs": [
        {
          "output_type": "stream",
          "text": [
            "Successfully saved training features:\n",
            "           handle  ...  embed767\n",
            "0      labworxart  ... -0.565820\n",
            "1  SavannahSoutas  ... -0.092007\n",
            "2        chaaitee  ... -0.338629\n",
            "3      sofieeeeya  ... -0.002130\n",
            "4     aalexmoran_  ...  0.338243\n",
            "\n",
            "[5 rows x 789 columns]\n"
          ],
          "name": "stdout"
        }
      ]
    },
    {
      "cell_type": "markdown",
      "metadata": {
        "id": "vbjLmoolFUJm",
        "colab_type": "text"
      },
      "source": [
        "Now generate logits and embeddings for test set by training on entire train set."
      ]
    },
    {
      "cell_type": "code",
      "metadata": {
        "id": "uXRbUxu_FSiu",
        "colab_type": "code",
        "outputId": "91747f78-9348-40ee-eb64-b6919a007701",
        "colab": {
          "base_uri": "https://localhost:8080/",
          "height": 1000
        }
      },
      "source": [
        "input_ids = []\n",
        "\n",
        "for tweet in X_train.tweets_text.values.tolist():\n",
        "  encoded = tokenizer.encode(tweet, add_special_tokens=True, max_length=512)\n",
        "  input_ids.append(encoded)\n",
        "\n",
        "input_ids = pad_sequences(input_ids, maxlen=512, dtype='long', value=0, padding='post', truncating='post')\n",
        "attention_masks = []\n",
        "for tweet in input_ids:\n",
        "  mask = [int(token_id > 0) for token_id in tweet]\n",
        "  attention_masks.append(mask)\n",
        "\n",
        "train_inputs = torch.tensor(input_ids)\n",
        "train_labels = torch.tensor(Y_train)\n",
        "train_masks = torch.tensor(attention_masks)\n",
        "\n",
        "train_data = TensorDataset(train_inputs, train_masks, train_labels)\n",
        "train_sampler = RandomSampler(train_data)\n",
        "train_dataloader = DataLoader(train_data, sampler=train_sampler, batch_size=batch_size)\n",
        "\n",
        "# Load empty model\n",
        "model =  BertForSequenceClassification.from_pretrained('bert-base-uncased', num_labels=4, output_attentions=False, output_hidden_states=True)\n",
        "model.cuda()\n",
        "optimizer = AdamW(model.parameters(), lr = 2e-5, eps = 1e-8)\n",
        "total_steps = len(train_dataloader) * epochs\n",
        "scheduler = get_linear_schedule_with_warmup(optimizer, num_warmup_steps=0, num_training_steps=total_steps)\n",
        "\n",
        "# Train over epochs\n",
        "losses = []\n",
        "for epoch in range(epochs):\n",
        "  print(\"Epoch \" + str(epoch + 1))\n",
        "  loss = train_one_epoch(model, train_dataloader, optimizer, scheduler)\n",
        "  losses.append(loss)\n",
        "\n",
        "plt.plot(losses, 'b-o')\n",
        "plt.title(\"Training loss for entire training set\")\n",
        "plt.xlabel(\"Epoch\")\n",
        "plt.ylabel(\"Loss\")\n",
        "plt.show()\n",
        "\n",
        "test_input_ids = []\n",
        "\n",
        "for tweet in X_test.tweets_text.values.tolist():\n",
        "  encoded = tokenizer.encode(tweet, add_special_tokens=True, max_length=512)\n",
        "  test_input_ids.append(encoded)\n",
        "\n",
        "test_input_ids = pad_sequences(test_input_ids, maxlen=512, dtype='long', value=0, padding='post', truncating='post')\n",
        "test_attention_masks = []\n",
        "for tweet in test_input_ids:\n",
        "  mask = [int(token_id > 0) for token_id in tweet]\n",
        "  test_attention_masks.append(mask)\n",
        "\n",
        "test_inputs = torch.tensor(test_input_ids)\n",
        "test_labels = torch.tensor(Y_test)\n",
        "test_masks = torch.tensor(test_attention_masks)\n",
        "\n",
        "test_data = TensorDataset(test_inputs, test_masks, test_labels)\n",
        "test_dataloader = DataLoader(test_data, sampler=None, batch_size=batch_size)\n",
        "\n",
        "# Make predictions for test sest and get logits\n",
        "predictions, true_labels, embedding_layers = eval_profiles(model, test_dataloader)\n",
        "\n",
        "logits = [item for sublist in predictions for item in sublist]\n",
        "logits = np.array(logits)\n",
        "embeddings = np.array([item for sublist in embedding_layers for item in sublist]) # N x 512 x 768\n",
        "embeddings = embeddings[:,0,:]  # Embedding of [CLS] token represents sentence\n",
        "\n",
        "# Assign test logits\n",
        "df_test = df_test.assign(Logit0=np.zeros(df_test.shape[0]))\n",
        "df_test = df_test.assign(Logit1=np.zeros(df_test.shape[0]))\n",
        "df_test = df_test.assign(Logit2=np.zeros(df_test.shape[0]))\n",
        "df_test = df_test.assign(Logit3=np.zeros(df_test.shape[0]))\n",
        "\n",
        "# Save logits to df\n",
        "X_test = X_test.reset_index(drop=True)\n",
        "for idx, row in X_test.iterrows():\n",
        "  handle = row['handle']\n",
        "  df_test.loc[df_test['handle'] == handle, 'Logit0'] = logits[idx][0]\n",
        "  df_test.loc[df_test['handle'] == handle, 'Logit1'] = logits[idx][1]\n",
        "  df_test.loc[df_test['handle'] == handle, 'Logit2'] = logits[idx][2]\n",
        "  df_test.loc[df_test['handle'] == handle, 'Logit3'] = logits[idx][3]\n",
        "  for i in range(768):\n",
        "    feat_name = 'embed' + str(i)\n",
        "    df_test.loc[df_test['handle'] == handle, feat_name] = embeddings[idx][i]"
      ],
      "execution_count": 0,
      "outputs": [
        {
          "output_type": "stream",
          "text": [
            "Epoch 1\n",
            "*************STARTING EPOCH*************\n",
            "Batch 0 of 213\n",
            "Batch 100 of 213\n",
            "Batch 200 of 213\n",
            "Done training epoch. Average training loss: 1.1853205046743294\n",
            "Epoch 2\n",
            "*************STARTING EPOCH*************\n",
            "Batch 0 of 213\n",
            "Batch 100 of 213\n",
            "Batch 200 of 213\n",
            "Done training epoch. Average training loss: 0.9245982973228598\n",
            "Epoch 3\n",
            "*************STARTING EPOCH*************\n",
            "Batch 0 of 213\n",
            "Batch 100 of 213\n",
            "Batch 200 of 213\n",
            "Done training epoch. Average training loss: 0.679994402566986\n",
            "Epoch 4\n",
            "*************STARTING EPOCH*************\n",
            "Batch 0 of 213\n",
            "Batch 100 of 213\n",
            "Batch 200 of 213\n",
            "Done training epoch. Average training loss: 0.45721563619906913\n",
            "Epoch 5\n",
            "*************STARTING EPOCH*************\n",
            "Batch 0 of 213\n",
            "Batch 100 of 213\n",
            "Batch 200 of 213\n",
            "Done training epoch. Average training loss: 0.20991387123792943\n",
            "Epoch 6\n",
            "*************STARTING EPOCH*************\n",
            "Batch 0 of 213\n",
            "Batch 100 of 213\n",
            "Batch 200 of 213\n",
            "Done training epoch. Average training loss: 0.06912021735079692\n",
            "Epoch 7\n",
            "*************STARTING EPOCH*************\n",
            "Batch 0 of 213\n",
            "Batch 100 of 213\n",
            "Batch 200 of 213\n",
            "Done training epoch. Average training loss: 0.02682801213622653\n"
          ],
          "name": "stdout"
        },
        {
          "output_type": "display_data",
          "data": {
            "image/png": "[encoded data removed]",
            "text/plain": [
              "<Figure size 432x288 with 1 Axes>"
            ]
          },
          "metadata": {
            "tags": [],
            "needs_background": "light"
          }
        },
        {
          "output_type": "stream",
          "text": [
            "batch 0 of 54\n",
            "Calculated accuracy on eval set: 0.5069444444444444\n"
          ],
          "name": "stdout"
        }
      ]
    },
    {
      "cell_type": "code",
      "metadata": {
        "id": "Dulg50avHBlP",
        "colab_type": "code",
        "outputId": "5f6ed151-6faf-4c89-e99e-e52a3b74e719",
        "colab": {
          "base_uri": "https://localhost:8080/",
          "height": 173
        }
      },
      "source": [
        "df_test.to_csv('test.csv')\n",
        "!cp test.csv \"drive/My Drive/\"\n",
        "\n",
        "print(\"Successfully saved training features:\")\n",
        "print(df_test.head())"
      ],
      "execution_count": 0,
      "outputs": [
        {
          "output_type": "stream",
          "text": [
            "Successfully saved training features:\n",
            "            handle  ...  embed767\n",
            "0         mattgoss  ... -0.261111\n",
            "1  myles_mattila12  ... -0.207808\n",
            "2      EdgarCLungu  ... -1.044042\n",
            "3    BumbleCricket  ...  0.022408\n",
            "4    RaviZacharias  ... -0.443886\n",
            "\n",
            "[5 rows x 789 columns]\n"
          ],
          "name": "stdout"
        }
      ]
    },
    {
      "cell_type": "code",
      "metadata": {
        "id": "AKBXhcyGHK4j",
        "colab_type": "code",
        "outputId": "2804f79d-1da8-4a86-8ad7-014f16fa24a1",
        "colab": {
          "base_uri": "https://localhost:8080/",
          "height": 52
        }
      },
      "source": [
        "# Save fine-tuned model\n",
        "\n",
        "import os\n",
        "output_dir = './bert_finetuned/'\n",
        "if not os.path.exists(output_dir):\n",
        "    os.makedirs(output_dir)\n",
        "\n",
        "print(\"Saving model to %s\" % output_dir)\n",
        "\n",
        "model_to_save = model.module if hasattr(model, 'module') else model\n",
        "model_to_save.save_pretrained(output_dir)\n",
        "tokenizer.save_pretrained(output_dir)\n",
        "\n",
        "from google.colab import drive\n",
        "drive.mount('/content/drive')\n",
        "\n",
        "!cp -r ./bert_finetuned/ \"./drive/My Drive/\""
      ],
      "execution_count": 0,
      "outputs": [
        {
          "output_type": "stream",
          "text": [
            "Saving model to ./bert_finetuned/\n",
            "Drive already mounted at /content/drive; to attempt to forcibly remount, call drive.mount(\"/content/drive\", force_remount=True).\n"
          ],
          "name": "stdout"
        }
      ]
    },
    {
      "cell_type": "markdown",
      "metadata": {
        "id": "BWZil2jYFY6c",
        "colab_type": "text"
      },
      "source": [
        "The fine-tuned BERT classifier on its own (linear layer on top of normal BERT) produces an accuracy on the test set of 54%. We will improve this by ensembling this model's logits with metadata features and the generated sentence embeddigns"
      ]
    }
  ]
}
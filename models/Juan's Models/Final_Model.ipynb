{
  "nbformat": 4,
  "nbformat_minor": 0,
  "metadata": {
    "colab": {
      "name": "Final_Model.ipynb",
      "provenance": [],
      "collapsed_sections": []
    },
    "kernelspec": {
      "name": "python3",
      "display_name": "Python 3"
    }
  },
  "cells": [
    {
      "cell_type": "markdown",
      "metadata": {
        "id": "LwRWJ9cn-Zxz",
        "colab_type": "text"
      },
      "source": [
        "# Final Model for Twitter Generation Classification\n",
        "\n",
        "Input: 80-20 train/test split with tweets, generation label, generated metadata features, and features generated from a fine-tuned BERT model."
      ]
    },
    {
      "cell_type": "code",
      "metadata": {
        "id": "xw3wITRt-2WL",
        "colab_type": "code",
        "colab": {}
      },
      "source": [
        "import random\n",
        "import os\n",
        "from matplotlib import pyplot as plt\n",
        "import pandas as pd\n",
        "import numpy as np\n",
        "!pip install catboost\n",
        "from catboost import CatBoostClassifier\n",
        "from google.colab import files\n",
        "import io"
      ],
      "execution_count": 0,
      "outputs": []
    },
    {
      "cell_type": "code",
      "metadata": {
        "id": "LFDojeb_-Vc1",
        "colab_type": "code",
        "colab": {}
      },
      "source": [
        "uploaded = files.upload()\n",
        "\n",
        "df_train = pd.read_csv(io.StringIO(uploaded['train.csv'].decode('utf-8')))\n",
        "df_train = df_train.drop('Unnamed: 0', axis=1).reset_index(drop=True)\n",
        "\n",
        "df_test = pd.read_csv(io.StringIO(uploaded['test.csv'].decode('utf-8')))\n",
        "df_test = df_test.drop('Unnamed: 0', axis=1).reset_index(drop=True)"
      ],
      "execution_count": 0,
      "outputs": []
    },
    {
      "cell_type": "code",
      "metadata": {
        "id": "ZQUbOD0L_JZR",
        "colab_type": "code",
        "colab": {}
      },
      "source": [
        "# Generate data and label DF's, drop text features\n",
        "X_train = df_train.copy(deep=True).drop('age_group', axis=1).drop(\"handle\", axis=1).drop('hashtags', axis=1).drop('tweets_text', axis=1)\n",
        "Y_train = df_train.age_group.values\n",
        "X_test = df_test.copy(deep=True).drop('age_group', axis=1).drop(\"handle\", axis=1).drop('hashtags', axis=1).drop('tweets_text', axis=1)\n",
        "Y_test = df_test.age_group.values\n",
        "X_train = X_train.fillna(0)\n",
        "X_test = X_test.fillna(0)"
      ],
      "execution_count": 0,
      "outputs": []
    },
    {
      "cell_type": "markdown",
      "metadata": {
        "id": "5tRjU_5Q_Wxk",
        "colab_type": "text"
      },
      "source": [
        "We keep the 18 most important BERT embeddings, which we found by training gradient boosting and tree-based models and analyzing feature importance. We remove other embeddings since too much data will take too long to train and not perform as well."
      ]
    },
    {
      "cell_type": "code",
      "metadata": {
        "id": "a3eWDq7n_PwL",
        "colab_type": "code",
        "colab": {
          "base_uri": "https://localhost:8080/",
          "height": 156
        },
        "outputId": "dfe9d547-a3af-4ee4-96ce-d7e0a1abac3b"
      },
      "source": [
        "important_embeddings = {547, 548, 611, 448, 335, 561, 727, 274, 110, 124, 355, 438, 423, 629, 354, 165, 160, 518}\n",
        "for i in range(768):\n",
        "    if i not in important_embeddings:\n",
        "        name = 'embed' + str(i)\n",
        "        X_train = X_train.drop(name, axis=1)\n",
        "        X_test = X_test.drop(name, axis=1)\n",
        "\n",
        "print(X_train.head())"
      ],
      "execution_count": 6,
      "outputs": [
        {
          "output_type": "stream",
          "text": [
            "   followers  following  ...  slang_count  pct_valid_words\n",
            "0     1634.0     1091.0  ...          0.0         0.725664\n",
            "1   733157.0       66.0  ...          0.0         0.875000\n",
            "2    14396.0       57.0  ...          0.0         0.951282\n",
            "3      465.0      389.0  ...          0.0         0.913978\n",
            "4       32.0       27.0  ...          0.0         0.903780\n",
            "\n",
            "[5 rows x 46 columns]\n"
          ],
          "name": "stdout"
        }
      ]
    },
    {
      "cell_type": "markdown",
      "metadata": {
        "id": "ZevSaBN1_pUW",
        "colab_type": "text"
      },
      "source": [
        "This CatBoost with tuned hyperparameters achieved the best performance out of everything else we tried."
      ]
    },
    {
      "cell_type": "code",
      "metadata": {
        "id": "VDoayqQR_oj1",
        "colab_type": "code",
        "colab": {
          "base_uri": "https://localhost:8080/",
          "height": 35
        },
        "outputId": "fe1e6ebe-298a-4562-bf1b-5a3b2e0d0eaa"
      },
      "source": [
        "model = CatBoostClassifier(iterations=4400,\n",
        "                           learning_rate=.02,\n",
        "                           depth=4,\n",
        "                           loss_function='MultiClass',\n",
        "                           verbose=False)\n",
        "model.fit(X_train, Y_train)\n",
        "print(\"Accuracy:\", model.score(X_test, Y_test))\n",
        "predictions = model.predict(X_test)"
      ],
      "execution_count": 10,
      "outputs": [
        {
          "output_type": "stream",
          "text": [
            "Accuracy: 0.6\n"
          ],
          "name": "stdout"
        }
      ]
    },
    {
      "cell_type": "markdown",
      "metadata": {
        "id": "wElK4yjBBkE7",
        "colab_type": "text"
      },
      "source": [
        "We show the feature importances to show what CatBoost deemed important for our model:"
      ]
    },
    {
      "cell_type": "code",
      "metadata": {
        "id": "fmU_WZmQBcNp",
        "colab_type": "code",
        "colab": {
          "base_uri": "https://localhost:8080/",
          "height": 543
        },
        "outputId": "5a818239-b89b-4a90-c636-c80bdb1019b0"
      },
      "source": [
        "cat_feat_imps = model.get_feature_importance()\n",
        "importances = list(cat_feat_imps)\n",
        "feature_importances = [(feature, round(importance, 4)) for feature, importance in zip(X_train.columns, importances)]\n",
        "feature_importances = sorted(feature_importances, key = lambda x: x[1], reverse = True)\n",
        "\n",
        "# Print top 10\n",
        "print(\"Top 15 features:\")\n",
        "[print('Feature: {:40} Importance: {}'.format(*pair)) for pair in feature_importances[0:15]]\n",
        "\n",
        "# Plot\n",
        "plt.bar(X_train.columns, importances)\n",
        "plt.show()"
      ],
      "execution_count": 13,
      "outputs": [
        {
          "output_type": "stream",
          "text": [
            "Top 15 features:\n",
            "Feature: Logit3                                   Importance: 5.62\n",
            "Feature: followers                                Importance: 4.7758\n",
            "Feature: Logit0                                   Importance: 3.4684\n",
            "Feature: following                                Importance: 3.3544\n",
            "Feature: embed160                                 Importance: 3.2294\n",
            "Feature: embed547                                 Importance: 3.0207\n",
            "Feature: embed165                                 Importance: 2.7158\n",
            "Feature: avg_timedelta_hrs                        Importance: 2.7157\n",
            "Feature: follower_following_ratio                 Importance: 2.6424\n",
            "Feature: embed438                                 Importance: 2.6402\n",
            "Feature: embed335                                 Importance: 2.6128\n",
            "Feature: embed548                                 Importance: 2.6006\n",
            "Feature: avg_word_count                           Importance: 2.5709\n",
            "Feature: embed274                                 Importance: 2.5454\n",
            "Feature: embed611                                 Importance: 2.5405\n"
          ],
          "name": "stdout"
        },
        {
          "output_type": "display_data",
          "data": {
            "image/png": "[encoded data removed]",
            "text/plain": [
              "<Figure size 432x288 with 1 Axes>"
            ]
          },
          "metadata": {
            "tags": [],
            "needs_background": "light"
          }
        }
      ]
    },
    {
      "cell_type": "markdown",
      "metadata": {
        "id": "ZkFYZYlDCZlB",
        "colab_type": "text"
      },
      "source": [
        "Most of the model's most important features seem to be those generated by our fine-tuned BERT model. However, the BERT classifier on its own only achieved a 54% accuracy, so ensembling with the metadata and sentence embeddings definitely helped our performance."
      ]
    },
    {
      "cell_type": "code",
      "metadata": {
        "id": "Nmfl8KSwAKrl",
        "colab_type": "code",
        "colab": {
          "base_uri": "https://localhost:8080/",
          "height": 280
        },
        "outputId": "ddf16fac-03d2-4880-e50a-983538a2ee7f"
      },
      "source": [
        "# Confusion matrix\n",
        "\n",
        "from sklearn.metrics import confusion_matrix\n",
        "import seaborn as sn\n",
        "\n",
        "cm = confusion_matrix(Y_test, predictions, normalize='true')\n",
        "df_cm = pd.DataFrame(cm, range(4), range(4))\n",
        "sn.heatmap(df_cm, annot=True)\n",
        "plt.ylabel('True')\n",
        "plt.xlabel('Predicted')\n",
        "plt.show()"
      ],
      "execution_count": 14,
      "outputs": [
        {
          "output_type": "display_data",
          "data": {
            "image/png": "[encoded data removed]",
            "text/plain": [
              "<Figure size 432x288 with 2 Axes>"
            ]
          },
          "metadata": {
            "tags": [],
            "needs_background": "light"
          }
        }
      ]
    },
    {
      "cell_type": "markdown",
      "metadata": {
        "id": "lzUlBtp5Gh6J",
        "colab_type": "text"
      },
      "source": [
        "As a benchmark, we train a dummy classifier based on the output distribution of our data. We see that our model does over twice as well as this."
      ]
    },
    {
      "cell_type": "code",
      "metadata": {
        "id": "fR33HiZIGZQv",
        "colab_type": "code",
        "colab": {
          "base_uri": "https://localhost:8080/",
          "height": 89
        },
        "outputId": "ed2ec7d8-c805-4bcc-f2d9-4005dcd1a146"
      },
      "source": [
        "from sklearn.dummy import DummyClassifier\n",
        "\n",
        "# Dummy as benchmark\n",
        "dummy_clf = DummyClassifier()\n",
        "dummy_clf.fit(X_train, Y_train)\n",
        "print(dummy_clf.score(X_test, Y_test))"
      ],
      "execution_count": 17,
      "outputs": [
        {
          "output_type": "stream",
          "text": [
            "0.26823529411764707\n"
          ],
          "name": "stdout"
        },
        {
          "output_type": "stream",
          "text": [
            "/usr/local/lib/python3.6/dist-packages/sklearn/dummy.py:132: FutureWarning: The default value of strategy will change from stratified to prior in 0.24.\n",
            "  \"stratified to prior in 0.24.\", FutureWarning)\n"
          ],
          "name": "stderr"
        }
      ]
    }
  ]
}
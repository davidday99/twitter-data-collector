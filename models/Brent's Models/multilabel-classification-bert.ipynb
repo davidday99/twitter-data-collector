{
 "cells": [
  {
   "cell_type": "code",
   "execution_count": 1,
   "metadata": {},
   "outputs": [],
   "source": [
    "from transformers import BertTokenizer\n",
    "from pathlib import Path\n",
    "import torch\n",
    "\n",
    "from box import Box\n",
    "import pandas as pd\n",
    "import collections\n",
    "import os\n",
    "from tqdm import tqdm, trange\n",
    "import sys\n",
    "import random\n",
    "import numpy as np\n",
    "import apex\n",
    "from sklearn.model_selection import train_test_split\n",
    "\n",
    "import datetime\n",
    "\n",
    "from fast_bert.modeling import BertForMultiLabelSequenceClassification\n",
    "from fast_bert.data_cls import BertDataBunch, InputExample, InputFeatures, MultiLabelTextProcessor, convert_examples_to_features\n",
    "from fast_bert.learner_cls import BertLearner\n",
    "from fast_bert.metrics import accuracy_multilabel, accuracy_thresh, fbeta, roc_auc"
   ]
  },
  {
   "cell_type": "code",
   "execution_count": 2,
   "metadata": {},
   "outputs": [],
   "source": [
    "MAIN_DIR = 'C:/Users/BAB72/OneDrive/School Documents/DS_Lab/Final_Project/' # Directory where this .ipynb file sits\n",
    "\n",
    "DATA_PATH = Path(MAIN_DIR + '/bert_data/') # Need to create directory beforehand\n",
    "LABEL_PATH = Path(MAIN_DIR + '/bert_data/') # Need labels.csv (see https://github.com/kaushaltrivedi/fast-bert how to format)\n",
    "\n",
    "AUG_DATA_PATH = Path(MAIN_DIR + '/bert_models/data_augmentation/') # Need to create directory beforehand\n",
    "MODEL_PATH=Path(MAIN_DIR + '/bert_models/models/') # Need to create directory beforehand\n",
    "LOG_PATH=Path(MAIN_DIR + '/bert_models/logs/') # Need to create directory beforehand\n",
    "MODEL_PATH.mkdir(exist_ok=True)\n",
    "\n",
    "model_state_dict = None\n",
    "\n",
    "# BERT_PRETRAINED_PATH = Path('../../bert_models/pretrained-weights/cased_L-12_H-768_A-12/')\n",
    "BERT_PRETRAINED_PATH = Path('../../bert_models/pretrained-weights/uncased_L-12_H-768_A-12/')\n",
    "# BERT_PRETRAINED_PATH = Path('../../bert_fastai/pretrained-weights/uncased_L-24_H-1024_A-16/')\n",
    "# FINETUNED_PATH = Path('../models/finetuned_model.bin')\n",
    "FINETUNED_PATH = None\n",
    "# model_state_dict = torch.load(FINETUNED_PATH)\n",
    "\n",
    "LOG_PATH.mkdir(exist_ok=True)\n",
    "\n",
    "OUTPUT_PATH = MODEL_PATH/'output'\n",
    "OUTPUT_PATH.mkdir(exist_ok=True)"
   ]
  },
  {
   "cell_type": "markdown",
   "metadata": {},
   "source": [
    "## Transforming Data into format that the model uses"
   ]
  },
  {
   "cell_type": "code",
   "execution_count": 3,
   "metadata": {},
   "outputs": [],
   "source": [
    "train_data = pd.read_csv(MAIN_DIR + 'profile_data_train.csv')\n",
    "\n",
    "train_data, val_data = train_test_split(train_data, test_size=0.1, random_state=42)\n",
    "\n",
    "bert_data_train = pd.concat([train_data,pd.get_dummies(train_data['age_group'], prefix='age_group')],axis=1)\n",
    "bert_data_train.drop(['age_group'],axis=1, inplace=True)\n",
    "\n",
    "drop_columns = ['handle', 'followers', 'following', 'follower_following_ratio', 'avg_favorites', 'min_favorites', 'max_favorites', 'avg_retweets', 'min_retweets', 'max_retweets', 'hashtags',\n",
    "                'hashtags_per_tweet', 'mentions_per_tweet', 'avg_timedelta_hrs', 'avg_word_count']\n",
    "\n",
    "bert_data_train.drop(drop_columns,axis=1, inplace=True)\n",
    "\n",
    "bert_data_train.columns = ['id', 'text', 'age_group_0', 'age_group_1', 'age_group_2', 'age_group_3']\n",
    "\n",
    "bert_data_train.to_csv(str(DATA_PATH) + '/train.csv', index = False) # Uncomment first time you run\n",
    "\n",
    "###############################################################################################################################################################################################################\n",
    "\n",
    "bert_data_val = pd.concat([val_data,pd.get_dummies(val_data['age_group'], prefix='age_group')],axis=1)\n",
    "bert_data_val.drop(['age_group'],axis=1, inplace=True)\n",
    "\n",
    "bert_data_val.drop(drop_columns,axis=1, inplace=True)\n",
    "\n",
    "bert_data_val.columns = ['id', 'text', 'age_group_0', 'age_group_1', 'age_group_2', 'age_group_3']\n",
    "\n",
    "bert_data_val.to_csv(str(DATA_PATH) + '/val.csv', index = False) # Uncomment first time you run\n",
    "\n",
    "###############################################################################################################################################################################################################\n",
    "\n",
    "test_data = pd.read_csv(MAIN_DIR + 'profile_data_test.csv')\n",
    "\n",
    "bert_data = pd.concat([test_data,pd.get_dummies(test_data['age_group'], prefix='age_group')],axis=1)\n",
    "bert_data.drop(['age_group'],axis=1, inplace=True)\n",
    "\n",
    "bert_data.drop(drop_columns,axis=1, inplace=True)\n",
    "\n",
    "bert_data.columns = ['id', 'text', 'age_group_0', 'age_group_1', 'age_group_2', 'age_group_3']\n",
    "\n",
    "bert_data.to_csv(str(DATA_PATH) + '/test.csv', index = False) # Uncomment first time you run"
   ]
  },
  {
   "cell_type": "code",
   "execution_count": 4,
   "metadata": {},
   "outputs": [],
   "source": [
    "torch.cuda.empty_cache()"
   ]
  },
  {
   "cell_type": "code",
   "execution_count": 5,
   "metadata": {},
   "outputs": [
    {
     "name": "stderr",
     "output_type": "stream",
     "text": [
      "c:\\users\\bab72\\appdata\\local\\programs\\python\\python37\\lib\\site-packages\\ipykernel_launcher.py:1: FutureWarning: Passing a negative integer is deprecated in version 1.0 and will not be supported in future version. Instead, use None to not limit the column width.\n",
      "  \"\"\"Entry point for launching an IPython kernel.\n"
     ]
    }
   ],
   "source": [
    "pd.set_option('display.max_colwidth', -1)\n",
    "run_start_time = datetime.datetime.today().strftime('%Y-%m-%d_%H-%M-%S')"
   ]
  },
  {
   "cell_type": "markdown",
   "metadata": {},
   "source": [
    "## Model Parameters\n",
    "#### May need to adjust based on your system capabilities\n",
    "I had to reduce \"max_seq_lenth\" and \"batch_size\" because I ran out of memory"
   ]
  },
  {
   "cell_type": "code",
   "execution_count": 6,
   "metadata": {},
   "outputs": [],
   "source": [
    "args = Box({\n",
    "    \"run_text\": \"multilabel toxic comments with freezable layers\",\n",
    "    \"train_size\": -1,\n",
    "    \"val_size\": -1,\n",
    "    \"log_path\": LOG_PATH,\n",
    "    \"full_data_dir\": DATA_PATH,\n",
    "    \"data_dir\": DATA_PATH,\n",
    "    \"task_name\": \"toxic_classification_lib\",\n",
    "    \"no_cuda\": False,\n",
    "    \"bert_model\": BERT_PRETRAINED_PATH,\n",
    "    \"output_dir\": OUTPUT_PATH,\n",
    "    \"max_seq_length\": 128,\n",
    "    \"do_train\": True,\n",
    "    \"do_eval\": True,\n",
    "    \"do_lower_case\": True,\n",
    "    \"train_batch_size\": 4,\n",
    "    \"eval_batch_size\": 8,\n",
    "    \"learning_rate\": 5e-5,\n",
    "    \"num_train_epochs\": 6,\n",
    "    \"warmup_proportion\": 0.0,\n",
    "    \"no_cuda\": False,\n",
    "    \"local_rank\": -1,\n",
    "    \"seed\": 42,\n",
    "    \"gradient_accumulation_steps\": 1,\n",
    "    \"optimize_on_cpu\": False,\n",
    "    \"fp16\": True,\n",
    "    \"fp16_opt_level\": \"O1\",\n",
    "    \"weight_decay\": 0.0,\n",
    "    \"adam_epsilon\": 1e-8,\n",
    "    \"max_grad_norm\": 1.0,\n",
    "    \"max_steps\": -1,\n",
    "    \"warmup_steps\": 500,\n",
    "    \"logging_steps\": 50,\n",
    "    \"eval_all_checkpoints\": True,\n",
    "    \"overwrite_output_dir\": True,\n",
    "    \"overwrite_cache\": False,\n",
    "    \"seed\": 42,\n",
    "    \"loss_scale\": 128,\n",
    "    \"task_name\": 'intent',\n",
    "    \"model_name\": 'xlnet-base-cased',\n",
    "    \"model_type\": 'xlnet',\n",
    "    \"multi_gpu\": False\n",
    "})"
   ]
  },
  {
   "cell_type": "code",
   "execution_count": 7,
   "metadata": {},
   "outputs": [],
   "source": [
    "import logging\n",
    "\n",
    "logfile = str(LOG_PATH/'log-{}-{}.txt'.format(run_start_time, args[\"run_text\"]))\n",
    "\n",
    "logging.basicConfig(\n",
    "    level=logging.INFO,\n",
    "    format='%(asctime)s - %(levelname)s - %(name)s -   %(message)s',\n",
    "    datefmt='%m/%d/%Y %H:%M:%S',\n",
    "    handlers=[\n",
    "        logging.FileHandler(logfile),\n",
    "        logging.StreamHandler(sys.stdout)\n",
    "    ])\n",
    "\n",
    "logger = logging.getLogger()"
   ]
  },
  {
   "cell_type": "code",
   "execution_count": 8,
   "metadata": {},
   "outputs": [
    {
     "name": "stdout",
     "output_type": "stream",
     "text": [
      "04/30/2020 19:38:30 - INFO - root -   {'run_text': 'multilabel toxic comments with freezable layers', 'train_size': -1, 'val_size': -1, 'log_path': WindowsPath('C:/Users/BAB72/OneDrive/School Documents/DS_Lab/Final_Project/bert_models/logs'), 'full_data_dir': WindowsPath('C:/Users/BAB72/OneDrive/School Documents/DS_Lab/Final_Project/bert_data'), 'data_dir': WindowsPath('C:/Users/BAB72/OneDrive/School Documents/DS_Lab/Final_Project/bert_data'), 'task_name': 'intent', 'no_cuda': False, 'bert_model': WindowsPath('../../bert_models/pretrained-weights/uncased_L-12_H-768_A-12'), 'output_dir': WindowsPath('C:/Users/BAB72/OneDrive/School Documents/DS_Lab/Final_Project/bert_models/models/output'), 'max_seq_length': 128, 'do_train': True, 'do_eval': True, 'do_lower_case': True, 'train_batch_size': 4, 'eval_batch_size': 8, 'learning_rate': 5e-05, 'num_train_epochs': 6, 'warmup_proportion': 0.0, 'local_rank': -1, 'seed': 42, 'gradient_accumulation_steps': 1, 'optimize_on_cpu': False, 'fp16': True, 'fp16_opt_level': 'O1', 'weight_decay': 0.0, 'adam_epsilon': 1e-08, 'max_grad_norm': 1.0, 'max_steps': -1, 'warmup_steps': 500, 'logging_steps': 50, 'eval_all_checkpoints': True, 'overwrite_output_dir': True, 'overwrite_cache': False, 'loss_scale': 128, 'model_name': 'xlnet-base-cased', 'model_type': 'xlnet', 'multi_gpu': False}\n"
     ]
    }
   ],
   "source": [
    "logger.info(args)"
   ]
  },
  {
   "cell_type": "code",
   "execution_count": 9,
   "metadata": {},
   "outputs": [],
   "source": [
    "# tokenizer = BertTokenizer.from_pretrained(BERT_PRETRAINED_PATH, do_lower_case=args['do_lower_case'])"
   ]
  },
  {
   "cell_type": "code",
   "execution_count": 10,
   "metadata": {},
   "outputs": [],
   "source": [
    "device = torch.device('cuda')\n",
    "if torch.cuda.device_count() > 1:\n",
    "    args.multi_gpu = True\n",
    "else:\n",
    "    args.multi_gpu = False"
   ]
  },
  {
   "cell_type": "code",
   "execution_count": 11,
   "metadata": {},
   "outputs": [],
   "source": [
    "label_cols = ['age_group_0','age_group_1','age_group_2','age_group_3']"
   ]
  },
  {
   "cell_type": "markdown",
   "metadata": {},
   "source": [
    "## Transforming Text to Bert Data"
   ]
  },
  {
   "cell_type": "code",
   "execution_count": 12,
   "metadata": {},
   "outputs": [
    {
     "name": "stdout",
     "output_type": "stream",
     "text": [
      "04/30/2020 19:38:30 - INFO - transformers.configuration_utils -   loading configuration file https://s3.amazonaws.com/models.huggingface.co/bert/xlnet-base-cased-config.json from cache at C:\\Users\\BAB72\\.cache\\torch\\transformers\\c9cc6e53904f7f3679a31ec4af244f4419e25ebc8e71ebf8c558a31cbcf07fc8.f23f7137b19a096a6eed89d1ffd00d4530935d72381eb7b9fcf8d5a1f25919ad\n",
      "04/30/2020 19:38:30 - INFO - transformers.configuration_utils -   Model config XLNetConfig {\n",
      "  \"architectures\": [\n",
      "    \"XLNetLMHeadModel\"\n",
      "  ],\n",
      "  \"attn_type\": \"bi\",\n",
      "  \"bi_data\": false,\n",
      "  \"bos_token_id\": 1,\n",
      "  \"clamp_len\": -1,\n",
      "  \"d_head\": 64,\n",
      "  \"d_inner\": 3072,\n",
      "  \"d_model\": 768,\n",
      "  \"dropout\": 0.1,\n",
      "  \"end_n_top\": 5,\n",
      "  \"eos_token_id\": 2,\n",
      "  \"ff_activation\": \"gelu\",\n",
      "  \"initializer_range\": 0.02,\n",
      "  \"layer_norm_eps\": 1e-12,\n",
      "  \"mem_len\": null,\n",
      "  \"model_type\": \"xlnet\",\n",
      "  \"n_head\": 12,\n",
      "  \"n_layer\": 12,\n",
      "  \"pad_token_id\": 5,\n",
      "  \"reuse_len\": null,\n",
      "  \"same_length\": false,\n",
      "  \"start_n_top\": 5,\n",
      "  \"summary_activation\": \"tanh\",\n",
      "  \"summary_last_dropout\": 0.1,\n",
      "  \"summary_type\": \"last\",\n",
      "  \"summary_use_proj\": true,\n",
      "  \"task_specific_params\": {\n",
      "    \"text_generation\": {\n",
      "      \"max_length\": 210\n",
      "    }\n",
      "  },\n",
      "  \"untie_r\": true,\n",
      "  \"vocab_size\": 32000\n",
      "}\n",
      "\n",
      "04/30/2020 19:38:30 - INFO - transformers.tokenization_utils -   loading file https://s3.amazonaws.com/models.huggingface.co/bert/xlnet-base-cased-spiece.model from cache at C:\\Users\\BAB72\\.cache\\torch\\transformers\\dad589d582573df0293448af5109cb6981ca77239ed314e15ca63b7b8a318ddd.8b10bd978b5d01c21303cc761fc9ecd464419b3bf921864a355ba807cfbfafa8\n",
      "04/30/2020 19:38:30 - INFO - root -   Loading features from cached file C:\\Users\\BAB72\\OneDrive\\School Documents\\DS_Lab\\Final_Project\\bert_data\\cache\\cached_xlnet_train_multi_label_128_train.csv\n",
      "04/30/2020 19:38:30 - INFO - root -   Loading features from cached file C:\\Users\\BAB72\\OneDrive\\School Documents\\DS_Lab\\Final_Project\\bert_data\\cache\\cached_xlnet_dev_multi_label_128_val.csv\n",
      "04/30/2020 19:38:30 - INFO - root -   Loading features from cached file C:\\Users\\BAB72\\OneDrive\\School Documents\\DS_Lab\\Final_Project\\bert_data\\cache\\cached_xlnet_test_multi_label_128_test\n"
     ]
    }
   ],
   "source": [
    "databunch = BertDataBunch(DATA_PATH, LABEL_PATH, args.model_name, train_file='train.csv', val_file='val.csv',\n",
    "                          test_data='test.csv',\n",
    "                          text_col=\"text\", label_col=label_cols,\n",
    "                          batch_size_per_gpu=args['train_batch_size'], max_seq_length=args['max_seq_length'], \n",
    "                          multi_gpu=args.multi_gpu, multi_label=True, model_type=args.model_type)"
   ]
  },
  {
   "cell_type": "code",
   "execution_count": 13,
   "metadata": {},
   "outputs": [
    {
     "data": {
      "text/plain": [
       "4"
      ]
     },
     "execution_count": 13,
     "metadata": {},
     "output_type": "execute_result"
    }
   ],
   "source": [
    "num_labels = len(databunch.labels)\n",
    "num_labels"
   ]
  },
  {
   "cell_type": "code",
   "execution_count": 14,
   "metadata": {},
   "outputs": [],
   "source": [
    "metrics = []\n",
    "metrics.append({'name': 'accuracy_thresh', 'function': accuracy_thresh})\n",
    "metrics.append({'name': 'roc_auc', 'function': roc_auc})\n",
    "metrics.append({'name': 'fbeta', 'function': fbeta})"
   ]
  },
  {
   "cell_type": "markdown",
   "metadata": {},
   "source": [
    "## Defining the Learner"
   ]
  },
  {
   "cell_type": "code",
   "execution_count": 15,
   "metadata": {},
   "outputs": [
    {
     "name": "stdout",
     "output_type": "stream",
     "text": [
      "04/30/2020 19:38:30 - INFO - transformers.configuration_utils -   loading configuration file https://s3.amazonaws.com/models.huggingface.co/bert/xlnet-base-cased-config.json from cache at C:\\Users\\BAB72\\.cache\\torch\\transformers\\c9cc6e53904f7f3679a31ec4af244f4419e25ebc8e71ebf8c558a31cbcf07fc8.f23f7137b19a096a6eed89d1ffd00d4530935d72381eb7b9fcf8d5a1f25919ad\n",
      "04/30/2020 19:38:30 - INFO - transformers.configuration_utils -   Model config XLNetConfig {\n",
      "  \"_num_labels\": 4,\n",
      "  \"architectures\": [\n",
      "    \"XLNetLMHeadModel\"\n",
      "  ],\n",
      "  \"attn_type\": \"bi\",\n",
      "  \"bi_data\": false,\n",
      "  \"bos_token_id\": 1,\n",
      "  \"clamp_len\": -1,\n",
      "  \"d_head\": 64,\n",
      "  \"d_inner\": 3072,\n",
      "  \"d_model\": 768,\n",
      "  \"dropout\": 0.1,\n",
      "  \"end_n_top\": 5,\n",
      "  \"eos_token_id\": 2,\n",
      "  \"ff_activation\": \"gelu\",\n",
      "  \"id2label\": {\n",
      "    \"0\": \"LABEL_0\",\n",
      "    \"1\": \"LABEL_1\",\n",
      "    \"2\": \"LABEL_2\",\n",
      "    \"3\": \"LABEL_3\"\n",
      "  },\n",
      "  \"initializer_range\": 0.02,\n",
      "  \"label2id\": {\n",
      "    \"LABEL_0\": 0,\n",
      "    \"LABEL_1\": 1,\n",
      "    \"LABEL_2\": 2,\n",
      "    \"LABEL_3\": 3\n",
      "  },\n",
      "  \"layer_norm_eps\": 1e-12,\n",
      "  \"mem_len\": null,\n",
      "  \"model_type\": \"xlnet\",\n",
      "  \"n_head\": 12,\n",
      "  \"n_layer\": 12,\n",
      "  \"pad_token_id\": 5,\n",
      "  \"reuse_len\": null,\n",
      "  \"same_length\": false,\n",
      "  \"start_n_top\": 5,\n",
      "  \"summary_activation\": \"tanh\",\n",
      "  \"summary_last_dropout\": 0.1,\n",
      "  \"summary_type\": \"last\",\n",
      "  \"summary_use_proj\": true,\n",
      "  \"task_specific_params\": {\n",
      "    \"text_generation\": {\n",
      "      \"max_length\": 210\n",
      "    }\n",
      "  },\n",
      "  \"untie_r\": true,\n",
      "  \"vocab_size\": 32000\n",
      "}\n",
      "\n",
      "04/30/2020 19:38:31 - INFO - transformers.modeling_utils -   loading weights file https://s3.amazonaws.com/models.huggingface.co/bert/xlnet-base-cased-pytorch_model.bin from cache at C:\\Users\\BAB72\\.cache\\torch\\transformers\\24197ba0ce5dbfe23924431610704c88e2c0371afa49149360e4c823219ab474.7eac4fe898a021204e63c88c00ea68c60443c57f94b4bc3c02adbde6465745ac\n",
      "04/30/2020 19:38:33 - INFO - transformers.modeling_utils -   Weights of XLNetForMultiLabelSequenceClassification not initialized from pretrained model: ['sequence_summary.summary.weight', 'sequence_summary.summary.bias', 'logits_proj.weight', 'logits_proj.bias']\n",
      "04/30/2020 19:38:33 - INFO - transformers.modeling_utils -   Weights from pretrained model not used in XLNetForMultiLabelSequenceClassification: ['lm_loss.weight', 'lm_loss.bias']\n"
     ]
    }
   ],
   "source": [
    "learner = BertLearner.from_pretrained_model(databunch, args.model_name, metrics=metrics, \n",
    "                                            device=device, logger=logger, output_dir=args.output_dir, \n",
    "                                            finetuned_wgts_path=FINETUNED_PATH, warmup_steps=args.warmup_steps,\n",
    "                                            multi_gpu=False, is_fp16=args.fp16, \n",
    "                                            multi_label=True, logging_steps=0)\n",
    "\n"
   ]
  },
  {
   "cell_type": "markdown",
   "metadata": {},
   "source": [
    "## Fitting the Model"
   ]
  },
  {
   "cell_type": "code",
   "execution_count": 16,
   "metadata": {},
   "outputs": [
    {
     "name": "stdout",
     "output_type": "stream",
     "text": [
      "Selected optimization level O1:  Insert automatic casts around Pytorch functions and Tensor methods.\n",
      "\n",
      "Defaults for this optimization level are:\n",
      "enabled                : True\n",
      "opt_level              : O1\n",
      "cast_model_type        : None\n",
      "patch_torch_functions  : True\n",
      "keep_batchnorm_fp32    : None\n",
      "master_weights         : None\n",
      "loss_scale             : dynamic\n",
      "Processing user overrides (additional kwargs that are not None)...\n",
      "After processing overrides, optimization options are:\n",
      "enabled                : True\n",
      "opt_level              : O1\n",
      "cast_model_type        : None\n",
      "patch_torch_functions  : True\n",
      "keep_batchnorm_fp32    : None\n",
      "master_weights         : None\n",
      "loss_scale             : dynamic\n",
      "Warning:  multi_tensor_applier fused unscale kernel is unavailable, possibly because apex was installed without --cuda_ext --cpp_ext. Using Python fallback.  Original ImportError was: ModuleNotFoundError(\"No module named 'amp_C'\")\n",
      "04/30/2020 19:38:34 - INFO - root -   ***** Running training *****\n",
      "04/30/2020 19:38:34 - INFO - root -     Num examples = 1529\n",
      "04/30/2020 19:38:34 - INFO - root -     Num Epochs = 6\n",
      "04/30/2020 19:38:34 - INFO - root -     Total train batch size (w. parallel, distributed & accumulation) = 4\n",
      "04/30/2020 19:38:34 - INFO - root -     Gradient Accumulation steps = 1\n",
      "04/30/2020 19:38:34 - INFO - root -     Total optimization steps = 2298\n"
     ]
    },
    {
     "data": {
      "text/html": [],
      "text/plain": [
       "<IPython.core.display.HTML object>"
      ]
     },
     "metadata": {},
     "output_type": "display_data"
    },
    {
     "name": "stderr",
     "output_type": "stream",
     "text": [
      "..\\torch\\csrc\\utils\\python_arg_parser.cpp:756: UserWarning: This overload of add_ is deprecated:\n",
      "\tadd_(Number alpha, Tensor other)\n",
      "Consider using one of the following signatures instead:\n",
      "\tadd_(Tensor other, *, Number alpha)\n"
     ]
    },
    {
     "name": "stdout",
     "output_type": "stream",
     "text": [
      "Gradient overflow.  Skipping step, loss scaler 0 reducing loss scale to 32768.0\n",
      "Gradient overflow.  Skipping step, loss scaler 0 reducing loss scale to 16384.0\n",
      "Gradient overflow.  Skipping step, loss scaler 0 reducing loss scale to 8192.0\n",
      "Gradient overflow.  Skipping step, loss scaler 0 reducing loss scale to 4096.0\n",
      "04/30/2020 19:40:34 - INFO - root -   Running evaluation\n",
      "04/30/2020 19:40:34 - INFO - root -     Num examples = 170\n",
      "04/30/2020 19:40:34 - INFO - root -     Batch size = 8\n"
     ]
    },
    {
     "data": {
      "text/html": [
       "\n",
       "    <div>\n",
       "        <style>\n",
       "            /* Turns off some styling */\n",
       "            progress {\n",
       "                /* gets rid of default border in Firefox and Opera. */\n",
       "                border: none;\n",
       "                /* Needs to be in here for Safari polyfill so background images work as expected. */\n",
       "                background-size: auto;\n",
       "            }\n",
       "            .progress-bar-interrupted, .progress-bar-interrupted::-webkit-progress-bar {\n",
       "                background: #F44336;\n",
       "            }\n",
       "        </style>\n",
       "      <progress value='22' class='' max='22' style='width:300px; height:20px; vertical-align: middle;'></progress>\n",
       "      100.00% [22/22 00:01<00:00]\n",
       "    </div>\n",
       "    "
      ],
      "text/plain": [
       "<IPython.core.display.HTML object>"
      ]
     },
     "metadata": {},
     "output_type": "display_data"
    },
    {
     "name": "stdout",
     "output_type": "stream",
     "text": [
      "04/30/2020 19:40:35 - INFO - root -   eval_loss after epoch 1: 0.5285136266188188: \n",
      "04/30/2020 19:40:35 - INFO - root -   eval_accuracy_thresh after epoch 1: 0.7514706254005432: \n",
      "04/30/2020 19:40:35 - INFO - root -   eval_roc_auc after epoch 1: 0.6549711649365628: \n",
      "04/30/2020 19:40:35 - INFO - root -   eval_fbeta after epoch 1: 0.2847338914871216: \n",
      "04/30/2020 19:40:35 - INFO - root -   lr after epoch 1: 3.83e-05\n",
      "04/30/2020 19:40:35 - INFO - root -   train_loss after epoch 1: 0.6324651970408915\n",
      "04/30/2020 19:40:35 - INFO - root -   \n",
      "\n"
     ]
    },
    {
     "name": "stderr",
     "output_type": "stream",
     "text": [
      "c:\\users\\bab72\\appdata\\local\\programs\\python\\python37\\lib\\site-packages\\torch\\optim\\lr_scheduler.py:231: UserWarning: To get the last learning rate computed by the scheduler, please use `get_last_lr()`.\n",
      "  warnings.warn(\"To get the last learning rate computed by the scheduler, \"\n"
     ]
    },
    {
     "name": "stdout",
     "output_type": "stream",
     "text": [
      "04/30/2020 19:42:37 - INFO - root -   Running evaluation\n",
      "04/30/2020 19:42:37 - INFO - root -     Num examples = 170\n",
      "04/30/2020 19:42:37 - INFO - root -     Batch size = 8\n"
     ]
    },
    {
     "data": {
      "text/html": [
       "\n",
       "    <div>\n",
       "        <style>\n",
       "            /* Turns off some styling */\n",
       "            progress {\n",
       "                /* gets rid of default border in Firefox and Opera. */\n",
       "                border: none;\n",
       "                /* Needs to be in here for Safari polyfill so background images work as expected. */\n",
       "                background-size: auto;\n",
       "            }\n",
       "            .progress-bar-interrupted, .progress-bar-interrupted::-webkit-progress-bar {\n",
       "                background: #F44336;\n",
       "            }\n",
       "        </style>\n",
       "      <progress value='22' class='' max='22' style='width:300px; height:20px; vertical-align: middle;'></progress>\n",
       "      100.00% [22/22 00:01<00:00]\n",
       "    </div>\n",
       "    "
      ],
      "text/plain": [
       "<IPython.core.display.HTML object>"
      ]
     },
     "metadata": {},
     "output_type": "display_data"
    },
    {
     "name": "stdout",
     "output_type": "stream",
     "text": [
      "04/30/2020 19:42:38 - INFO - root -   eval_loss after epoch 2: 0.47756458006121894: \n",
      "04/30/2020 19:42:38 - INFO - root -   eval_accuracy_thresh after epoch 2: 0.7750000357627869: \n",
      "04/30/2020 19:42:38 - INFO - root -   eval_roc_auc after epoch 2: 0.7434544405997694: \n",
      "04/30/2020 19:42:38 - INFO - root -   eval_fbeta after epoch 2: 0.5180672407150269: \n",
      "04/30/2020 19:42:38 - INFO - root -   lr after epoch 2: 4.734807219661191e-05\n",
      "04/30/2020 19:42:38 - INFO - root -   train_loss after epoch 2: 0.5155726742028568\n",
      "04/30/2020 19:42:38 - INFO - root -   \n",
      "\n",
      "04/30/2020 19:44:41 - INFO - root -   Running evaluation\n",
      "04/30/2020 19:44:41 - INFO - root -     Num examples = 170\n",
      "04/30/2020 19:44:41 - INFO - root -     Batch size = 8\n"
     ]
    },
    {
     "data": {
      "text/html": [
       "\n",
       "    <div>\n",
       "        <style>\n",
       "            /* Turns off some styling */\n",
       "            progress {\n",
       "                /* gets rid of default border in Firefox and Opera. */\n",
       "                border: none;\n",
       "                /* Needs to be in here for Safari polyfill so background images work as expected. */\n",
       "                background-size: auto;\n",
       "            }\n",
       "            .progress-bar-interrupted, .progress-bar-interrupted::-webkit-progress-bar {\n",
       "                background: #F44336;\n",
       "            }\n",
       "        </style>\n",
       "      <progress value='22' class='' max='22' style='width:300px; height:20px; vertical-align: middle;'></progress>\n",
       "      100.00% [22/22 00:01<00:00]\n",
       "    </div>\n",
       "    "
      ],
      "text/plain": [
       "<IPython.core.display.HTML object>"
      ]
     },
     "metadata": {},
     "output_type": "display_data"
    },
    {
     "name": "stdout",
     "output_type": "stream",
     "text": [
      "04/30/2020 19:44:42 - INFO - root -   eval_loss after epoch 3: 0.46552335809577594: \n",
      "04/30/2020 19:44:42 - INFO - root -   eval_accuracy_thresh after epoch 3: 0.7779411673545837: \n",
      "04/30/2020 19:44:42 - INFO - root -   eval_roc_auc after epoch 3: 0.7538235294117647: \n",
      "04/30/2020 19:44:42 - INFO - root -   eval_fbeta after epoch 3: 0.5726891160011292: \n",
      "04/30/2020 19:44:42 - INFO - root -   lr after epoch 3: 3.5576452277873776e-05\n",
      "04/30/2020 19:44:42 - INFO - root -   train_loss after epoch 3: 0.47899890179422444\n",
      "04/30/2020 19:44:42 - INFO - root -   \n",
      "\n",
      "04/30/2020 19:46:45 - INFO - root -   Running evaluation\n",
      "04/30/2020 19:46:45 - INFO - root -     Num examples = 170\n",
      "04/30/2020 19:46:45 - INFO - root -     Batch size = 8\n"
     ]
    },
    {
     "data": {
      "text/html": [
       "\n",
       "    <div>\n",
       "        <style>\n",
       "            /* Turns off some styling */\n",
       "            progress {\n",
       "                /* gets rid of default border in Firefox and Opera. */\n",
       "                border: none;\n",
       "                /* Needs to be in here for Safari polyfill so background images work as expected. */\n",
       "                background-size: auto;\n",
       "            }\n",
       "            .progress-bar-interrupted, .progress-bar-interrupted::-webkit-progress-bar {\n",
       "                background: #F44336;\n",
       "            }\n",
       "        </style>\n",
       "      <progress value='22' class='' max='22' style='width:300px; height:20px; vertical-align: middle;'></progress>\n",
       "      100.00% [22/22 00:01<00:00]\n",
       "    </div>\n",
       "    "
      ],
      "text/plain": [
       "<IPython.core.display.HTML object>"
      ]
     },
     "metadata": {},
     "output_type": "display_data"
    },
    {
     "name": "stdout",
     "output_type": "stream",
     "text": [
      "04/30/2020 19:46:46 - INFO - root -   eval_loss after epoch 4: 0.46706958656961267: \n",
      "04/30/2020 19:46:46 - INFO - root -   eval_accuracy_thresh after epoch 4: 0.779411792755127: \n",
      "04/30/2020 19:46:46 - INFO - root -   eval_roc_auc after epoch 4: 0.7581487889273357: \n",
      "04/30/2020 19:46:46 - INFO - root -   eval_fbeta after epoch 4: 0.5441176295280457: \n",
      "04/30/2020 19:46:46 - INFO - root -   lr after epoch 4: 1.92424747032817e-05\n",
      "04/30/2020 19:46:46 - INFO - root -   train_loss after epoch 4: 0.4615488487731072\n",
      "04/30/2020 19:46:46 - INFO - root -   \n",
      "\n",
      "04/30/2020 19:48:48 - INFO - root -   Running evaluation\n",
      "04/30/2020 19:48:48 - INFO - root -     Num examples = 170\n",
      "04/30/2020 19:48:48 - INFO - root -     Batch size = 8\n"
     ]
    },
    {
     "data": {
      "text/html": [
       "\n",
       "    <div>\n",
       "        <style>\n",
       "            /* Turns off some styling */\n",
       "            progress {\n",
       "                /* gets rid of default border in Firefox and Opera. */\n",
       "                border: none;\n",
       "                /* Needs to be in here for Safari polyfill so background images work as expected. */\n",
       "                background-size: auto;\n",
       "            }\n",
       "            .progress-bar-interrupted, .progress-bar-interrupted::-webkit-progress-bar {\n",
       "                background: #F44336;\n",
       "            }\n",
       "        </style>\n",
       "      <progress value='22' class='' max='22' style='width:300px; height:20px; vertical-align: middle;'></progress>\n",
       "      100.00% [22/22 00:01<00:00]\n",
       "    </div>\n",
       "    "
      ],
      "text/plain": [
       "<IPython.core.display.HTML object>"
      ]
     },
     "metadata": {},
     "output_type": "display_data"
    },
    {
     "name": "stdout",
     "output_type": "stream",
     "text": [
      "04/30/2020 19:48:50 - INFO - root -   eval_loss after epoch 5: 0.46103901077400555: \n",
      "04/30/2020 19:48:50 - INFO - root -   eval_accuracy_thresh after epoch 5: 0.7823529839515686: \n",
      "04/30/2020 19:48:50 - INFO - root -   eval_roc_auc after epoch 5: 0.7657093425605537: \n",
      "04/30/2020 19:48:50 - INFO - root -   eval_fbeta after epoch 5: 0.5759103894233704: \n",
      "04/30/2020 19:48:50 - INFO - root -   lr after epoch 5: 5.392117243083616e-06\n",
      "04/30/2020 19:48:50 - INFO - root -   train_loss after epoch 5: 0.4505725329834238\n",
      "04/30/2020 19:48:50 - INFO - root -   \n",
      "\n",
      "04/30/2020 19:50:52 - INFO - root -   Running evaluation\n",
      "04/30/2020 19:50:52 - INFO - root -     Num examples = 170\n",
      "04/30/2020 19:50:52 - INFO - root -     Batch size = 8\n"
     ]
    },
    {
     "data": {
      "text/html": [
       "\n",
       "    <div>\n",
       "        <style>\n",
       "            /* Turns off some styling */\n",
       "            progress {\n",
       "                /* gets rid of default border in Firefox and Opera. */\n",
       "                border: none;\n",
       "                /* Needs to be in here for Safari polyfill so background images work as expected. */\n",
       "                background-size: auto;\n",
       "            }\n",
       "            .progress-bar-interrupted, .progress-bar-interrupted::-webkit-progress-bar {\n",
       "                background: #F44336;\n",
       "            }\n",
       "        </style>\n",
       "      <progress value='22' class='' max='22' style='width:300px; height:20px; vertical-align: middle;'></progress>\n",
       "      100.00% [22/22 00:01<00:00]\n",
       "    </div>\n",
       "    "
      ],
      "text/plain": [
       "<IPython.core.display.HTML object>"
      ]
     },
     "metadata": {},
     "output_type": "display_data"
    },
    {
     "name": "stdout",
     "output_type": "stream",
     "text": [
      "04/30/2020 19:50:54 - INFO - root -   eval_loss after epoch 6: 0.46160322427749634: \n",
      "04/30/2020 19:50:54 - INFO - root -   eval_accuracy_thresh after epoch 6: 0.7852941155433655: \n",
      "04/30/2020 19:50:54 - INFO - root -   eval_roc_auc after epoch 6: 0.7657439446366782: \n",
      "04/30/2020 19:50:54 - INFO - root -   eval_fbeta after epoch 6: 0.5834734439849854: \n",
      "04/30/2020 19:50:54 - INFO - root -   lr after epoch 6: 0.0\n",
      "04/30/2020 19:50:54 - INFO - root -   train_loss after epoch 6: 0.4471606486148685\n",
      "04/30/2020 19:50:54 - INFO - root -   \n",
      "\n"
     ]
    },
    {
     "data": {
      "text/plain": [
       "(2298, 0.49771980056822873)"
      ]
     },
     "execution_count": 16,
     "metadata": {},
     "output_type": "execute_result"
    }
   ],
   "source": [
    "learner.fit(args.num_train_epochs, args.learning_rate, validate=True)"
   ]
  },
  {
   "cell_type": "code",
   "execution_count": 17,
   "metadata": {},
   "outputs": [
    {
     "name": "stdout",
     "output_type": "stream",
     "text": [
      "04/30/2020 19:50:54 - INFO - root -   Running evaluation\n",
      "04/30/2020 19:50:54 - INFO - root -     Num examples = 170\n",
      "04/30/2020 19:50:54 - INFO - root -     Batch size = 8\n"
     ]
    },
    {
     "data": {
      "text/html": [
       "\n",
       "    <div>\n",
       "        <style>\n",
       "            /* Turns off some styling */\n",
       "            progress {\n",
       "                /* gets rid of default border in Firefox and Opera. */\n",
       "                border: none;\n",
       "                /* Needs to be in here for Safari polyfill so background images work as expected. */\n",
       "                background-size: auto;\n",
       "            }\n",
       "            .progress-bar-interrupted, .progress-bar-interrupted::-webkit-progress-bar {\n",
       "                background: #F44336;\n",
       "            }\n",
       "        </style>\n",
       "      <progress value='22' class='' max='22' style='width:300px; height:20px; vertical-align: middle;'></progress>\n",
       "      100.00% [22/22 00:01<00:00]\n",
       "    </div>\n",
       "    "
      ],
      "text/plain": [
       "<IPython.core.display.HTML object>"
      ]
     },
     "metadata": {},
     "output_type": "display_data"
    },
    {
     "data": {
      "text/plain": [
       "{'loss': 0.46160322427749634,\n",
       " 'accuracy_thresh': 0.7852941155433655,\n",
       " 'roc_auc': 0.7657439446366782,\n",
       " 'fbeta': 0.5834734439849854}"
      ]
     },
     "execution_count": 17,
     "metadata": {},
     "output_type": "execute_result"
    }
   ],
   "source": [
    "learner.validate()"
   ]
  },
  {
   "cell_type": "code",
   "execution_count": 18,
   "metadata": {},
   "outputs": [
    {
     "name": "stdout",
     "output_type": "stream",
     "text": [
      "04/30/2020 19:50:55 - INFO - transformers.configuration_utils -   Configuration saved in C:\\Users\\BAB72\\OneDrive\\School Documents\\DS_Lab\\Final_Project\\bert_models\\models\\output\\model_out\\config.json\n",
      "04/30/2020 19:50:55 - INFO - transformers.modeling_utils -   Model weights saved in C:\\Users\\BAB72\\OneDrive\\School Documents\\DS_Lab\\Final_Project\\bert_models\\models\\output\\model_out\\pytorch_model.bin\n"
     ]
    }
   ],
   "source": [
    "learner.save_model()"
   ]
  },
  {
   "cell_type": "markdown",
   "metadata": {},
   "source": [
    "## Predicting the Test Set"
   ]
  },
  {
   "cell_type": "code",
   "execution_count": 19,
   "metadata": {},
   "outputs": [
    {
     "name": "stdout",
     "output_type": "stream",
     "text": [
      "04/30/2020 19:50:55 - INFO - root -   Writing example 0 of 425\n"
     ]
    }
   ],
   "source": [
    "predictions = learner.predict_batch(list(pd.read_csv(str(DATA_PATH) + '/test.csv')['text'].values))"
   ]
  },
  {
   "cell_type": "markdown",
   "metadata": {},
   "source": [
    "#### Arg maxing for prediction label\n",
    "predictions sort based on which category gave the highest prediction"
   ]
  },
  {
   "cell_type": "code",
   "execution_count": 20,
   "metadata": {},
   "outputs": [],
   "source": [
    "label_pred = []\n",
    "for pred in predictions:\n",
    "    if pred[0][0] == 'age_group_0':\n",
    "        label_pred.append(0)\n",
    "    elif pred[0][0] == 'age_group_1':\n",
    "        label_pred.append(1)\n",
    "    elif pred[0][0] == 'age_group_2':\n",
    "        label_pred.append(2)\n",
    "    elif pred[0][0] == 'age_group_3':\n",
    "        label_pred.append(3)"
   ]
  },
  {
   "cell_type": "code",
   "execution_count": 21,
   "metadata": {},
   "outputs": [
    {
     "data": {
      "image/png": "[encoded data removed]",
      "text/plain": [
       "<Figure size 432x288 with 2 Axes>"
      ]
     },
     "metadata": {
      "needs_background": "light"
     },
     "output_type": "display_data"
    }
   ],
   "source": [
    "from sklearn.metrics import confusion_matrix\n",
    "import seaborn as sn\n",
    "import matplotlib.pyplot as plt\n",
    "\n",
    "cm = confusion_matrix(test_data['age_group'], label_pred, normalize='true')\n",
    "df_cm = pd.DataFrame(cm, range(4), range(4))\n",
    "sn.heatmap(df_cm, annot=True)\n",
    "plt.ylabel('True')\n",
    "plt.xlabel('Predicted')\n",
    "plt.show()"
   ]
  },
  {
   "cell_type": "markdown",
   "metadata": {},
   "source": [
    "## Metadata Model"
   ]
  },
  {
   "cell_type": "code",
   "execution_count": 22,
   "metadata": {},
   "outputs": [],
   "source": [
    "import xgboost as xgb"
   ]
  },
  {
   "cell_type": "code",
   "execution_count": 23,
   "metadata": {},
   "outputs": [],
   "source": [
    "train_data_meta = train_data.drop(['Unnamed: 0', 'handle', 'tweets_text', 'hashtags'], axis=1)\n",
    "val_data_meta = val_data.drop(['Unnamed: 0', 'handle', 'tweets_text', 'hashtags'], axis=1)"
   ]
  },
  {
   "cell_type": "code",
   "execution_count": 24,
   "metadata": {},
   "outputs": [],
   "source": [
    "meta_model = xgb.XGBClassifier(objective='multi:softmax', random_state=42)"
   ]
  },
  {
   "cell_type": "code",
   "execution_count": 25,
   "metadata": {},
   "outputs": [
    {
     "name": "stdout",
     "output_type": "stream",
     "text": [
      "[0]\tvalidation_0-merror:0.50588\n",
      "Will train until validation_0-merror hasn't improved in 10 rounds.\n",
      "[1]\tvalidation_0-merror:0.50588\n",
      "[2]\tvalidation_0-merror:0.50000\n",
      "[3]\tvalidation_0-merror:0.49412\n",
      "[4]\tvalidation_0-merror:0.50000\n",
      "[5]\tvalidation_0-merror:0.48823\n",
      "[6]\tvalidation_0-merror:0.48235\n",
      "[7]\tvalidation_0-merror:0.50000\n",
      "[8]\tvalidation_0-merror:0.47647\n",
      "[9]\tvalidation_0-merror:0.48235\n",
      "[10]\tvalidation_0-merror:0.48235\n",
      "[11]\tvalidation_0-merror:0.49412\n",
      "[12]\tvalidation_0-merror:0.47647\n",
      "[13]\tvalidation_0-merror:0.48235\n",
      "[14]\tvalidation_0-merror:0.48235\n",
      "[15]\tvalidation_0-merror:0.48823\n",
      "[16]\tvalidation_0-merror:0.48823\n",
      "[17]\tvalidation_0-merror:0.48235\n",
      "[18]\tvalidation_0-merror:0.47647\n",
      "Stopping. Best iteration:\n",
      "[8]\tvalidation_0-merror:0.47647\n",
      "\n"
     ]
    },
    {
     "data": {
      "text/plain": [
       "XGBClassifier(base_score=0.5, booster=None, colsample_bylevel=1,\n",
       "              colsample_bynode=1, colsample_bytree=1, gamma=0, gpu_id=-1,\n",
       "              importance_type='gain', interaction_constraints=None,\n",
       "              learning_rate=0.300000012, max_delta_step=0, max_depth=6,\n",
       "              min_child_weight=1, missing=nan, monotone_constraints=None,\n",
       "              n_estimators=100, n_jobs=0, num_parallel_tree=1,\n",
       "              objective='multi:softprob', random_state=42, reg_alpha=0,\n",
       "              reg_lambda=1, scale_pos_weight=None, subsample=1,\n",
       "              tree_method=None, validate_parameters=False, verbosity=None)"
      ]
     },
     "execution_count": 25,
     "metadata": {},
     "output_type": "execute_result"
    }
   ],
   "source": [
    "meta_model.fit(train_data_meta.drop('age_group', axis=1), train_data_meta['age_group'], eval_set=[(val_data_meta.drop('age_group', axis=1), val_data_meta['age_group'])], early_stopping_rounds=10)"
   ]
  },
  {
   "cell_type": "code",
   "execution_count": 26,
   "metadata": {},
   "outputs": [],
   "source": [
    "test_data_meta = test_data.drop(['Unnamed: 0', 'handle', 'tweets_text', 'hashtags'], axis=1)"
   ]
  },
  {
   "cell_type": "code",
   "execution_count": 27,
   "metadata": {},
   "outputs": [],
   "source": [
    "label_pred = meta_model.predict(test_data_meta.drop('age_group', axis=1))"
   ]
  },
  {
   "cell_type": "code",
   "execution_count": 28,
   "metadata": {},
   "outputs": [
    {
     "data": {
      "image/png": "[encoded data removed]",
      "text/plain": [
       "<Figure size 432x288 with 2 Axes>"
      ]
     },
     "metadata": {
      "needs_background": "light"
     },
     "output_type": "display_data"
    }
   ],
   "source": [
    "cm = confusion_matrix(test_data['age_group'], label_pred, normalize='true')\n",
    "df_cm = pd.DataFrame(cm, range(4), range(4))\n",
    "sn.heatmap(df_cm, annot=True)\n",
    "plt.ylabel('True')\n",
    "plt.xlabel('Predicted')\n",
    "plt.show()"
   ]
  },
  {
   "cell_type": "markdown",
   "metadata": {},
   "source": [
    "## Emsembling the two models"
   ]
  },
  {
   "cell_type": "code",
   "execution_count": 29,
   "metadata": {},
   "outputs": [
    {
     "name": "stdout",
     "output_type": "stream",
     "text": [
      "04/30/2020 19:51:00 - INFO - root -   Writing example 0 of 1529\n",
      "04/30/2020 19:51:15 - INFO - root -   Writing example 0 of 170\n"
     ]
    }
   ],
   "source": [
    "bert_pred_train = learner.predict_batch(list(pd.read_csv(str(DATA_PATH) + '/train.csv')['text'].values))\n",
    "bert_pred_val = learner.predict_batch(list(pd.read_csv(str(DATA_PATH) + '/val.csv')['text'].values))"
   ]
  },
  {
   "cell_type": "code",
   "execution_count": 30,
   "metadata": {},
   "outputs": [],
   "source": [
    "meta_pred_train = meta_model.predict_proba(train_data_meta.drop('age_group', axis=1))\n",
    "meta_pred_val = meta_model.predict_proba(val_data_meta.drop('age_group', axis=1))"
   ]
  },
  {
   "cell_type": "code",
   "execution_count": 31,
   "metadata": {},
   "outputs": [],
   "source": [
    "combined_pred_train = []\n",
    "combined_pred_val = []\n",
    "count = 0\n",
    "for pred in bert_pred_train:\n",
    "    combined_pred_train.append([0,0,0,0,0,0,0,0])\n",
    "    combined_pred_train[count][0] = meta_pred_train[count][0]\n",
    "    combined_pred_train[count][1] = meta_pred_train[count][1]\n",
    "    combined_pred_train[count][2] = meta_pred_train[count][2]\n",
    "    combined_pred_train[count][3] = meta_pred_train[count][3]\n",
    "    for i in range(4):\n",
    "        if pred[i][0] == 'age_group_0':\n",
    "            combined_pred_train[count][4] = pred[i][1]\n",
    "        elif pred[i][0] == 'age_group_1':\n",
    "            combined_pred_train[count][5] = pred[i][1]\n",
    "        elif pred[i][0] == 'age_group_2':\n",
    "            combined_pred_train[count][6] = pred[i][1]\n",
    "        elif pred[i][0] == 'age_group_3':\n",
    "            combined_pred_train[count][7] = pred[i][1]\n",
    "    count += 1\n",
    "    \n",
    "count = 0\n",
    "for pred in bert_pred_val:\n",
    "    combined_pred_val.append([0,0,0,0,0,0,0,0])\n",
    "    combined_pred_val[count][0] = meta_pred_train[count][0]\n",
    "    combined_pred_val[count][1] = meta_pred_train[count][1]\n",
    "    combined_pred_val[count][2] = meta_pred_train[count][2]\n",
    "    combined_pred_val[count][3] = meta_pred_train[count][3]\n",
    "    for i in range(4):\n",
    "        if pred[i][0] == 'age_group_0':\n",
    "            combined_pred_val[count][4] = pred[i][1]\n",
    "        elif pred[i][0] == 'age_group_1':\n",
    "            combined_pred_val[count][5] = pred[i][1]\n",
    "        elif pred[i][0] == 'age_group_2':\n",
    "            combined_pred_val[count][6] = pred[i][1]\n",
    "        elif pred[i][0] == 'age_group_3':\n",
    "            combined_pred_val[count][7] = pred[i][1]\n",
    "    count += 1"
   ]
  },
  {
   "cell_type": "code",
   "execution_count": 32,
   "metadata": {},
   "outputs": [],
   "source": [
    "ensemble_model = xgb.XGBClassifier(objective='multi:softmax', random_state=42)"
   ]
  },
  {
   "cell_type": "code",
   "execution_count": 33,
   "metadata": {},
   "outputs": [],
   "source": [
    "combined_pred_train = pd.DataFrame(combined_pred_train)\n",
    "combined_pred_val = pd.DataFrame(combined_pred_val)"
   ]
  },
  {
   "cell_type": "code",
   "execution_count": 34,
   "metadata": {},
   "outputs": [
    {
     "name": "stdout",
     "output_type": "stream",
     "text": [
      "[0]\tvalidation_0-merror:0.70588\n",
      "Will train until validation_0-merror hasn't improved in 10 rounds.\n",
      "[1]\tvalidation_0-merror:0.70588\n",
      "[2]\tvalidation_0-merror:0.69412\n",
      "[3]\tvalidation_0-merror:0.70000\n",
      "[4]\tvalidation_0-merror:0.69412\n",
      "[5]\tvalidation_0-merror:0.68824\n",
      "[6]\tvalidation_0-merror:0.69412\n",
      "[7]\tvalidation_0-merror:0.68824\n",
      "[8]\tvalidation_0-merror:0.68824\n",
      "[9]\tvalidation_0-merror:0.68824\n",
      "[10]\tvalidation_0-merror:0.68824\n",
      "[11]\tvalidation_0-merror:0.69412\n",
      "[12]\tvalidation_0-merror:0.69412\n",
      "[13]\tvalidation_0-merror:0.69412\n",
      "[14]\tvalidation_0-merror:0.68824\n",
      "[15]\tvalidation_0-merror:0.68824\n",
      "Stopping. Best iteration:\n",
      "[5]\tvalidation_0-merror:0.68824\n",
      "\n"
     ]
    },
    {
     "data": {
      "text/plain": [
       "XGBClassifier(base_score=0.5, booster=None, colsample_bylevel=1,\n",
       "              colsample_bynode=1, colsample_bytree=1, gamma=0, gpu_id=-1,\n",
       "              importance_type='gain', interaction_constraints=None,\n",
       "              learning_rate=0.300000012, max_delta_step=0, max_depth=6,\n",
       "              min_child_weight=1, missing=nan, monotone_constraints=None,\n",
       "              n_estimators=100, n_jobs=0, num_parallel_tree=1,\n",
       "              objective='multi:softprob', random_state=42, reg_alpha=0,\n",
       "              reg_lambda=1, scale_pos_weight=None, subsample=1,\n",
       "              tree_method=None, validate_parameters=False, verbosity=None)"
      ]
     },
     "execution_count": 34,
     "metadata": {},
     "output_type": "execute_result"
    }
   ],
   "source": [
    "ensemble_model.fit(combined_pred_train, train_data['age_group'], eval_set=[(combined_pred_val, val_data['age_group'])], early_stopping_rounds=10)"
   ]
  },
  {
   "cell_type": "code",
   "execution_count": 35,
   "metadata": {},
   "outputs": [],
   "source": [
    "meta_pred = meta_model.predict_proba(test_data_meta.drop('age_group', axis=1))\n",
    "combined_pred = []\n",
    "\n",
    "count = 0\n",
    "for pred in predictions:\n",
    "    combined_pred.append([0,0,0,0,0,0,0,0])\n",
    "    combined_pred[count][0] = meta_pred[count][0]\n",
    "    combined_pred[count][1] = meta_pred[count][1]\n",
    "    combined_pred[count][2] = meta_pred[count][2]\n",
    "    combined_pred[count][3] = meta_pred[count][3]\n",
    "    for i in range(4):\n",
    "        if pred[i][0] == 'age_group_0':\n",
    "            combined_pred[count][4] = pred[i][1]\n",
    "        elif pred[i][0] == 'age_group_1':\n",
    "            combined_pred[count][5] = pred[i][1]\n",
    "        elif pred[i][0] == 'age_group_2':\n",
    "            combined_pred[count][6] = pred[i][1]\n",
    "        elif pred[i][0] == 'age_group_3':\n",
    "            combined_pred[count][7] = pred[i][1]\n",
    "    count += 1\n",
    "\n",
    "combined_pred = pd.DataFrame(combined_pred)"
   ]
  },
  {
   "cell_type": "code",
   "execution_count": 36,
   "metadata": {},
   "outputs": [],
   "source": [
    "label_pred = ensemble_model.predict(combined_pred)"
   ]
  },
  {
   "cell_type": "code",
   "execution_count": 37,
   "metadata": {},
   "outputs": [
    {
     "data": {
      "image/png": "[encoded data removed]",
      "text/plain": [
       "<Figure size 432x288 with 2 Axes>"
      ]
     },
     "metadata": {
      "needs_background": "light"
     },
     "output_type": "display_data"
    }
   ],
   "source": [
    "cm = confusion_matrix(test_data['age_group'], label_pred, normalize='true')\n",
    "df_cm = pd.DataFrame(cm, range(4), range(4))\n",
    "sn.heatmap(df_cm, annot=True)\n",
    "plt.ylabel('True')\n",
    "plt.xlabel('Predicted')\n",
    "plt.show()"
   ]
  },
  {
   "cell_type": "code",
   "execution_count": null,
   "metadata": {},
   "outputs": [],
   "source": []
  }
 ],
 "metadata": {
  "kernelspec": {
   "display_name": "Python 3",
   "language": "python",
   "name": "python3"
  },
  "language_info": {
   "codemirror_mode": {
    "name": "ipython",
    "version": 3
   },
   "file_extension": ".py",
   "mimetype": "text/x-python",
   "name": "python",
   "nbconvert_exporter": "python",
   "pygments_lexer": "ipython3",
   "version": "3.7.7"
  }
 },
 "nbformat": 4,
 "nbformat_minor": 4
}

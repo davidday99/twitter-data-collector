{
 "cells": [
  {
   "cell_type": "code",
   "execution_count": 1,
   "metadata": {},
   "outputs": [],
   "source": [
    "from transformers import BertTokenizer\n",
    "from pathlib import Path\n",
    "import torch\n",
    "\n",
    "from box import Box\n",
    "import pandas as pd\n",
    "import collections\n",
    "import os\n",
    "from tqdm import tqdm, trange\n",
    "import sys\n",
    "import random\n",
    "import numpy as np\n",
    "import apex\n",
    "from sklearn.model_selection import train_test_split\n",
    "from sklearn.utils import resample\n",
    "\n",
    "import datetime\n",
    "import nltk\n",
    "#nltk.download('words')\n",
    "words = set(nltk.corpus.words.words())\n",
    "\n",
    "from fast_bert.modeling import BertForMultiLabelSequenceClassification\n",
    "from fast_bert.data_cls import BertDataBunch, InputExample, InputFeatures, MultiLabelTextProcessor, convert_examples_to_features\n",
    "from fast_bert.learner_cls import BertLearner\n",
    "from fast_bert.metrics import accuracy_multilabel, accuracy_thresh, fbeta, roc_auc"
   ]
  },
  {
   "cell_type": "code",
   "execution_count": 2,
   "metadata": {},
   "outputs": [],
   "source": [
    "MAIN_DIR = 'C:/Users/BAB72/OneDrive/School Documents/DS_Lab/Final_Project/' # Directory where this .ipynb file sits\n",
    "\n",
    "DATA_PATH = Path(MAIN_DIR + '/bert_data/') # Need to create directory beforehand\n",
    "DATA_PATH_UP = Path(MAIN_DIR + '/bert_data_up/') # Need to create directory beforehand\n",
    "DATA_PATH_DOWN = Path(MAIN_DIR + '/bert_data_down/') # Need to create directory beforehand\n",
    "LABEL_PATH = Path(MAIN_DIR + '/bert_data/') # Need labels.csv (see https://github.com/kaushaltrivedi/fast-bert how to format)\n",
    "\n",
    "AUG_DATA_PATH = Path(MAIN_DIR + '/bert_models/data_augmentation/') # Need to create directory beforehand\n",
    "MODEL_PATH=Path(MAIN_DIR + '/bert_models/models/') # Need to create directory beforehand\n",
    "LOG_PATH=Path(MAIN_DIR + '/bert_models/logs/') # Need to create directory beforehand\n",
    "MODEL_PATH.mkdir(exist_ok=True)\n",
    "\n",
    "model_state_dict = None\n",
    "\n",
    "# BERT_PRETRAINED_PATH = Path('../../bert_models/pretrained-weights/cased_L-12_H-768_A-12/')\n",
    "BERT_PRETRAINED_PATH = Path('../../bert_models/pretrained-weights/uncased_L-12_H-768_A-12/')\n",
    "# BERT_PRETRAINED_PATH = Path('../../bert_fastai/pretrained-weights/uncased_L-24_H-1024_A-16/')\n",
    "# FINETUNED_PATH = Path('../models/finetuned_model.bin')\n",
    "FINETUNED_PATH = None\n",
    "# model_state_dict = torch.load(FINETUNED_PATH)\n",
    "\n",
    "LOG_PATH.mkdir(exist_ok=True)\n",
    "\n",
    "OUTPUT_PATH = MODEL_PATH/'output'\n",
    "OUTPUT_PATH.mkdir(exist_ok=True)"
   ]
  },
  {
   "cell_type": "markdown",
   "metadata": {},
   "source": [
    "## Transforming Data into format that the model uses"
   ]
  },
  {
   "cell_type": "code",
   "execution_count": 3,
   "metadata": {},
   "outputs": [],
   "source": [
    "train_data = pd.read_csv(MAIN_DIR + 'profile_data_train.csv')\n",
    "test_data = pd.read_csv(MAIN_DIR + 'profile_data_test.csv')"
   ]
  },
  {
   "cell_type": "code",
   "execution_count": 4,
   "metadata": {},
   "outputs": [],
   "source": [
    "def splitDataFrameList(df,target_column,separator):\n",
    "    ''' df = dataframe to split,\n",
    "    target_column = the column containing the values to split\n",
    "    separator = the symbol used to perform the split\n",
    "    returns: a dataframe with each entry for the target column separated, with each element moved into a new row. \n",
    "    The values in the other columns are duplicated across the newly divided rows.\n",
    "    '''\n",
    "    def splitListToRows(row,row_accumulator,target_column,separator):\n",
    "        split_row = row[target_column].split(separator)\n",
    "        for s in split_row:\n",
    "            new_row = row.to_dict()\n",
    "            new_row[target_column] = s\n",
    "            row_accumulator.append(new_row)\n",
    "    new_rows = []\n",
    "    df.apply(splitListToRows,axis=1,args = (new_rows,target_column,separator))\n",
    "    new_df = pd.DataFrame(new_rows)\n",
    "    return new_df\n",
    "\n",
    "train_data = splitDataFrameList(train_data, 'tweets_text', '\\t')\n",
    "test_data = splitDataFrameList(test_data, 'tweets_text', '\\t')"
   ]
  },
  {
   "cell_type": "code",
   "execution_count": 5,
   "metadata": {},
   "outputs": [],
   "source": [
    "df_0 = train_data[train_data.age_group==0]\n",
    "df_1 = train_data[train_data.age_group==1]\n",
    "df_2 = train_data[train_data.age_group==2]\n",
    "df_3 = train_data[train_data.age_group==3]\n",
    "\n",
    "min_count = min([len(df_0), len(df_1), len(df_2), len(df_3)])\n",
    "\n",
    "df_0 = resample(df_0, replace=False, n_samples=min_count, random_state=42)\n",
    "df_1 = resample(df_1, replace=False, n_samples=min_count, random_state=42)\n",
    "df_2 = resample(df_2, replace=False, n_samples=min_count, random_state=42)\n",
    "df_3 = resample(df_3, replace=False, n_samples=min_count, random_state=42)\n",
    " \n",
    "train_data_down = pd.concat([df_0, df_1, df_2, df_3])"
   ]
  },
  {
   "cell_type": "code",
   "execution_count": 6,
   "metadata": {},
   "outputs": [],
   "source": [
    "df_0 = train_data[train_data.age_group==0]\n",
    "df_1 = train_data[train_data.age_group==1]\n",
    "df_2 = train_data[train_data.age_group==2]\n",
    "df_3 = train_data[train_data.age_group==3]\n",
    "\n",
    "max_count = max([len(df_0), len(df_1), len(df_2), len(df_3)])\n",
    "\n",
    "df_0 = resample(df_0, replace=True, n_samples=max_count, random_state=42)\n",
    "df_1 = resample(df_1, replace=True, n_samples=max_count, random_state=42)\n",
    "df_2 = resample(df_2, replace=True, n_samples=max_count, random_state=42)\n",
    "df_3 = resample(df_3, replace=True, n_samples=max_count, random_state=42)\n",
    " \n",
    "train_data_up = pd.concat([df_0, df_1, df_2, df_3])"
   ]
  },
  {
   "cell_type": "code",
   "execution_count": 7,
   "metadata": {},
   "outputs": [],
   "source": [
    "drop_columns = ['handle', 'followers', 'following', 'follower_following_ratio', 'avg_favorites', 'min_favorites', 'max_favorites', 'avg_retweets', 'min_retweets', 'max_retweets', 'hashtags',\n",
    "                'hashtags_per_tweet', 'mentions_per_tweet', 'avg_timedelta_hrs', 'avg_word_count']\n",
    "\n",
    "def data_to_bert(data, data_path, split=False):\n",
    "    if split:\n",
    "        train_data, val_data = train_test_split(data, test_size=0.1, random_state=42)\n",
    "        \n",
    "        bert_data_train = pd.concat([train_data,pd.get_dummies(train_data['age_group'], prefix='age_group')],axis=1)\n",
    "        bert_data_train.drop(['age_group'],axis=1, inplace=True)\n",
    "        bert_data_train.drop(drop_columns,axis=1, inplace=True)\n",
    "        bert_data_train.columns = ['id', 'text', 'age_group_0', 'age_group_1', 'age_group_2', 'age_group_3']\n",
    "        bert_data_train.to_csv(data_path + '/train.csv', index = False)\n",
    "\n",
    "        bert_data_val = pd.concat([val_data,pd.get_dummies(val_data['age_group'], prefix='age_group')],axis=1)\n",
    "        bert_data_val.drop(['age_group'],axis=1, inplace=True)\n",
    "        bert_data_val.drop(drop_columns,axis=1, inplace=True)\n",
    "        bert_data_val.columns = ['id', 'text', 'age_group_0', 'age_group_1', 'age_group_2', 'age_group_3']\n",
    "        bert_data_val.to_csv(data_path + '/val.csv', index = False)\n",
    "        \n",
    "        return train_data, val_data\n",
    "    else:\n",
    "        bert_data = pd.concat([data,pd.get_dummies(data['age_group'], prefix='age_group')],axis=1)\n",
    "        bert_data.drop(['age_group'],axis=1, inplace=True)\n",
    "        bert_data.drop(drop_columns,axis=1, inplace=True)\n",
    "        bert_data.columns = ['id', 'text', 'age_group_0', 'age_group_1', 'age_group_2', 'age_group_3']\n",
    "        bert_data.to_csv(data_path + '/test.csv', index = False) # Uncomment first time you run\n",
    "        \n",
    "        return data"
   ]
  },
  {
   "cell_type": "code",
   "execution_count": 8,
   "metadata": {},
   "outputs": [],
   "source": [
    "train_data, val_data = data_to_bert(train_data, str(DATA_PATH), split=True)\n",
    "test_data = data_to_bert(test_data, str(DATA_PATH))\n",
    "\n",
    "train_data_up, val_data_up = data_to_bert(train_data_up, str(DATA_PATH_UP), split=True)\n",
    "test_data_up = data_to_bert(test_data, str(DATA_PATH_UP))\n",
    "\n",
    "train_data_down, val_data_down = data_to_bert(train_data_down, str(DATA_PATH_DOWN), split=True)\n",
    "test_data_down = data_to_bert(test_data, str(DATA_PATH_DOWN))"
   ]
  },
  {
   "cell_type": "code",
   "execution_count": 9,
   "metadata": {},
   "outputs": [],
   "source": [
    "torch.cuda.empty_cache()"
   ]
  },
  {
   "cell_type": "code",
   "execution_count": 10,
   "metadata": {},
   "outputs": [
    {
     "name": "stderr",
     "output_type": "stream",
     "text": [
      "c:\\users\\bab72\\appdata\\local\\programs\\python\\python37\\lib\\site-packages\\ipykernel_launcher.py:1: FutureWarning: Passing a negative integer is deprecated in version 1.0 and will not be supported in future version. Instead, use None to not limit the column width.\n",
      "  \"\"\"Entry point for launching an IPython kernel.\n"
     ]
    }
   ],
   "source": [
    "pd.set_option('display.max_colwidth', -1)\n",
    "run_start_time = datetime.datetime.today().strftime('%Y-%m-%d_%H-%M-%S')"
   ]
  },
  {
   "cell_type": "markdown",
   "metadata": {},
   "source": [
    "## Model Parameters\n",
    "#### May need to adjust based on your system capabilities\n",
    "I had to reduce \"max_seq_lenth\" and \"batch_size\" because I ran out of memory"
   ]
  },
  {
   "cell_type": "code",
   "execution_count": 11,
   "metadata": {},
   "outputs": [],
   "source": [
    "args = Box({\n",
    "    \"run_text\": \"multilabel toxic comments with freezable layers\",\n",
    "    \"train_size\": -1,\n",
    "    \"val_size\": -1,\n",
    "    \"log_path\": LOG_PATH,\n",
    "    \"full_data_dir\": DATA_PATH,\n",
    "    \"data_dir\": DATA_PATH,\n",
    "    \"task_name\": \"toxic_classification_lib\",\n",
    "    \"no_cuda\": False,\n",
    "    \"bert_model\": BERT_PRETRAINED_PATH,\n",
    "    \"output_dir\": OUTPUT_PATH,\n",
    "    \"max_seq_length\": 128,\n",
    "    \"do_train\": True,\n",
    "    \"do_eval\": True,\n",
    "    \"do_lower_case\": True,\n",
    "    \"train_batch_size\": 4,\n",
    "    \"eval_batch_size\": 8,\n",
    "    \"learning_rate\": 5e-5,\n",
    "    \"num_train_epochs\": 6,\n",
    "    \"warmup_proportion\": 0.0,\n",
    "    \"no_cuda\": False,\n",
    "    \"local_rank\": -1,\n",
    "    \"seed\": 42,\n",
    "    \"gradient_accumulation_steps\": 1,\n",
    "    \"optimize_on_cpu\": False,\n",
    "    \"fp16\": True,\n",
    "    \"fp16_opt_level\": \"O1\",\n",
    "    \"weight_decay\": 0.0,\n",
    "    \"adam_epsilon\": 1e-8,\n",
    "    \"max_grad_norm\": 1.0,\n",
    "    \"max_steps\": -1,\n",
    "    \"warmup_steps\": 500,\n",
    "    \"logging_steps\": 50,\n",
    "    \"eval_all_checkpoints\": True,\n",
    "    \"overwrite_output_dir\": True,\n",
    "    \"overwrite_cache\": False,\n",
    "    \"seed\": 42,\n",
    "    \"loss_scale\": 128,\n",
    "    \"task_name\": 'intent',\n",
    "    \"model_name\": 'xlnet-base-cased',\n",
    "    \"model_type\": 'xlnet',\n",
    "    \"multi_gpu\": False\n",
    "})"
   ]
  },
  {
   "cell_type": "code",
   "execution_count": 12,
   "metadata": {},
   "outputs": [],
   "source": [
    "import logging\n",
    "\n",
    "logfile = str(LOG_PATH/'log-{}-{}.txt'.format(run_start_time, args[\"run_text\"]))\n",
    "\n",
    "logging.basicConfig(\n",
    "    level=logging.INFO,\n",
    "    format='%(asctime)s - %(levelname)s - %(name)s -   %(message)s',\n",
    "    datefmt='%m/%d/%Y %H:%M:%S',\n",
    "    handlers=[\n",
    "        logging.FileHandler(logfile),\n",
    "        logging.StreamHandler(sys.stdout)\n",
    "    ])\n",
    "\n",
    "logger = logging.getLogger()"
   ]
  },
  {
   "cell_type": "code",
   "execution_count": 13,
   "metadata": {},
   "outputs": [
    {
     "name": "stdout",
     "output_type": "stream",
     "text": [
      "05/02/2020 18:14:46 - INFO - root -   {'run_text': 'multilabel toxic comments with freezable layers', 'train_size': -1, 'val_size': -1, 'log_path': WindowsPath('C:/Users/BAB72/OneDrive/School Documents/DS_Lab/Final_Project/bert_models/logs'), 'full_data_dir': WindowsPath('C:/Users/BAB72/OneDrive/School Documents/DS_Lab/Final_Project/bert_data'), 'data_dir': WindowsPath('C:/Users/BAB72/OneDrive/School Documents/DS_Lab/Final_Project/bert_data'), 'task_name': 'intent', 'no_cuda': False, 'bert_model': WindowsPath('../../bert_models/pretrained-weights/uncased_L-12_H-768_A-12'), 'output_dir': WindowsPath('C:/Users/BAB72/OneDrive/School Documents/DS_Lab/Final_Project/bert_models/models/output'), 'max_seq_length': 128, 'do_train': True, 'do_eval': True, 'do_lower_case': True, 'train_batch_size': 4, 'eval_batch_size': 8, 'learning_rate': 5e-05, 'num_train_epochs': 6, 'warmup_proportion': 0.0, 'local_rank': -1, 'seed': 42, 'gradient_accumulation_steps': 1, 'optimize_on_cpu': False, 'fp16': True, 'fp16_opt_level': 'O1', 'weight_decay': 0.0, 'adam_epsilon': 1e-08, 'max_grad_norm': 1.0, 'max_steps': -1, 'warmup_steps': 500, 'logging_steps': 50, 'eval_all_checkpoints': True, 'overwrite_output_dir': True, 'overwrite_cache': False, 'loss_scale': 128, 'model_name': 'xlnet-base-cased', 'model_type': 'xlnet', 'multi_gpu': False}\n"
     ]
    }
   ],
   "source": [
    "logger.info(args)"
   ]
  },
  {
   "cell_type": "code",
   "execution_count": 14,
   "metadata": {},
   "outputs": [],
   "source": [
    "# tokenizer = BertTokenizer.from_pretrained(BERT_PRETRAINED_PATH, do_lower_case=args['do_lower_case'])"
   ]
  },
  {
   "cell_type": "code",
   "execution_count": 15,
   "metadata": {},
   "outputs": [],
   "source": [
    "device = torch.device('cuda')\n",
    "if torch.cuda.device_count() > 1:\n",
    "    args.multi_gpu = True\n",
    "else:\n",
    "    args.multi_gpu = False"
   ]
  },
  {
   "cell_type": "code",
   "execution_count": 16,
   "metadata": {},
   "outputs": [],
   "source": [
    "label_cols = ['age_group_0','age_group_1','age_group_2','age_group_3']"
   ]
  },
  {
   "cell_type": "code",
   "execution_count": 17,
   "metadata": {},
   "outputs": [
    {
     "data": {
      "text/plain": [
       "(15153, 6)"
      ]
     },
     "execution_count": 17,
     "metadata": {},
     "output_type": "execute_result"
    }
   ],
   "source": [
    "pd.read_csv(str(DATA_PATH) + '/train.csv').shape"
   ]
  },
  {
   "cell_type": "markdown",
   "metadata": {},
   "source": [
    "## Transforming Text to Bert Data"
   ]
  },
  {
   "cell_type": "code",
   "execution_count": 18,
   "metadata": {},
   "outputs": [
    {
     "name": "stdout",
     "output_type": "stream",
     "text": [
      "05/02/2020 18:14:46 - INFO - transformers.configuration_utils -   loading configuration file https://s3.amazonaws.com/models.huggingface.co/bert/xlnet-base-cased-config.json from cache at C:\\Users\\BAB72\\.cache\\torch\\transformers\\c9cc6e53904f7f3679a31ec4af244f4419e25ebc8e71ebf8c558a31cbcf07fc8.f23f7137b19a096a6eed89d1ffd00d4530935d72381eb7b9fcf8d5a1f25919ad\n",
      "05/02/2020 18:14:46 - INFO - transformers.configuration_utils -   Model config XLNetConfig {\n",
      "  \"architectures\": [\n",
      "    \"XLNetLMHeadModel\"\n",
      "  ],\n",
      "  \"attn_type\": \"bi\",\n",
      "  \"bi_data\": false,\n",
      "  \"bos_token_id\": 1,\n",
      "  \"clamp_len\": -1,\n",
      "  \"d_head\": 64,\n",
      "  \"d_inner\": 3072,\n",
      "  \"d_model\": 768,\n",
      "  \"dropout\": 0.1,\n",
      "  \"end_n_top\": 5,\n",
      "  \"eos_token_id\": 2,\n",
      "  \"ff_activation\": \"gelu\",\n",
      "  \"initializer_range\": 0.02,\n",
      "  \"layer_norm_eps\": 1e-12,\n",
      "  \"mem_len\": null,\n",
      "  \"model_type\": \"xlnet\",\n",
      "  \"n_head\": 12,\n",
      "  \"n_layer\": 12,\n",
      "  \"pad_token_id\": 5,\n",
      "  \"reuse_len\": null,\n",
      "  \"same_length\": false,\n",
      "  \"start_n_top\": 5,\n",
      "  \"summary_activation\": \"tanh\",\n",
      "  \"summary_last_dropout\": 0.1,\n",
      "  \"summary_type\": \"last\",\n",
      "  \"summary_use_proj\": true,\n",
      "  \"task_specific_params\": {\n",
      "    \"text_generation\": {\n",
      "      \"max_length\": 210\n",
      "    }\n",
      "  },\n",
      "  \"untie_r\": true,\n",
      "  \"vocab_size\": 32000\n",
      "}\n",
      "\n",
      "05/02/2020 18:14:46 - INFO - transformers.tokenization_utils -   loading file https://s3.amazonaws.com/models.huggingface.co/bert/xlnet-base-cased-spiece.model from cache at C:\\Users\\BAB72\\.cache\\torch\\transformers\\dad589d582573df0293448af5109cb6981ca77239ed314e15ca63b7b8a318ddd.8b10bd978b5d01c21303cc761fc9ecd464419b3bf921864a355ba807cfbfafa8\n",
      "05/02/2020 18:14:52 - INFO - root -   Writing example 0 of 15153\n",
      "05/02/2020 18:14:53 - INFO - root -   Writing example 10000 of 15153\n",
      "05/02/2020 18:14:54 - INFO - root -   Saving features into cached file C:\\Users\\BAB72\\OneDrive\\School Documents\\DS_Lab\\Final_Project\\bert_data\\cache\\cached_xlnet_train_multi_label_128_train.csv\n",
      "05/02/2020 18:14:56 - INFO - root -   Writing example 0 of 1684\n",
      "05/02/2020 18:14:57 - INFO - root -   Saving features into cached file C:\\Users\\BAB72\\OneDrive\\School Documents\\DS_Lab\\Final_Project\\bert_data\\cache\\cached_xlnet_dev_multi_label_128_val.csv\n",
      "05/02/2020 18:14:57 - INFO - root -   Writing example 0 of 8\n",
      "05/02/2020 18:14:57 - INFO - root -   Saving features into cached file C:\\Users\\BAB72\\OneDrive\\School Documents\\DS_Lab\\Final_Project\\bert_data\\cache\\cached_xlnet_test_multi_label_128_test\n"
     ]
    }
   ],
   "source": [
    "databunch = BertDataBunch(DATA_PATH, LABEL_PATH, args.model_name, train_file='train.csv', val_file='val.csv',\n",
    "                          test_data='test.csv',\n",
    "                          text_col=\"text\", label_col=label_cols,\n",
    "                          batch_size_per_gpu=args['train_batch_size'], max_seq_length=args['max_seq_length'], \n",
    "                          multi_gpu=args.multi_gpu, multi_label=True, model_type=args.model_type)"
   ]
  },
  {
   "cell_type": "code",
   "execution_count": 19,
   "metadata": {},
   "outputs": [
    {
     "name": "stdout",
     "output_type": "stream",
     "text": [
      "05/02/2020 18:14:57 - INFO - transformers.configuration_utils -   loading configuration file https://s3.amazonaws.com/models.huggingface.co/bert/xlnet-base-cased-config.json from cache at C:\\Users\\BAB72\\.cache\\torch\\transformers\\c9cc6e53904f7f3679a31ec4af244f4419e25ebc8e71ebf8c558a31cbcf07fc8.f23f7137b19a096a6eed89d1ffd00d4530935d72381eb7b9fcf8d5a1f25919ad\n",
      "05/02/2020 18:14:57 - INFO - transformers.configuration_utils -   Model config XLNetConfig {\n",
      "  \"architectures\": [\n",
      "    \"XLNetLMHeadModel\"\n",
      "  ],\n",
      "  \"attn_type\": \"bi\",\n",
      "  \"bi_data\": false,\n",
      "  \"bos_token_id\": 1,\n",
      "  \"clamp_len\": -1,\n",
      "  \"d_head\": 64,\n",
      "  \"d_inner\": 3072,\n",
      "  \"d_model\": 768,\n",
      "  \"dropout\": 0.1,\n",
      "  \"end_n_top\": 5,\n",
      "  \"eos_token_id\": 2,\n",
      "  \"ff_activation\": \"gelu\",\n",
      "  \"initializer_range\": 0.02,\n",
      "  \"layer_norm_eps\": 1e-12,\n",
      "  \"mem_len\": null,\n",
      "  \"model_type\": \"xlnet\",\n",
      "  \"n_head\": 12,\n",
      "  \"n_layer\": 12,\n",
      "  \"pad_token_id\": 5,\n",
      "  \"reuse_len\": null,\n",
      "  \"same_length\": false,\n",
      "  \"start_n_top\": 5,\n",
      "  \"summary_activation\": \"tanh\",\n",
      "  \"summary_last_dropout\": 0.1,\n",
      "  \"summary_type\": \"last\",\n",
      "  \"summary_use_proj\": true,\n",
      "  \"task_specific_params\": {\n",
      "    \"text_generation\": {\n",
      "      \"max_length\": 210\n",
      "    }\n",
      "  },\n",
      "  \"untie_r\": true,\n",
      "  \"vocab_size\": 32000\n",
      "}\n",
      "\n",
      "05/02/2020 18:14:57 - INFO - transformers.tokenization_utils -   loading file https://s3.amazonaws.com/models.huggingface.co/bert/xlnet-base-cased-spiece.model from cache at C:\\Users\\BAB72\\.cache\\torch\\transformers\\dad589d582573df0293448af5109cb6981ca77239ed314e15ca63b7b8a318ddd.8b10bd978b5d01c21303cc761fc9ecd464419b3bf921864a355ba807cfbfafa8\n",
      "05/02/2020 18:15:04 - INFO - root -   Writing example 0 of 18036\n",
      "05/02/2020 18:15:05 - INFO - root -   Writing example 10000 of 18036\n",
      "05/02/2020 18:15:06 - INFO - root -   Saving features into cached file C:\\Users\\BAB72\\OneDrive\\School Documents\\DS_Lab\\Final_Project\\bert_data_up\\cache\\cached_xlnet_train_multi_label_128_train.csv\n",
      "05/02/2020 18:15:09 - INFO - root -   Writing example 0 of 2004\n",
      "05/02/2020 18:15:09 - INFO - root -   Saving features into cached file C:\\Users\\BAB72\\OneDrive\\School Documents\\DS_Lab\\Final_Project\\bert_data_up\\cache\\cached_xlnet_dev_multi_label_128_val.csv\n",
      "05/02/2020 18:15:09 - INFO - root -   Writing example 0 of 8\n",
      "05/02/2020 18:15:09 - INFO - root -   Saving features into cached file C:\\Users\\BAB72\\OneDrive\\School Documents\\DS_Lab\\Final_Project\\bert_data_up\\cache\\cached_xlnet_test_multi_label_128_test\n"
     ]
    }
   ],
   "source": [
    "databunch_up = BertDataBunch(DATA_PATH_UP, LABEL_PATH, args.model_name, train_file='train.csv', val_file='val.csv',\n",
    "                          test_data='test.csv',\n",
    "                          text_col=\"text\", label_col=label_cols,\n",
    "                          batch_size_per_gpu=args['train_batch_size'], max_seq_length=args['max_seq_length'], \n",
    "                          multi_gpu=args.multi_gpu, multi_label=True, model_type=args.model_type)"
   ]
  },
  {
   "cell_type": "code",
   "execution_count": 20,
   "metadata": {},
   "outputs": [
    {
     "name": "stdout",
     "output_type": "stream",
     "text": [
      "05/02/2020 18:15:10 - INFO - transformers.configuration_utils -   loading configuration file https://s3.amazonaws.com/models.huggingface.co/bert/xlnet-base-cased-config.json from cache at C:\\Users\\BAB72\\.cache\\torch\\transformers\\c9cc6e53904f7f3679a31ec4af244f4419e25ebc8e71ebf8c558a31cbcf07fc8.f23f7137b19a096a6eed89d1ffd00d4530935d72381eb7b9fcf8d5a1f25919ad\n",
      "05/02/2020 18:15:10 - INFO - transformers.configuration_utils -   Model config XLNetConfig {\n",
      "  \"architectures\": [\n",
      "    \"XLNetLMHeadModel\"\n",
      "  ],\n",
      "  \"attn_type\": \"bi\",\n",
      "  \"bi_data\": false,\n",
      "  \"bos_token_id\": 1,\n",
      "  \"clamp_len\": -1,\n",
      "  \"d_head\": 64,\n",
      "  \"d_inner\": 3072,\n",
      "  \"d_model\": 768,\n",
      "  \"dropout\": 0.1,\n",
      "  \"end_n_top\": 5,\n",
      "  \"eos_token_id\": 2,\n",
      "  \"ff_activation\": \"gelu\",\n",
      "  \"initializer_range\": 0.02,\n",
      "  \"layer_norm_eps\": 1e-12,\n",
      "  \"mem_len\": null,\n",
      "  \"model_type\": \"xlnet\",\n",
      "  \"n_head\": 12,\n",
      "  \"n_layer\": 12,\n",
      "  \"pad_token_id\": 5,\n",
      "  \"reuse_len\": null,\n",
      "  \"same_length\": false,\n",
      "  \"start_n_top\": 5,\n",
      "  \"summary_activation\": \"tanh\",\n",
      "  \"summary_last_dropout\": 0.1,\n",
      "  \"summary_type\": \"last\",\n",
      "  \"summary_use_proj\": true,\n",
      "  \"task_specific_params\": {\n",
      "    \"text_generation\": {\n",
      "      \"max_length\": 210\n",
      "    }\n",
      "  },\n",
      "  \"untie_r\": true,\n",
      "  \"vocab_size\": 32000\n",
      "}\n",
      "\n",
      "05/02/2020 18:15:10 - INFO - transformers.tokenization_utils -   loading file https://s3.amazonaws.com/models.huggingface.co/bert/xlnet-base-cased-spiece.model from cache at C:\\Users\\BAB72\\.cache\\torch\\transformers\\dad589d582573df0293448af5109cb6981ca77239ed314e15ca63b7b8a318ddd.8b10bd978b5d01c21303cc761fc9ecd464419b3bf921864a355ba807cfbfafa8\n",
      "05/02/2020 18:15:13 - INFO - root -   Writing example 0 of 8694\n",
      "05/02/2020 18:15:14 - INFO - root -   Saving features into cached file C:\\Users\\BAB72\\OneDrive\\School Documents\\DS_Lab\\Final_Project\\bert_data_down\\cache\\cached_xlnet_train_multi_label_128_train.csv\n",
      "05/02/2020 18:15:16 - INFO - root -   Writing example 0 of 966\n",
      "05/02/2020 18:15:16 - INFO - root -   Saving features into cached file C:\\Users\\BAB72\\OneDrive\\School Documents\\DS_Lab\\Final_Project\\bert_data_down\\cache\\cached_xlnet_dev_multi_label_128_val.csv\n",
      "05/02/2020 18:15:16 - INFO - root -   Writing example 0 of 8\n",
      "05/02/2020 18:15:16 - INFO - root -   Saving features into cached file C:\\Users\\BAB72\\OneDrive\\School Documents\\DS_Lab\\Final_Project\\bert_data_down\\cache\\cached_xlnet_test_multi_label_128_test\n"
     ]
    }
   ],
   "source": [
    "databunch_down = BertDataBunch(DATA_PATH_DOWN, LABEL_PATH, args.model_name, train_file='train.csv', val_file='val.csv',\n",
    "                          test_data='test.csv',\n",
    "                          text_col=\"text\", label_col=label_cols,\n",
    "                          batch_size_per_gpu=args['train_batch_size'], max_seq_length=args['max_seq_length'], \n",
    "                          multi_gpu=args.multi_gpu, multi_label=True, model_type=args.model_type)"
   ]
  },
  {
   "cell_type": "code",
   "execution_count": 21,
   "metadata": {},
   "outputs": [
    {
     "data": {
      "text/plain": [
       "4"
      ]
     },
     "execution_count": 21,
     "metadata": {},
     "output_type": "execute_result"
    }
   ],
   "source": [
    "num_labels = len(databunch.labels)\n",
    "num_labels"
   ]
  },
  {
   "cell_type": "code",
   "execution_count": 22,
   "metadata": {},
   "outputs": [],
   "source": [
    "metrics = []\n",
    "metrics.append({'name': 'accuracy_thresh', 'function': accuracy_thresh})\n",
    "metrics.append({'name': 'roc_auc', 'function': roc_auc})\n",
    "metrics.append({'name': 'fbeta', 'function': fbeta})"
   ]
  },
  {
   "cell_type": "markdown",
   "metadata": {},
   "source": [
    "## Defining the Learner"
   ]
  },
  {
   "cell_type": "code",
   "execution_count": 23,
   "metadata": {},
   "outputs": [
    {
     "name": "stdout",
     "output_type": "stream",
     "text": [
      "05/02/2020 18:15:16 - INFO - transformers.configuration_utils -   loading configuration file https://s3.amazonaws.com/models.huggingface.co/bert/xlnet-base-cased-config.json from cache at C:\\Users\\BAB72\\.cache\\torch\\transformers\\c9cc6e53904f7f3679a31ec4af244f4419e25ebc8e71ebf8c558a31cbcf07fc8.f23f7137b19a096a6eed89d1ffd00d4530935d72381eb7b9fcf8d5a1f25919ad\n",
      "05/02/2020 18:15:16 - INFO - transformers.configuration_utils -   Model config XLNetConfig {\n",
      "  \"_num_labels\": 4,\n",
      "  \"architectures\": [\n",
      "    \"XLNetLMHeadModel\"\n",
      "  ],\n",
      "  \"attn_type\": \"bi\",\n",
      "  \"bi_data\": false,\n",
      "  \"bos_token_id\": 1,\n",
      "  \"clamp_len\": -1,\n",
      "  \"d_head\": 64,\n",
      "  \"d_inner\": 3072,\n",
      "  \"d_model\": 768,\n",
      "  \"dropout\": 0.1,\n",
      "  \"end_n_top\": 5,\n",
      "  \"eos_token_id\": 2,\n",
      "  \"ff_activation\": \"gelu\",\n",
      "  \"id2label\": {\n",
      "    \"0\": \"LABEL_0\",\n",
      "    \"1\": \"LABEL_1\",\n",
      "    \"2\": \"LABEL_2\",\n",
      "    \"3\": \"LABEL_3\"\n",
      "  },\n",
      "  \"initializer_range\": 0.02,\n",
      "  \"label2id\": {\n",
      "    \"LABEL_0\": 0,\n",
      "    \"LABEL_1\": 1,\n",
      "    \"LABEL_2\": 2,\n",
      "    \"LABEL_3\": 3\n",
      "  },\n",
      "  \"layer_norm_eps\": 1e-12,\n",
      "  \"mem_len\": null,\n",
      "  \"model_type\": \"xlnet\",\n",
      "  \"n_head\": 12,\n",
      "  \"n_layer\": 12,\n",
      "  \"pad_token_id\": 5,\n",
      "  \"reuse_len\": null,\n",
      "  \"same_length\": false,\n",
      "  \"start_n_top\": 5,\n",
      "  \"summary_activation\": \"tanh\",\n",
      "  \"summary_last_dropout\": 0.1,\n",
      "  \"summary_type\": \"last\",\n",
      "  \"summary_use_proj\": true,\n",
      "  \"task_specific_params\": {\n",
      "    \"text_generation\": {\n",
      "      \"max_length\": 210\n",
      "    }\n",
      "  },\n",
      "  \"untie_r\": true,\n",
      "  \"vocab_size\": 32000\n",
      "}\n",
      "\n",
      "05/02/2020 18:15:16 - INFO - transformers.modeling_utils -   loading weights file https://s3.amazonaws.com/models.huggingface.co/bert/xlnet-base-cased-pytorch_model.bin from cache at C:\\Users\\BAB72\\.cache\\torch\\transformers\\24197ba0ce5dbfe23924431610704c88e2c0371afa49149360e4c823219ab474.7eac4fe898a021204e63c88c00ea68c60443c57f94b4bc3c02adbde6465745ac\n",
      "05/02/2020 18:15:18 - INFO - transformers.modeling_utils -   Weights of XLNetForMultiLabelSequenceClassification not initialized from pretrained model: ['sequence_summary.summary.weight', 'sequence_summary.summary.bias', 'logits_proj.weight', 'logits_proj.bias']\n",
      "05/02/2020 18:15:18 - INFO - transformers.modeling_utils -   Weights from pretrained model not used in XLNetForMultiLabelSequenceClassification: ['lm_loss.weight', 'lm_loss.bias']\n"
     ]
    }
   ],
   "source": [
    "learner = BertLearner.from_pretrained_model(databunch, args.model_name, metrics=metrics, \n",
    "                                            device=device, logger=logger, output_dir=args.output_dir, \n",
    "                                            finetuned_wgts_path=FINETUNED_PATH, warmup_steps=args.warmup_steps,\n",
    "                                            multi_gpu=False, is_fp16=args.fp16, \n",
    "                                            multi_label=True, logging_steps=0)"
   ]
  },
  {
   "cell_type": "code",
   "execution_count": 24,
   "metadata": {},
   "outputs": [
    {
     "name": "stdout",
     "output_type": "stream",
     "text": [
      "05/02/2020 18:15:20 - INFO - transformers.configuration_utils -   loading configuration file https://s3.amazonaws.com/models.huggingface.co/bert/xlnet-base-cased-config.json from cache at C:\\Users\\BAB72\\.cache\\torch\\transformers\\c9cc6e53904f7f3679a31ec4af244f4419e25ebc8e71ebf8c558a31cbcf07fc8.f23f7137b19a096a6eed89d1ffd00d4530935d72381eb7b9fcf8d5a1f25919ad\n",
      "05/02/2020 18:15:20 - INFO - transformers.configuration_utils -   Model config XLNetConfig {\n",
      "  \"_num_labels\": 4,\n",
      "  \"architectures\": [\n",
      "    \"XLNetLMHeadModel\"\n",
      "  ],\n",
      "  \"attn_type\": \"bi\",\n",
      "  \"bi_data\": false,\n",
      "  \"bos_token_id\": 1,\n",
      "  \"clamp_len\": -1,\n",
      "  \"d_head\": 64,\n",
      "  \"d_inner\": 3072,\n",
      "  \"d_model\": 768,\n",
      "  \"dropout\": 0.1,\n",
      "  \"end_n_top\": 5,\n",
      "  \"eos_token_id\": 2,\n",
      "  \"ff_activation\": \"gelu\",\n",
      "  \"id2label\": {\n",
      "    \"0\": \"LABEL_0\",\n",
      "    \"1\": \"LABEL_1\",\n",
      "    \"2\": \"LABEL_2\",\n",
      "    \"3\": \"LABEL_3\"\n",
      "  },\n",
      "  \"initializer_range\": 0.02,\n",
      "  \"label2id\": {\n",
      "    \"LABEL_0\": 0,\n",
      "    \"LABEL_1\": 1,\n",
      "    \"LABEL_2\": 2,\n",
      "    \"LABEL_3\": 3\n",
      "  },\n",
      "  \"layer_norm_eps\": 1e-12,\n",
      "  \"mem_len\": null,\n",
      "  \"model_type\": \"xlnet\",\n",
      "  \"n_head\": 12,\n",
      "  \"n_layer\": 12,\n",
      "  \"pad_token_id\": 5,\n",
      "  \"reuse_len\": null,\n",
      "  \"same_length\": false,\n",
      "  \"start_n_top\": 5,\n",
      "  \"summary_activation\": \"tanh\",\n",
      "  \"summary_last_dropout\": 0.1,\n",
      "  \"summary_type\": \"last\",\n",
      "  \"summary_use_proj\": true,\n",
      "  \"task_specific_params\": {\n",
      "    \"text_generation\": {\n",
      "      \"max_length\": 210\n",
      "    }\n",
      "  },\n",
      "  \"untie_r\": true,\n",
      "  \"vocab_size\": 32000\n",
      "}\n",
      "\n",
      "05/02/2020 18:15:20 - INFO - transformers.modeling_utils -   loading weights file https://s3.amazonaws.com/models.huggingface.co/bert/xlnet-base-cased-pytorch_model.bin from cache at C:\\Users\\BAB72\\.cache\\torch\\transformers\\24197ba0ce5dbfe23924431610704c88e2c0371afa49149360e4c823219ab474.7eac4fe898a021204e63c88c00ea68c60443c57f94b4bc3c02adbde6465745ac\n",
      "05/02/2020 18:15:22 - INFO - transformers.modeling_utils -   Weights of XLNetForMultiLabelSequenceClassification not initialized from pretrained model: ['sequence_summary.summary.weight', 'sequence_summary.summary.bias', 'logits_proj.weight', 'logits_proj.bias']\n",
      "05/02/2020 18:15:22 - INFO - transformers.modeling_utils -   Weights from pretrained model not used in XLNetForMultiLabelSequenceClassification: ['lm_loss.weight', 'lm_loss.bias']\n"
     ]
    }
   ],
   "source": [
    "learner_up = BertLearner.from_pretrained_model(databunch_up, args.model_name, metrics=metrics, \n",
    "                                            device=device, logger=logger, output_dir=args.output_dir, \n",
    "                                            finetuned_wgts_path=FINETUNED_PATH, warmup_steps=args.warmup_steps,\n",
    "                                            multi_gpu=False, is_fp16=args.fp16, \n",
    "                                            multi_label=True, logging_steps=0)"
   ]
  },
  {
   "cell_type": "code",
   "execution_count": 25,
   "metadata": {},
   "outputs": [
    {
     "name": "stdout",
     "output_type": "stream",
     "text": [
      "05/02/2020 18:15:22 - INFO - transformers.configuration_utils -   loading configuration file https://s3.amazonaws.com/models.huggingface.co/bert/xlnet-base-cased-config.json from cache at C:\\Users\\BAB72\\.cache\\torch\\transformers\\c9cc6e53904f7f3679a31ec4af244f4419e25ebc8e71ebf8c558a31cbcf07fc8.f23f7137b19a096a6eed89d1ffd00d4530935d72381eb7b9fcf8d5a1f25919ad\n",
      "05/02/2020 18:15:22 - INFO - transformers.configuration_utils -   Model config XLNetConfig {\n",
      "  \"_num_labels\": 4,\n",
      "  \"architectures\": [\n",
      "    \"XLNetLMHeadModel\"\n",
      "  ],\n",
      "  \"attn_type\": \"bi\",\n",
      "  \"bi_data\": false,\n",
      "  \"bos_token_id\": 1,\n",
      "  \"clamp_len\": -1,\n",
      "  \"d_head\": 64,\n",
      "  \"d_inner\": 3072,\n",
      "  \"d_model\": 768,\n",
      "  \"dropout\": 0.1,\n",
      "  \"end_n_top\": 5,\n",
      "  \"eos_token_id\": 2,\n",
      "  \"ff_activation\": \"gelu\",\n",
      "  \"id2label\": {\n",
      "    \"0\": \"LABEL_0\",\n",
      "    \"1\": \"LABEL_1\",\n",
      "    \"2\": \"LABEL_2\",\n",
      "    \"3\": \"LABEL_3\"\n",
      "  },\n",
      "  \"initializer_range\": 0.02,\n",
      "  \"label2id\": {\n",
      "    \"LABEL_0\": 0,\n",
      "    \"LABEL_1\": 1,\n",
      "    \"LABEL_2\": 2,\n",
      "    \"LABEL_3\": 3\n",
      "  },\n",
      "  \"layer_norm_eps\": 1e-12,\n",
      "  \"mem_len\": null,\n",
      "  \"model_type\": \"xlnet\",\n",
      "  \"n_head\": 12,\n",
      "  \"n_layer\": 12,\n",
      "  \"pad_token_id\": 5,\n",
      "  \"reuse_len\": null,\n",
      "  \"same_length\": false,\n",
      "  \"start_n_top\": 5,\n",
      "  \"summary_activation\": \"tanh\",\n",
      "  \"summary_last_dropout\": 0.1,\n",
      "  \"summary_type\": \"last\",\n",
      "  \"summary_use_proj\": true,\n",
      "  \"task_specific_params\": {\n",
      "    \"text_generation\": {\n",
      "      \"max_length\": 210\n",
      "    }\n",
      "  },\n",
      "  \"untie_r\": true,\n",
      "  \"vocab_size\": 32000\n",
      "}\n",
      "\n",
      "05/02/2020 18:15:22 - INFO - transformers.modeling_utils -   loading weights file https://s3.amazonaws.com/models.huggingface.co/bert/xlnet-base-cased-pytorch_model.bin from cache at C:\\Users\\BAB72\\.cache\\torch\\transformers\\24197ba0ce5dbfe23924431610704c88e2c0371afa49149360e4c823219ab474.7eac4fe898a021204e63c88c00ea68c60443c57f94b4bc3c02adbde6465745ac\n",
      "05/02/2020 18:15:24 - INFO - transformers.modeling_utils -   Weights of XLNetForMultiLabelSequenceClassification not initialized from pretrained model: ['sequence_summary.summary.weight', 'sequence_summary.summary.bias', 'logits_proj.weight', 'logits_proj.bias']\n",
      "05/02/2020 18:15:24 - INFO - transformers.modeling_utils -   Weights from pretrained model not used in XLNetForMultiLabelSequenceClassification: ['lm_loss.weight', 'lm_loss.bias']\n"
     ]
    }
   ],
   "source": [
    "learner_down = BertLearner.from_pretrained_model(databunch_down, args.model_name, metrics=metrics, \n",
    "                                            device=device, logger=logger, output_dir=args.output_dir, \n",
    "                                            finetuned_wgts_path=FINETUNED_PATH, warmup_steps=args.warmup_steps,\n",
    "                                            multi_gpu=False, is_fp16=args.fp16, \n",
    "                                            multi_label=True, logging_steps=0)"
   ]
  },
  {
   "cell_type": "markdown",
   "metadata": {},
   "source": [
    "## Fitting the Model"
   ]
  },
  {
   "cell_type": "code",
   "execution_count": 26,
   "metadata": {},
   "outputs": [
    {
     "name": "stdout",
     "output_type": "stream",
     "text": [
      "Selected optimization level O1:  Insert automatic casts around Pytorch functions and Tensor methods.\n",
      "\n",
      "Defaults for this optimization level are:\n",
      "enabled                : True\n",
      "opt_level              : O1\n",
      "cast_model_type        : None\n",
      "patch_torch_functions  : True\n",
      "keep_batchnorm_fp32    : None\n",
      "master_weights         : None\n",
      "loss_scale             : dynamic\n",
      "Processing user overrides (additional kwargs that are not None)...\n",
      "After processing overrides, optimization options are:\n",
      "enabled                : True\n",
      "opt_level              : O1\n",
      "cast_model_type        : None\n",
      "patch_torch_functions  : True\n",
      "keep_batchnorm_fp32    : None\n",
      "master_weights         : None\n",
      "loss_scale             : dynamic\n",
      "Warning:  multi_tensor_applier fused unscale kernel is unavailable, possibly because apex was installed without --cuda_ext --cpp_ext. Using Python fallback.  Original ImportError was: ModuleNotFoundError(\"No module named 'amp_C'\")\n",
      "05/02/2020 18:15:24 - INFO - root -   ***** Running training *****\n",
      "05/02/2020 18:15:24 - INFO - root -     Num examples = 15153\n",
      "05/02/2020 18:15:24 - INFO - root -     Num Epochs = 1\n",
      "05/02/2020 18:15:24 - INFO - root -     Total train batch size (w. parallel, distributed & accumulation) = 4\n",
      "05/02/2020 18:15:24 - INFO - root -     Gradient Accumulation steps = 1\n",
      "05/02/2020 18:15:24 - INFO - root -     Total optimization steps = 3789\n"
     ]
    },
    {
     "data": {
      "text/html": [],
      "text/plain": [
       "<IPython.core.display.HTML object>"
      ]
     },
     "metadata": {},
     "output_type": "display_data"
    },
    {
     "name": "stderr",
     "output_type": "stream",
     "text": [
      "..\\torch\\csrc\\utils\\python_arg_parser.cpp:756: UserWarning: This overload of add_ is deprecated:\n",
      "\tadd_(Number alpha, Tensor other)\n",
      "Consider using one of the following signatures instead:\n",
      "\tadd_(Tensor other, *, Number alpha)\n"
     ]
    },
    {
     "name": "stdout",
     "output_type": "stream",
     "text": [
      "Gradient overflow.  Skipping step, loss scaler 0 reducing loss scale to 32768.0\n",
      "Gradient overflow.  Skipping step, loss scaler 0 reducing loss scale to 16384.0\n",
      "Gradient overflow.  Skipping step, loss scaler 0 reducing loss scale to 8192.0\n",
      "05/02/2020 18:35:08 - INFO - root -   Running evaluation\n",
      "05/02/2020 18:35:08 - INFO - root -     Num examples = 1684\n",
      "05/02/2020 18:35:08 - INFO - root -     Batch size = 8\n"
     ]
    },
    {
     "data": {
      "text/html": [
       "\n",
       "    <div>\n",
       "        <style>\n",
       "            /* Turns off some styling */\n",
       "            progress {\n",
       "                /* gets rid of default border in Firefox and Opera. */\n",
       "                border: none;\n",
       "                /* Needs to be in here for Safari polyfill so background images work as expected. */\n",
       "                background-size: auto;\n",
       "            }\n",
       "            .progress-bar-interrupted, .progress-bar-interrupted::-webkit-progress-bar {\n",
       "                background: #F44336;\n",
       "            }\n",
       "        </style>\n",
       "      <progress value='211' class='' max='211' style='width:300px; height:20px; vertical-align: middle;'></progress>\n",
       "      100.00% [211/211 00:11<00:00]\n",
       "    </div>\n",
       "    "
      ],
      "text/plain": [
       "<IPython.core.display.HTML object>"
      ]
     },
     "metadata": {},
     "output_type": "display_data"
    },
    {
     "name": "stdout",
     "output_type": "stream",
     "text": [
      "05/02/2020 18:35:19 - INFO - root -   eval_loss after epoch 1: 0.5055296598311284: \n",
      "05/02/2020 18:35:19 - INFO - root -   eval_accuracy_thresh after epoch 1: 0.7649940848350525: \n",
      "05/02/2020 18:35:19 - INFO - root -   eval_roc_auc after epoch 1: 0.7163069398916353: \n",
      "05/02/2020 18:35:19 - INFO - root -   eval_fbeta after epoch 1: 0.49899619817733765: \n",
      "05/02/2020 18:35:19 - INFO - root -   lr after epoch 1: 0.0\n",
      "05/02/2020 18:35:19 - INFO - root -   train_loss after epoch 1: 0.5236783985586335\n",
      "05/02/2020 18:35:19 - INFO - root -   \n",
      "\n"
     ]
    },
    {
     "name": "stderr",
     "output_type": "stream",
     "text": [
      "c:\\users\\bab72\\appdata\\local\\programs\\python\\python37\\lib\\site-packages\\torch\\optim\\lr_scheduler.py:231: UserWarning: To get the last learning rate computed by the scheduler, please use `get_last_lr()`.\n",
      "  warnings.warn(\"To get the last learning rate computed by the scheduler, \"\n"
     ]
    },
    {
     "name": "stdout",
     "output_type": "stream",
     "text": [
      "05/02/2020 18:35:19 - INFO - root -   Running evaluation\n",
      "05/02/2020 18:35:19 - INFO - root -     Num examples = 1684\n",
      "05/02/2020 18:35:19 - INFO - root -     Batch size = 8\n"
     ]
    },
    {
     "data": {
      "text/html": [
       "\n",
       "    <div>\n",
       "        <style>\n",
       "            /* Turns off some styling */\n",
       "            progress {\n",
       "                /* gets rid of default border in Firefox and Opera. */\n",
       "                border: none;\n",
       "                /* Needs to be in here for Safari polyfill so background images work as expected. */\n",
       "                background-size: auto;\n",
       "            }\n",
       "            .progress-bar-interrupted, .progress-bar-interrupted::-webkit-progress-bar {\n",
       "                background: #F44336;\n",
       "            }\n",
       "        </style>\n",
       "      <progress value='211' class='' max='211' style='width:300px; height:20px; vertical-align: middle;'></progress>\n",
       "      100.00% [211/211 00:11<00:00]\n",
       "    </div>\n",
       "    "
      ],
      "text/plain": [
       "<IPython.core.display.HTML object>"
      ]
     },
     "metadata": {},
     "output_type": "display_data"
    },
    {
     "name": "stdout",
     "output_type": "stream",
     "text": [
      "05/02/2020 18:35:31 - INFO - transformers.configuration_utils -   Configuration saved in C:\\Users\\BAB72\\OneDrive\\School Documents\\DS_Lab\\Final_Project\\bert_models\\models\\output\\model_out\\config.json\n",
      "05/02/2020 18:35:32 - INFO - transformers.modeling_utils -   Model weights saved in C:\\Users\\BAB72\\OneDrive\\School Documents\\DS_Lab\\Final_Project\\bert_models\\models\\output\\model_out\\pytorch_model.bin\n"
     ]
    }
   ],
   "source": [
    "learner.fit(1, args.learning_rate, validate=True)\n",
    "learner.validate()\n",
    "learner.save_model()"
   ]
  },
  {
   "cell_type": "code",
   "execution_count": 27,
   "metadata": {},
   "outputs": [
    {
     "name": "stdout",
     "output_type": "stream",
     "text": [
      "Selected optimization level O1:  Insert automatic casts around Pytorch functions and Tensor methods.\n",
      "\n",
      "Defaults for this optimization level are:\n",
      "enabled                : True\n",
      "opt_level              : O1\n",
      "cast_model_type        : None\n",
      "patch_torch_functions  : True\n",
      "keep_batchnorm_fp32    : None\n",
      "master_weights         : None\n",
      "loss_scale             : dynamic\n",
      "Processing user overrides (additional kwargs that are not None)...\n",
      "After processing overrides, optimization options are:\n",
      "enabled                : True\n",
      "opt_level              : O1\n",
      "cast_model_type        : None\n",
      "patch_torch_functions  : True\n",
      "keep_batchnorm_fp32    : None\n",
      "master_weights         : None\n",
      "loss_scale             : dynamic\n",
      "05/02/2020 18:35:32 - INFO - root -   ***** Running training *****\n",
      "05/02/2020 18:35:32 - INFO - root -     Num examples = 18036\n",
      "05/02/2020 18:35:32 - INFO - root -     Num Epochs = 1\n",
      "05/02/2020 18:35:32 - INFO - root -     Total train batch size (w. parallel, distributed & accumulation) = 4\n",
      "05/02/2020 18:35:32 - INFO - root -     Gradient Accumulation steps = 1\n",
      "05/02/2020 18:35:32 - INFO - root -     Total optimization steps = 4509\n"
     ]
    },
    {
     "data": {
      "text/html": [],
      "text/plain": [
       "<IPython.core.display.HTML object>"
      ]
     },
     "metadata": {},
     "output_type": "display_data"
    },
    {
     "name": "stdout",
     "output_type": "stream",
     "text": [
      "Gradient overflow.  Skipping step, loss scaler 0 reducing loss scale to 32768.0\n",
      "Gradient overflow.  Skipping step, loss scaler 0 reducing loss scale to 16384.0\n",
      "Gradient overflow.  Skipping step, loss scaler 0 reducing loss scale to 8192.0\n",
      "05/02/2020 19:00:09 - INFO - root -   Running evaluation\n",
      "05/02/2020 19:00:09 - INFO - root -     Num examples = 2004\n",
      "05/02/2020 19:00:09 - INFO - root -     Batch size = 8\n"
     ]
    },
    {
     "data": {
      "text/html": [
       "\n",
       "    <div>\n",
       "        <style>\n",
       "            /* Turns off some styling */\n",
       "            progress {\n",
       "                /* gets rid of default border in Firefox and Opera. */\n",
       "                border: none;\n",
       "                /* Needs to be in here for Safari polyfill so background images work as expected. */\n",
       "                background-size: auto;\n",
       "            }\n",
       "            .progress-bar-interrupted, .progress-bar-interrupted::-webkit-progress-bar {\n",
       "                background: #F44336;\n",
       "            }\n",
       "        </style>\n",
       "      <progress value='251' class='' max='251' style='width:300px; height:20px; vertical-align: middle;'></progress>\n",
       "      100.00% [251/251 00:14<00:00]\n",
       "    </div>\n",
       "    "
      ],
      "text/plain": [
       "<IPython.core.display.HTML object>"
      ]
     },
     "metadata": {},
     "output_type": "display_data"
    },
    {
     "name": "stdout",
     "output_type": "stream",
     "text": [
      "05/02/2020 19:00:23 - INFO - root -   eval_loss after epoch 1: 0.4955804996281506: \n",
      "05/02/2020 19:00:23 - INFO - root -   eval_accuracy_thresh after epoch 1: 0.771332323551178: \n",
      "05/02/2020 19:00:23 - INFO - root -   eval_roc_auc after epoch 1: 0.7180339503959479: \n",
      "05/02/2020 19:00:23 - INFO - root -   eval_fbeta after epoch 1: 0.44192567467689514: \n",
      "05/02/2020 19:00:23 - INFO - root -   lr after epoch 1: 0.0\n",
      "05/02/2020 19:00:23 - INFO - root -   train_loss after epoch 1: 0.5299701907499108\n",
      "05/02/2020 19:00:23 - INFO - root -   \n",
      "\n",
      "05/02/2020 19:00:23 - INFO - root -   Running evaluation\n",
      "05/02/2020 19:00:23 - INFO - root -     Num examples = 2004\n",
      "05/02/2020 19:00:23 - INFO - root -     Batch size = 8\n"
     ]
    },
    {
     "data": {
      "text/html": [
       "\n",
       "    <div>\n",
       "        <style>\n",
       "            /* Turns off some styling */\n",
       "            progress {\n",
       "                /* gets rid of default border in Firefox and Opera. */\n",
       "                border: none;\n",
       "                /* Needs to be in here for Safari polyfill so background images work as expected. */\n",
       "                background-size: auto;\n",
       "            }\n",
       "            .progress-bar-interrupted, .progress-bar-interrupted::-webkit-progress-bar {\n",
       "                background: #F44336;\n",
       "            }\n",
       "        </style>\n",
       "      <progress value='251' class='' max='251' style='width:300px; height:20px; vertical-align: middle;'></progress>\n",
       "      100.00% [251/251 00:14<00:00]\n",
       "    </div>\n",
       "    "
      ],
      "text/plain": [
       "<IPython.core.display.HTML object>"
      ]
     },
     "metadata": {},
     "output_type": "display_data"
    },
    {
     "name": "stdout",
     "output_type": "stream",
     "text": [
      "05/02/2020 19:00:37 - INFO - transformers.configuration_utils -   Configuration saved in C:\\Users\\BAB72\\OneDrive\\School Documents\\DS_Lab\\Final_Project\\bert_models\\models\\output\\model_out\\config.json\n",
      "05/02/2020 19:00:38 - INFO - transformers.modeling_utils -   Model weights saved in C:\\Users\\BAB72\\OneDrive\\School Documents\\DS_Lab\\Final_Project\\bert_models\\models\\output\\model_out\\pytorch_model.bin\n"
     ]
    }
   ],
   "source": [
    "learner_up.fit(1, args.learning_rate, validate=True)\n",
    "learner_up.validate()\n",
    "learner_up.save_model()"
   ]
  },
  {
   "cell_type": "code",
   "execution_count": 28,
   "metadata": {},
   "outputs": [
    {
     "name": "stdout",
     "output_type": "stream",
     "text": [
      "Selected optimization level O1:  Insert automatic casts around Pytorch functions and Tensor methods.\n",
      "\n",
      "Defaults for this optimization level are:\n",
      "enabled                : True\n",
      "opt_level              : O1\n",
      "cast_model_type        : None\n",
      "patch_torch_functions  : True\n",
      "keep_batchnorm_fp32    : None\n",
      "master_weights         : None\n",
      "loss_scale             : dynamic\n",
      "Processing user overrides (additional kwargs that are not None)...\n",
      "After processing overrides, optimization options are:\n",
      "enabled                : True\n",
      "opt_level              : O1\n",
      "cast_model_type        : None\n",
      "patch_torch_functions  : True\n",
      "keep_batchnorm_fp32    : None\n",
      "master_weights         : None\n",
      "loss_scale             : dynamic\n",
      "05/02/2020 19:00:38 - INFO - root -   ***** Running training *****\n",
      "05/02/2020 19:00:38 - INFO - root -     Num examples = 8694\n",
      "05/02/2020 19:00:38 - INFO - root -     Num Epochs = 1\n",
      "05/02/2020 19:00:38 - INFO - root -     Total train batch size (w. parallel, distributed & accumulation) = 4\n",
      "05/02/2020 19:00:38 - INFO - root -     Gradient Accumulation steps = 1\n",
      "05/02/2020 19:00:38 - INFO - root -     Total optimization steps = 2174\n"
     ]
    },
    {
     "data": {
      "text/html": [],
      "text/plain": [
       "<IPython.core.display.HTML object>"
      ]
     },
     "metadata": {},
     "output_type": "display_data"
    },
    {
     "name": "stdout",
     "output_type": "stream",
     "text": [
      "Gradient overflow.  Skipping step, loss scaler 0 reducing loss scale to 32768.0\n"
     ]
    },
    {
     "name": "stderr",
     "output_type": "stream",
     "text": [
      "c:\\users\\bab72\\appdata\\local\\programs\\python\\python37\\lib\\site-packages\\torch\\optim\\lr_scheduler.py:123: UserWarning: Detected call of `lr_scheduler.step()` before `optimizer.step()`. In PyTorch 1.1.0 and later, you should call them in the opposite order: `optimizer.step()` before `lr_scheduler.step()`.  Failure to do this will result in PyTorch skipping the first value of the learning rate schedule. See more details at https://pytorch.org/docs/stable/optim.html#how-to-adjust-learning-rate\n",
      "  \"https://pytorch.org/docs/stable/optim.html#how-to-adjust-learning-rate\", UserWarning)\n"
     ]
    },
    {
     "name": "stdout",
     "output_type": "stream",
     "text": [
      "Gradient overflow.  Skipping step, loss scaler 0 reducing loss scale to 16384.0\n",
      "Gradient overflow.  Skipping step, loss scaler 0 reducing loss scale to 8192.0\n",
      "Gradient overflow.  Skipping step, loss scaler 0 reducing loss scale to 4096.0\n",
      "05/02/2020 19:12:51 - INFO - root -   Running evaluation\n",
      "05/02/2020 19:12:51 - INFO - root -     Num examples = 966\n",
      "05/02/2020 19:12:51 - INFO - root -     Batch size = 8\n"
     ]
    },
    {
     "data": {
      "text/html": [
       "\n",
       "    <div>\n",
       "        <style>\n",
       "            /* Turns off some styling */\n",
       "            progress {\n",
       "                /* gets rid of default border in Firefox and Opera. */\n",
       "                border: none;\n",
       "                /* Needs to be in here for Safari polyfill so background images work as expected. */\n",
       "                background-size: auto;\n",
       "            }\n",
       "            .progress-bar-interrupted, .progress-bar-interrupted::-webkit-progress-bar {\n",
       "                background: #F44336;\n",
       "            }\n",
       "        </style>\n",
       "      <progress value='121' class='' max='121' style='width:300px; height:20px; vertical-align: middle;'></progress>\n",
       "      100.00% [121/121 00:06<00:00]\n",
       "    </div>\n",
       "    "
      ],
      "text/plain": [
       "<IPython.core.display.HTML object>"
      ]
     },
     "metadata": {},
     "output_type": "display_data"
    },
    {
     "name": "stdout",
     "output_type": "stream",
     "text": [
      "05/02/2020 19:12:58 - INFO - root -   eval_loss after epoch 1: 0.5258785730058496: \n",
      "05/02/2020 19:12:58 - INFO - root -   eval_accuracy_thresh after epoch 1: 0.7616459727287292: \n",
      "05/02/2020 19:12:58 - INFO - root -   eval_roc_auc after epoch 1: 0.6715968891232191: \n",
      "05/02/2020 19:12:58 - INFO - root -   eval_fbeta after epoch 1: 0.3975648581981659: \n",
      "05/02/2020 19:12:58 - INFO - root -   lr after epoch 1: 0.0\n",
      "05/02/2020 19:12:58 - INFO - root -   train_loss after epoch 1: 0.5578288889413814\n",
      "05/02/2020 19:12:58 - INFO - root -   \n",
      "\n",
      "05/02/2020 19:12:58 - INFO - root -   Running evaluation\n",
      "05/02/2020 19:12:58 - INFO - root -     Num examples = 966\n",
      "05/02/2020 19:12:58 - INFO - root -     Batch size = 8\n"
     ]
    },
    {
     "data": {
      "text/html": [
       "\n",
       "    <div>\n",
       "        <style>\n",
       "            /* Turns off some styling */\n",
       "            progress {\n",
       "                /* gets rid of default border in Firefox and Opera. */\n",
       "                border: none;\n",
       "                /* Needs to be in here for Safari polyfill so background images work as expected. */\n",
       "                background-size: auto;\n",
       "            }\n",
       "            .progress-bar-interrupted, .progress-bar-interrupted::-webkit-progress-bar {\n",
       "                background: #F44336;\n",
       "            }\n",
       "        </style>\n",
       "      <progress value='121' class='' max='121' style='width:300px; height:20px; vertical-align: middle;'></progress>\n",
       "      100.00% [121/121 00:06<00:00]\n",
       "    </div>\n",
       "    "
      ],
      "text/plain": [
       "<IPython.core.display.HTML object>"
      ]
     },
     "metadata": {},
     "output_type": "display_data"
    },
    {
     "name": "stdout",
     "output_type": "stream",
     "text": [
      "05/02/2020 19:13:05 - INFO - transformers.configuration_utils -   Configuration saved in C:\\Users\\BAB72\\OneDrive\\School Documents\\DS_Lab\\Final_Project\\bert_models\\models\\output\\model_out\\config.json\n",
      "05/02/2020 19:13:05 - INFO - transformers.modeling_utils -   Model weights saved in C:\\Users\\BAB72\\OneDrive\\School Documents\\DS_Lab\\Final_Project\\bert_models\\models\\output\\model_out\\pytorch_model.bin\n"
     ]
    }
   ],
   "source": [
    "learner_down.fit(1, args.learning_rate, validate=True)\n",
    "learner_down.validate()\n",
    "learner_down.save_model()"
   ]
  },
  {
   "cell_type": "markdown",
   "metadata": {},
   "source": [
    "## Predicting the Test Set"
   ]
  },
  {
   "cell_type": "code",
   "execution_count": 29,
   "metadata": {},
   "outputs": [
    {
     "name": "stdout",
     "output_type": "stream",
     "text": [
      "05/02/2020 19:13:05 - INFO - root -   Writing example 0 of 4263\n",
      "05/02/2020 19:13:49 - INFO - root -   Writing example 0 of 4263\n",
      "05/02/2020 19:14:32 - INFO - root -   Writing example 0 of 4263\n"
     ]
    }
   ],
   "source": [
    "predictions = learner.predict_batch(list(pd.read_csv(str(DATA_PATH) + '/test.csv')['text'].values))\n",
    "predictions_up = learner_up.predict_batch(list(pd.read_csv(str(DATA_PATH) + '/test.csv')['text'].values))\n",
    "predictions_down = learner_down.predict_batch(list(pd.read_csv(str(DATA_PATH) + '/test.csv')['text'].values))"
   ]
  },
  {
   "cell_type": "markdown",
   "metadata": {},
   "source": [
    "#### Arg maxing for prediction label\n",
    "predictions sort based on which category gave the highest prediction"
   ]
  },
  {
   "cell_type": "code",
   "execution_count": 30,
   "metadata": {},
   "outputs": [],
   "source": [
    "label_pred = []\n",
    "label_pred_up = []\n",
    "label_pred_down = []\n",
    "for pred in predictions:\n",
    "    if pred[0][0] == 'age_group_0':\n",
    "        label_pred.append(0)\n",
    "    elif pred[0][0] == 'age_group_1':\n",
    "        label_pred.append(1)\n",
    "    elif pred[0][0] == 'age_group_2':\n",
    "        label_pred.append(2)\n",
    "    elif pred[0][0] == 'age_group_3':\n",
    "        label_pred.append(3)\n",
    "        \n",
    "for pred in predictions_up:\n",
    "    if pred[0][0] == 'age_group_0':\n",
    "        label_pred_up.append(0)\n",
    "    elif pred[0][0] == 'age_group_1':\n",
    "        label_pred_up.append(1)\n",
    "    elif pred[0][0] == 'age_group_2':\n",
    "        label_pred_up.append(2)\n",
    "    elif pred[0][0] == 'age_group_3':\n",
    "        label_pred_up.append(3)\n",
    "        \n",
    "for pred in predictions_down:\n",
    "    if pred[0][0] == 'age_group_0':\n",
    "        label_pred_down.append(0)\n",
    "    elif pred[0][0] == 'age_group_1':\n",
    "        label_pred_down.append(1)\n",
    "    elif pred[0][0] == 'age_group_2':\n",
    "        label_pred_down.append(2)\n",
    "    elif pred[0][0] == 'age_group_3':\n",
    "        label_pred_down.append(3)"
   ]
  },
  {
   "cell_type": "code",
   "execution_count": 31,
   "metadata": {},
   "outputs": [
    {
     "data": {
      "image/png": "[encoded data removed]",
      "text/plain": [
       "<Figure size 432x288 with 2 Axes>"
      ]
     },
     "metadata": {
      "needs_background": "light"
     },
     "output_type": "display_data"
    }
   ],
   "source": [
    "from sklearn.metrics import confusion_matrix\n",
    "import seaborn as sn\n",
    "import matplotlib.pyplot as plt\n",
    "\n",
    "cm = confusion_matrix(test_data['age_group'], label_pred, normalize='true')\n",
    "df_cm = pd.DataFrame(cm, range(4), range(4))\n",
    "sn.heatmap(df_cm, annot=True)\n",
    "plt.ylabel('True')\n",
    "plt.xlabel('Predicted')\n",
    "plt.show()"
   ]
  },
  {
   "cell_type": "code",
   "execution_count": 32,
   "metadata": {},
   "outputs": [
    {
     "data": {
      "text/plain": [
       "0.42059582453671124"
      ]
     },
     "execution_count": 32,
     "metadata": {},
     "output_type": "execute_result"
    }
   ],
   "source": [
    "from sklearn.metrics import accuracy_score\n",
    "\n",
    "accuracy_score(test_data['age_group'], label_pred, normalize='true')"
   ]
  },
  {
   "cell_type": "code",
   "execution_count": 33,
   "metadata": {},
   "outputs": [
    {
     "data": {
      "image/png": "[encoded data removed]",
      "text/plain": [
       "<Figure size 432x288 with 2 Axes>"
      ]
     },
     "metadata": {
      "needs_background": "light"
     },
     "output_type": "display_data"
    }
   ],
   "source": [
    "cm = confusion_matrix(test_data['age_group'], label_pred_up, normalize='true')\n",
    "df_cm = pd.DataFrame(cm, range(4), range(4))\n",
    "sn.heatmap(df_cm, annot=True)\n",
    "plt.ylabel('True')\n",
    "plt.xlabel('Predicted')\n",
    "plt.show()"
   ]
  },
  {
   "cell_type": "code",
   "execution_count": 34,
   "metadata": {},
   "outputs": [
    {
     "data": {
      "text/plain": [
       "0.3793103448275862"
      ]
     },
     "execution_count": 34,
     "metadata": {},
     "output_type": "execute_result"
    }
   ],
   "source": [
    "accuracy_score(test_data['age_group'], label_pred_up, normalize='true')"
   ]
  },
  {
   "cell_type": "code",
   "execution_count": 35,
   "metadata": {},
   "outputs": [
    {
     "data": {
      "image/png": "[encoded data removed]",
      "text/plain": [
       "<Figure size 432x288 with 2 Axes>"
      ]
     },
     "metadata": {
      "needs_background": "light"
     },
     "output_type": "display_data"
    }
   ],
   "source": [
    "cm = confusion_matrix(test_data['age_group'], label_pred_down, normalize='true')\n",
    "df_cm = pd.DataFrame(cm, range(4), range(4))\n",
    "sn.heatmap(df_cm, annot=True)\n",
    "plt.ylabel('True')\n",
    "plt.xlabel('Predicted')\n",
    "plt.show()"
   ]
  },
  {
   "cell_type": "code",
   "execution_count": 36,
   "metadata": {},
   "outputs": [
    {
     "data": {
      "text/plain": [
       "0.34107436077879427"
      ]
     },
     "execution_count": 36,
     "metadata": {},
     "output_type": "execute_result"
    }
   ],
   "source": [
    "accuracy_score(test_data['age_group'], label_pred_down, normalize='true')"
   ]
  },
  {
   "cell_type": "markdown",
   "metadata": {},
   "source": [
    "## Metadata Model"
   ]
  },
  {
   "cell_type": "code",
   "execution_count": 37,
   "metadata": {},
   "outputs": [],
   "source": [
    "import xgboost as xgb"
   ]
  },
  {
   "cell_type": "code",
   "execution_count": 38,
   "metadata": {},
   "outputs": [],
   "source": [
    "train_data_meta = train_data.drop(['Unnamed: 0', 'handle', 'tweets_text', 'hashtags'], axis=1)\n",
    "val_data_meta = val_data.drop(['Unnamed: 0', 'handle', 'tweets_text', 'hashtags'], axis=1)\n",
    "\n",
    "train_data_meta_up = train_data_up.drop(['Unnamed: 0', 'handle', 'tweets_text', 'hashtags'], axis=1)\n",
    "val_data_meta_up = val_data_up.drop(['Unnamed: 0', 'handle', 'tweets_text', 'hashtags'], axis=1)\n",
    "\n",
    "train_data_meta_down = train_data_down.drop(['Unnamed: 0', 'handle', 'tweets_text', 'hashtags'], axis=1)\n",
    "val_data_meta_down = val_data_down.drop(['Unnamed: 0', 'handle', 'tweets_text', 'hashtags'], axis=1)"
   ]
  },
  {
   "cell_type": "code",
   "execution_count": 39,
   "metadata": {},
   "outputs": [
    {
     "name": "stdout",
     "output_type": "stream",
     "text": [
      "[0]\tvalidation_0-merror:0.36758\n",
      "Will train until validation_0-merror hasn't improved in 3 rounds.\n",
      "[1]\tvalidation_0-merror:0.30760\n",
      "[2]\tvalidation_0-merror:0.28504\n",
      "[3]\tvalidation_0-merror:0.26188\n",
      "[4]\tvalidation_0-merror:0.24525\n",
      "[5]\tvalidation_0-merror:0.21971\n",
      "[6]\tvalidation_0-merror:0.20012\n",
      "[7]\tvalidation_0-merror:0.18587\n",
      "[8]\tvalidation_0-merror:0.18290\n",
      "[9]\tvalidation_0-merror:0.16983\n",
      "[10]\tvalidation_0-merror:0.15974\n",
      "[11]\tvalidation_0-merror:0.14964\n",
      "[12]\tvalidation_0-merror:0.14252\n",
      "[13]\tvalidation_0-merror:0.13717\n",
      "[14]\tvalidation_0-merror:0.13183\n",
      "[15]\tvalidation_0-merror:0.12055\n",
      "[16]\tvalidation_0-merror:0.11520\n",
      "[17]\tvalidation_0-merror:0.10451\n",
      "[18]\tvalidation_0-merror:0.09917\n",
      "[19]\tvalidation_0-merror:0.08729\n",
      "[20]\tvalidation_0-merror:0.08017\n",
      "[21]\tvalidation_0-merror:0.08017\n",
      "[22]\tvalidation_0-merror:0.07838\n",
      "[23]\tvalidation_0-merror:0.07720\n",
      "[24]\tvalidation_0-merror:0.06354\n",
      "[25]\tvalidation_0-merror:0.06473\n",
      "[26]\tvalidation_0-merror:0.05760\n",
      "[27]\tvalidation_0-merror:0.05582\n",
      "[28]\tvalidation_0-merror:0.04929\n",
      "[29]\tvalidation_0-merror:0.04454\n",
      "[30]\tvalidation_0-merror:0.04276\n",
      "[31]\tvalidation_0-merror:0.04038\n",
      "[32]\tvalidation_0-merror:0.03504\n",
      "[33]\tvalidation_0-merror:0.03088\n",
      "[34]\tvalidation_0-merror:0.02672\n",
      "[35]\tvalidation_0-merror:0.02672\n",
      "[36]\tvalidation_0-merror:0.02435\n",
      "[37]\tvalidation_0-merror:0.02316\n",
      "[38]\tvalidation_0-merror:0.02257\n",
      "[39]\tvalidation_0-merror:0.02257\n",
      "[40]\tvalidation_0-merror:0.02257\n",
      "[41]\tvalidation_0-merror:0.02138\n",
      "[42]\tvalidation_0-merror:0.01960\n",
      "[43]\tvalidation_0-merror:0.01782\n",
      "[44]\tvalidation_0-merror:0.01782\n",
      "[45]\tvalidation_0-merror:0.01603\n",
      "[46]\tvalidation_0-merror:0.01485\n",
      "[47]\tvalidation_0-merror:0.01485\n",
      "[48]\tvalidation_0-merror:0.01306\n",
      "[49]\tvalidation_0-merror:0.01188\n",
      "[50]\tvalidation_0-merror:0.01128\n",
      "[51]\tvalidation_0-merror:0.00831\n",
      "[52]\tvalidation_0-merror:0.01009\n",
      "[53]\tvalidation_0-merror:0.00831\n",
      "[54]\tvalidation_0-merror:0.00772\n",
      "[55]\tvalidation_0-merror:0.00594\n",
      "[56]\tvalidation_0-merror:0.00594\n",
      "[57]\tvalidation_0-merror:0.00594\n",
      "[58]\tvalidation_0-merror:0.00237\n",
      "[59]\tvalidation_0-merror:0.00119\n",
      "[60]\tvalidation_0-merror:0.00119\n",
      "[61]\tvalidation_0-merror:0.00119\n",
      "[62]\tvalidation_0-merror:0.00119\n",
      "Stopping. Best iteration:\n",
      "[59]\tvalidation_0-merror:0.00119\n",
      "\n"
     ]
    },
    {
     "data": {
      "text/plain": [
       "XGBClassifier(base_score=0.5, booster=None, colsample_bylevel=1,\n",
       "              colsample_bynode=1, colsample_bytree=1, gamma=0, gpu_id=-1,\n",
       "              importance_type='gain', interaction_constraints=None,\n",
       "              learning_rate=0.300000012, max_delta_step=0, max_depth=6,\n",
       "              min_child_weight=1, missing=nan, monotone_constraints=None,\n",
       "              n_estimators=100, n_jobs=0, num_parallel_tree=1,\n",
       "              objective='multi:softprob', random_state=42, reg_alpha=0,\n",
       "              reg_lambda=1, scale_pos_weight=None, subsample=1,\n",
       "              tree_method=None, validate_parameters=False, verbosity=None)"
      ]
     },
     "execution_count": 39,
     "metadata": {},
     "output_type": "execute_result"
    }
   ],
   "source": [
    "meta_model = xgb.XGBClassifier(objective='multi:softmax', random_state=42)\n",
    "meta_model.fit(train_data_meta.drop('age_group', axis=1), train_data_meta['age_group'], eval_set=[(val_data_meta.drop('age_group', axis=1), val_data_meta['age_group'])], early_stopping_rounds=3)"
   ]
  },
  {
   "cell_type": "code",
   "execution_count": 40,
   "metadata": {},
   "outputs": [
    {
     "name": "stdout",
     "output_type": "stream",
     "text": [
      "[0]\tvalidation_0-merror:0.35180\n",
      "Will train until validation_0-merror hasn't improved in 3 rounds.\n",
      "[1]\tvalidation_0-merror:0.30339\n",
      "[2]\tvalidation_0-merror:0.25150\n",
      "[3]\tvalidation_0-merror:0.22705\n",
      "[4]\tvalidation_0-merror:0.21108\n",
      "[5]\tvalidation_0-merror:0.19611\n",
      "[6]\tvalidation_0-merror:0.17266\n",
      "[7]\tvalidation_0-merror:0.16866\n",
      "[8]\tvalidation_0-merror:0.15469\n",
      "[9]\tvalidation_0-merror:0.14072\n",
      "[10]\tvalidation_0-merror:0.13423\n",
      "[11]\tvalidation_0-merror:0.12874\n",
      "[12]\tvalidation_0-merror:0.11726\n",
      "[13]\tvalidation_0-merror:0.11028\n",
      "[14]\tvalidation_0-merror:0.10180\n",
      "[15]\tvalidation_0-merror:0.09531\n",
      "[16]\tvalidation_0-merror:0.09331\n",
      "[17]\tvalidation_0-merror:0.08184\n",
      "[18]\tvalidation_0-merror:0.07535\n",
      "[19]\tvalidation_0-merror:0.07036\n",
      "[20]\tvalidation_0-merror:0.06886\n",
      "[21]\tvalidation_0-merror:0.05888\n",
      "[22]\tvalidation_0-merror:0.05888\n",
      "[23]\tvalidation_0-merror:0.05539\n",
      "[24]\tvalidation_0-merror:0.05239\n",
      "[25]\tvalidation_0-merror:0.04940\n",
      "[26]\tvalidation_0-merror:0.04790\n",
      "[27]\tvalidation_0-merror:0.04042\n",
      "[28]\tvalidation_0-merror:0.03792\n",
      "[29]\tvalidation_0-merror:0.03742\n",
      "[30]\tvalidation_0-merror:0.03593\n",
      "[31]\tvalidation_0-merror:0.03742\n",
      "[32]\tvalidation_0-merror:0.03144\n",
      "[33]\tvalidation_0-merror:0.02894\n",
      "[34]\tvalidation_0-merror:0.02844\n",
      "[35]\tvalidation_0-merror:0.02345\n",
      "[36]\tvalidation_0-merror:0.02295\n",
      "[37]\tvalidation_0-merror:0.02245\n",
      "[38]\tvalidation_0-merror:0.02096\n",
      "[39]\tvalidation_0-merror:0.01996\n",
      "[40]\tvalidation_0-merror:0.01896\n",
      "[41]\tvalidation_0-merror:0.01796\n",
      "[42]\tvalidation_0-merror:0.01647\n",
      "[43]\tvalidation_0-merror:0.01597\n",
      "[44]\tvalidation_0-merror:0.01597\n",
      "[45]\tvalidation_0-merror:0.01397\n",
      "[46]\tvalidation_0-merror:0.01447\n",
      "[47]\tvalidation_0-merror:0.01397\n",
      "[48]\tvalidation_0-merror:0.01198\n",
      "[49]\tvalidation_0-merror:0.01098\n",
      "[50]\tvalidation_0-merror:0.01148\n",
      "[51]\tvalidation_0-merror:0.01048\n",
      "[52]\tvalidation_0-merror:0.00998\n",
      "[53]\tvalidation_0-merror:0.00898\n",
      "[54]\tvalidation_0-merror:0.00898\n",
      "[55]\tvalidation_0-merror:0.00848\n",
      "[56]\tvalidation_0-merror:0.00848\n",
      "[57]\tvalidation_0-merror:0.00399\n",
      "[58]\tvalidation_0-merror:0.00349\n",
      "[59]\tvalidation_0-merror:0.00299\n",
      "[60]\tvalidation_0-merror:0.00299\n",
      "[61]\tvalidation_0-merror:0.00399\n",
      "[62]\tvalidation_0-merror:0.00349\n",
      "Stopping. Best iteration:\n",
      "[59]\tvalidation_0-merror:0.00299\n",
      "\n"
     ]
    },
    {
     "data": {
      "text/plain": [
       "XGBClassifier(base_score=0.5, booster=None, colsample_bylevel=1,\n",
       "              colsample_bynode=1, colsample_bytree=1, gamma=0, gpu_id=-1,\n",
       "              importance_type='gain', interaction_constraints=None,\n",
       "              learning_rate=0.300000012, max_delta_step=0, max_depth=6,\n",
       "              min_child_weight=1, missing=nan, monotone_constraints=None,\n",
       "              n_estimators=100, n_jobs=0, num_parallel_tree=1,\n",
       "              objective='multi:softprob', random_state=42, reg_alpha=0,\n",
       "              reg_lambda=1, scale_pos_weight=None, subsample=1,\n",
       "              tree_method=None, validate_parameters=False, verbosity=None)"
      ]
     },
     "execution_count": 40,
     "metadata": {},
     "output_type": "execute_result"
    }
   ],
   "source": [
    "meta_model_up = xgb.XGBClassifier(objective='multi:softmax', random_state=42)\n",
    "meta_model_up.fit(train_data_meta_up.drop('age_group', axis=1), train_data_meta_up['age_group'], eval_set=[(val_data_meta_up.drop('age_group', axis=1), val_data_meta_up['age_group'])], early_stopping_rounds=3)"
   ]
  },
  {
   "cell_type": "code",
   "execution_count": 41,
   "metadata": {},
   "outputs": [
    {
     "name": "stdout",
     "output_type": "stream",
     "text": [
      "[0]\tvalidation_0-merror:0.36646\n",
      "Will train until validation_0-merror hasn't improved in 10 rounds.\n",
      "[1]\tvalidation_0-merror:0.35093\n",
      "[2]\tvalidation_0-merror:0.32609\n",
      "[3]\tvalidation_0-merror:0.27743\n",
      "[4]\tvalidation_0-merror:0.25259\n",
      "[5]\tvalidation_0-merror:0.22567\n",
      "[6]\tvalidation_0-merror:0.20497\n",
      "[7]\tvalidation_0-merror:0.18427\n",
      "[8]\tvalidation_0-merror:0.18219\n",
      "[9]\tvalidation_0-merror:0.17702\n",
      "[10]\tvalidation_0-merror:0.16874\n",
      "[11]\tvalidation_0-merror:0.15114\n",
      "[12]\tvalidation_0-merror:0.13975\n",
      "[13]\tvalidation_0-merror:0.12836\n",
      "[14]\tvalidation_0-merror:0.12215\n",
      "[15]\tvalidation_0-merror:0.11387\n",
      "[16]\tvalidation_0-merror:0.09834\n",
      "[17]\tvalidation_0-merror:0.09731\n",
      "[18]\tvalidation_0-merror:0.09110\n",
      "[19]\tvalidation_0-merror:0.08799\n",
      "[20]\tvalidation_0-merror:0.08489\n",
      "[21]\tvalidation_0-merror:0.08282\n",
      "[22]\tvalidation_0-merror:0.08282\n",
      "[23]\tvalidation_0-merror:0.07971\n",
      "[24]\tvalidation_0-merror:0.07764\n",
      "[25]\tvalidation_0-merror:0.07143\n",
      "[26]\tvalidation_0-merror:0.06522\n",
      "[27]\tvalidation_0-merror:0.05694\n",
      "[28]\tvalidation_0-merror:0.05383\n",
      "[29]\tvalidation_0-merror:0.05280\n",
      "[30]\tvalidation_0-merror:0.05072\n",
      "[31]\tvalidation_0-merror:0.05072\n",
      "[32]\tvalidation_0-merror:0.05072\n",
      "[33]\tvalidation_0-merror:0.04762\n",
      "[34]\tvalidation_0-merror:0.04658\n",
      "[35]\tvalidation_0-merror:0.04555\n",
      "[36]\tvalidation_0-merror:0.04451\n",
      "[37]\tvalidation_0-merror:0.04244\n",
      "[38]\tvalidation_0-merror:0.04141\n",
      "[39]\tvalidation_0-merror:0.03934\n",
      "[40]\tvalidation_0-merror:0.03727\n",
      "[41]\tvalidation_0-merror:0.03313\n",
      "[42]\tvalidation_0-merror:0.03002\n",
      "[43]\tvalidation_0-merror:0.02588\n",
      "[44]\tvalidation_0-merror:0.02174\n",
      "[45]\tvalidation_0-merror:0.02070\n",
      "[46]\tvalidation_0-merror:0.01863\n",
      "[47]\tvalidation_0-merror:0.01863\n",
      "[48]\tvalidation_0-merror:0.01863\n",
      "[49]\tvalidation_0-merror:0.01863\n",
      "[50]\tvalidation_0-merror:0.01656\n",
      "[51]\tvalidation_0-merror:0.01553\n",
      "[52]\tvalidation_0-merror:0.01553\n",
      "[53]\tvalidation_0-merror:0.01656\n",
      "[54]\tvalidation_0-merror:0.01656\n",
      "[55]\tvalidation_0-merror:0.01553\n",
      "[56]\tvalidation_0-merror:0.01553\n",
      "[57]\tvalidation_0-merror:0.01449\n",
      "[58]\tvalidation_0-merror:0.01449\n",
      "[59]\tvalidation_0-merror:0.01242\n",
      "[60]\tvalidation_0-merror:0.01346\n",
      "[61]\tvalidation_0-merror:0.01346\n",
      "[62]\tvalidation_0-merror:0.01346\n",
      "[63]\tvalidation_0-merror:0.01346\n",
      "[64]\tvalidation_0-merror:0.01242\n",
      "[65]\tvalidation_0-merror:0.01139\n",
      "[66]\tvalidation_0-merror:0.01139\n",
      "[67]\tvalidation_0-merror:0.01035\n",
      "[68]\tvalidation_0-merror:0.01035\n",
      "[69]\tvalidation_0-merror:0.01035\n",
      "[70]\tvalidation_0-merror:0.01035\n",
      "[71]\tvalidation_0-merror:0.00932\n",
      "[72]\tvalidation_0-merror:0.00932\n",
      "[73]\tvalidation_0-merror:0.00932\n",
      "[74]\tvalidation_0-merror:0.00932\n",
      "[75]\tvalidation_0-merror:0.00932\n",
      "[76]\tvalidation_0-merror:0.00932\n",
      "[77]\tvalidation_0-merror:0.00828\n",
      "[78]\tvalidation_0-merror:0.00828\n",
      "[79]\tvalidation_0-merror:0.00828\n",
      "[80]\tvalidation_0-merror:0.00828\n",
      "[81]\tvalidation_0-merror:0.00828\n",
      "[82]\tvalidation_0-merror:0.00828\n",
      "[83]\tvalidation_0-merror:0.00828\n",
      "[84]\tvalidation_0-merror:0.00828\n",
      "[85]\tvalidation_0-merror:0.00621\n",
      "[86]\tvalidation_0-merror:0.00621\n",
      "[87]\tvalidation_0-merror:0.00621\n",
      "[88]\tvalidation_0-merror:0.00621\n",
      "[89]\tvalidation_0-merror:0.00518\n",
      "[90]\tvalidation_0-merror:0.00518\n",
      "[91]\tvalidation_0-merror:0.00518\n",
      "[92]\tvalidation_0-merror:0.00518\n",
      "[93]\tvalidation_0-merror:0.00725\n",
      "[94]\tvalidation_0-merror:0.00725\n",
      "[95]\tvalidation_0-merror:0.00725\n",
      "[96]\tvalidation_0-merror:0.00725\n",
      "[97]\tvalidation_0-merror:0.00518\n",
      "[98]\tvalidation_0-merror:0.00518\n",
      "[99]\tvalidation_0-merror:0.00518\n",
      "Stopping. Best iteration:\n",
      "[89]\tvalidation_0-merror:0.00518\n",
      "\n"
     ]
    },
    {
     "data": {
      "text/plain": [
       "XGBClassifier(base_score=0.5, booster=None, colsample_bylevel=1,\n",
       "              colsample_bynode=1, colsample_bytree=1, gamma=0, gpu_id=-1,\n",
       "              importance_type='gain', interaction_constraints=None,\n",
       "              learning_rate=0.300000012, max_delta_step=0, max_depth=6,\n",
       "              min_child_weight=1, missing=nan, monotone_constraints=None,\n",
       "              n_estimators=100, n_jobs=0, num_parallel_tree=1,\n",
       "              objective='multi:softprob', random_state=42, reg_alpha=0,\n",
       "              reg_lambda=1, scale_pos_weight=None, subsample=1,\n",
       "              tree_method=None, validate_parameters=False, verbosity=None)"
      ]
     },
     "execution_count": 41,
     "metadata": {},
     "output_type": "execute_result"
    }
   ],
   "source": [
    "meta_model_down = xgb.XGBClassifier(objective='multi:softmax', random_state=42)\n",
    "meta_model_down.fit(train_data_meta_down.drop('age_group', axis=1), train_data_meta_down['age_group'], eval_set=[(val_data_meta_down.drop('age_group', axis=1), val_data_meta_down['age_group'])], early_stopping_rounds=10)"
   ]
  },
  {
   "cell_type": "code",
   "execution_count": 42,
   "metadata": {},
   "outputs": [],
   "source": [
    "test_data_meta = test_data.drop(['Unnamed: 0', 'handle', 'tweets_text', 'hashtags'], axis=1)"
   ]
  },
  {
   "cell_type": "code",
   "execution_count": 43,
   "metadata": {},
   "outputs": [],
   "source": [
    "label_pred = meta_model.predict(test_data_meta.drop('age_group', axis=1))\n",
    "label_pred_up = meta_model_up.predict(test_data_meta.drop('age_group', axis=1))\n",
    "label_pred_down = meta_model_down.predict(test_data_meta.drop('age_group', axis=1))"
   ]
  },
  {
   "cell_type": "code",
   "execution_count": 44,
   "metadata": {},
   "outputs": [
    {
     "data": {
      "image/png": "[encoded data removed]",
      "text/plain": [
       "<Figure size 432x288 with 2 Axes>"
      ]
     },
     "metadata": {
      "needs_background": "light"
     },
     "output_type": "display_data"
    }
   ],
   "source": [
    "cm = confusion_matrix(test_data['age_group'], label_pred, normalize='true')\n",
    "df_cm = pd.DataFrame(cm, range(4), range(4))\n",
    "sn.heatmap(df_cm, annot=True)\n",
    "plt.ylabel('True')\n",
    "plt.xlabel('Predicted')\n",
    "plt.show()"
   ]
  },
  {
   "cell_type": "code",
   "execution_count": 45,
   "metadata": {},
   "outputs": [
    {
     "data": {
      "text/plain": [
       "0.47642505277973257"
      ]
     },
     "execution_count": 45,
     "metadata": {},
     "output_type": "execute_result"
    }
   ],
   "source": [
    "accuracy_score(test_data['age_group'], label_pred, normalize='true')"
   ]
  },
  {
   "cell_type": "code",
   "execution_count": 46,
   "metadata": {},
   "outputs": [
    {
     "data": {
      "image/png": "[encoded data removed]",
      "text/plain": [
       "<Figure size 432x288 with 2 Axes>"
      ]
     },
     "metadata": {
      "needs_background": "light"
     },
     "output_type": "display_data"
    }
   ],
   "source": [
    "cm = confusion_matrix(test_data['age_group'], label_pred_up, normalize='true')\n",
    "df_cm = pd.DataFrame(cm, range(4), range(4))\n",
    "sn.heatmap(df_cm, annot=True)\n",
    "plt.ylabel('True')\n",
    "plt.xlabel('Predicted')\n",
    "plt.show()"
   ]
  },
  {
   "cell_type": "code",
   "execution_count": 47,
   "metadata": {},
   "outputs": [
    {
     "data": {
      "text/plain": [
       "0.476659629368989"
      ]
     },
     "execution_count": 47,
     "metadata": {},
     "output_type": "execute_result"
    }
   ],
   "source": [
    "accuracy_score(test_data['age_group'], label_pred_up, normalize='true')"
   ]
  },
  {
   "cell_type": "code",
   "execution_count": 48,
   "metadata": {},
   "outputs": [
    {
     "data": {
      "image/png": "[encoded data removed]",
      "text/plain": [
       "<Figure size 432x288 with 2 Axes>"
      ]
     },
     "metadata": {
      "needs_background": "light"
     },
     "output_type": "display_data"
    }
   ],
   "source": [
    "cm = confusion_matrix(test_data['age_group'], label_pred_down, normalize='true')\n",
    "df_cm = pd.DataFrame(cm, range(4), range(4))\n",
    "sn.heatmap(df_cm, annot=True)\n",
    "plt.ylabel('True')\n",
    "plt.xlabel('Predicted')\n",
    "plt.show()"
   ]
  },
  {
   "cell_type": "code",
   "execution_count": 49,
   "metadata": {},
   "outputs": [
    {
     "data": {
      "text/plain": [
       "0.46798029556650245"
      ]
     },
     "execution_count": 49,
     "metadata": {},
     "output_type": "execute_result"
    }
   ],
   "source": [
    "accuracy_score(test_data['age_group'], label_pred_down, normalize='true')"
   ]
  },
  {
   "cell_type": "markdown",
   "metadata": {},
   "source": [
    "## Emsembling the two models"
   ]
  },
  {
   "cell_type": "code",
   "execution_count": 50,
   "metadata": {},
   "outputs": [
    {
     "name": "stdout",
     "output_type": "stream",
     "text": [
      "05/02/2020 19:15:20 - INFO - root -   Writing example 0 of 15153\n",
      "05/02/2020 19:15:21 - INFO - root -   Writing example 10000 of 15153\n",
      "05/02/2020 19:17:54 - INFO - root -   Writing example 0 of 1684\n",
      "05/02/2020 19:18:11 - INFO - root -   Writing example 0 of 15153\n",
      "05/02/2020 19:18:12 - INFO - root -   Writing example 10000 of 15153\n",
      "05/02/2020 19:20:45 - INFO - root -   Writing example 0 of 1684\n",
      "05/02/2020 19:21:02 - INFO - root -   Writing example 0 of 15153\n",
      "05/02/2020 19:21:03 - INFO - root -   Writing example 10000 of 15153\n",
      "05/02/2020 19:23:35 - INFO - root -   Writing example 0 of 1684\n"
     ]
    }
   ],
   "source": [
    "bert_pred_train = learner.predict_batch(list(pd.read_csv(str(DATA_PATH) + '/train.csv')['text'].values))\n",
    "bert_pred_val = learner.predict_batch(list(pd.read_csv(str(DATA_PATH) + '/val.csv')['text'].values))\n",
    "\n",
    "bert_pred_train_up = learner_up.predict_batch(list(pd.read_csv(str(DATA_PATH) + '/train.csv')['text'].values))\n",
    "bert_pred_val_up = learner_up.predict_batch(list(pd.read_csv(str(DATA_PATH) + '/val.csv')['text'].values))\n",
    "\n",
    "bert_pred_train_down = learner_down.predict_batch(list(pd.read_csv(str(DATA_PATH) + '/train.csv')['text'].values))\n",
    "bert_pred_val_down = learner_down.predict_batch(list(pd.read_csv(str(DATA_PATH) + '/val.csv')['text'].values))"
   ]
  },
  {
   "cell_type": "code",
   "execution_count": 51,
   "metadata": {},
   "outputs": [],
   "source": [
    "meta_pred_train = meta_model.predict_proba(train_data_meta.drop('age_group', axis=1))\n",
    "meta_pred_val = meta_model.predict_proba(val_data_meta.drop('age_group', axis=1))\n",
    "\n",
    "meta_pred_train_up = meta_model_up.predict_proba(train_data_meta.drop('age_group', axis=1))\n",
    "meta_pred_val_up = meta_model_up.predict_proba(val_data_meta.drop('age_group', axis=1))\n",
    "\n",
    "meta_pred_train_down = meta_model_down.predict_proba(train_data_meta.drop('age_group', axis=1))\n",
    "meta_pred_val_down = meta_model_down.predict_proba(val_data_meta.drop('age_group', axis=1))"
   ]
  },
  {
   "cell_type": "code",
   "execution_count": 52,
   "metadata": {},
   "outputs": [],
   "source": [
    "combined_pred_train = []\n",
    "combined_pred_val = []\n",
    "count = 0\n",
    "for pred in bert_pred_train:\n",
    "    combined_pred_train.append([0,0,0,0,0,0,0,0,0,0,0,0,0,0,0,0,0,0,0,0,0,0,0,0])\n",
    "    combined_pred_train[count][0] = meta_pred_train[count][0]\n",
    "    combined_pred_train[count][1] = meta_pred_train[count][1]\n",
    "    combined_pred_train[count][2] = meta_pred_train[count][2]\n",
    "    combined_pred_train[count][3] = meta_pred_train[count][3]\n",
    "    combined_pred_train[count][4] = meta_pred_train_up[count][0]\n",
    "    combined_pred_train[count][5] = meta_pred_train_up[count][1]\n",
    "    combined_pred_train[count][6] = meta_pred_train_up[count][2]\n",
    "    combined_pred_train[count][7] = meta_pred_train_up[count][3]\n",
    "    combined_pred_train[count][8] = meta_pred_train_down[count][0]\n",
    "    combined_pred_train[count][9] = meta_pred_train_down[count][1]\n",
    "    combined_pred_train[count][10] = meta_pred_train_down[count][2]\n",
    "    combined_pred_train[count][11] = meta_pred_train_down[count][3]\n",
    "    for i in range(4):\n",
    "        if pred[i][0] == 'age_group_0':\n",
    "            combined_pred_train[count][12] = pred[i][1]\n",
    "        elif pred[i][0] == 'age_group_1':\n",
    "            combined_pred_train[count][13] = pred[i][1]\n",
    "        elif pred[i][0] == 'age_group_2':\n",
    "            combined_pred_train[count][14] = pred[i][1]\n",
    "        elif pred[i][0] == 'age_group_3':\n",
    "            combined_pred_train[count][15] = pred[i][1]\n",
    "    for i in range(4):\n",
    "        if bert_pred_train_up[count][i][0] == 'age_group_0':\n",
    "            combined_pred_train[count][12] = bert_pred_train_up[count][i][1]\n",
    "        elif bert_pred_train_up[count][i][0] == 'age_group_1':\n",
    "            combined_pred_train[count][13] = bert_pred_train_up[count][i][1]\n",
    "        elif bert_pred_train_up[count][i][0] == 'age_group_2':\n",
    "            combined_pred_train[count][14] = bert_pred_train_up[count][i][1]\n",
    "        elif bert_pred_train_up[count][i][0] == 'age_group_3':\n",
    "            combined_pred_train[count][15] = bert_pred_train_up[count][i][1]\n",
    "    for i in range(4):\n",
    "        if bert_pred_train_down[count][i][0] == 'age_group_0':\n",
    "            combined_pred_train[count][12] = bert_pred_train_down[count][i][1]\n",
    "        elif bert_pred_train_down[count][i][0] == 'age_group_1':\n",
    "            combined_pred_train[count][13] = bert_pred_train_down[count][i][1]\n",
    "        elif bert_pred_train_down[count][i][0] == 'age_group_2':\n",
    "            combined_pred_train[count][14] = bert_pred_train_down[count][i][1]\n",
    "        elif bert_pred_train_down[count][i][0] == 'age_group_3':\n",
    "            combined_pred_train[count][15] = bert_pred_train_down[count][i][1]\n",
    "    count += 1\n",
    "    \n",
    "count = 0\n",
    "for pred in bert_pred_val:\n",
    "    combined_pred_val.append([0,0,0,0,0,0,0,0,0,0,0,0,0,0,0,0,0,0,0,0,0,0,0,0])\n",
    "    combined_pred_val[count][0] = meta_pred_val[count][0]\n",
    "    combined_pred_val[count][1] = meta_pred_val[count][1]\n",
    "    combined_pred_val[count][2] = meta_pred_val[count][2]\n",
    "    combined_pred_val[count][3] = meta_pred_val[count][3]\n",
    "    combined_pred_val[count][4] = meta_pred_val_up[count][0]\n",
    "    combined_pred_val[count][5] = meta_pred_val_up[count][1]\n",
    "    combined_pred_val[count][6] = meta_pred_val_up[count][2]\n",
    "    combined_pred_val[count][7] = meta_pred_val_up[count][3]\n",
    "    combined_pred_val[count][8] = meta_pred_val_down[count][0]\n",
    "    combined_pred_val[count][9] = meta_pred_val_down[count][1]\n",
    "    combined_pred_val[count][10] = meta_pred_val_down[count][2]\n",
    "    combined_pred_val[count][11] = meta_pred_val_down[count][3]\n",
    "    for i in range(4):\n",
    "        if pred[i][0] == 'age_group_0':\n",
    "            combined_pred_val[count][12] = pred[i][1]\n",
    "        elif pred[i][0] == 'age_group_1':\n",
    "            combined_pred_val[count][13] = pred[i][1]\n",
    "        elif pred[i][0] == 'age_group_2':\n",
    "            combined_pred_val[count][14] = pred[i][1]\n",
    "        elif pred[i][0] == 'age_group_3':\n",
    "            combined_pred_val[count][15] = pred[i][1]\n",
    "    for i in range(4):\n",
    "        if bert_pred_val_up[count][i][0] == 'age_group_0':\n",
    "            combined_pred_val[count][12] = bert_pred_val_up[count][i][1]\n",
    "        elif bert_pred_val_up[count][i][0] == 'age_group_1':\n",
    "            combined_pred_val[count][13] = bert_pred_val_up[count][i][1]\n",
    "        elif bert_pred_val_up[count][i][0] == 'age_group_2':\n",
    "            combined_pred_val[count][14] = bert_pred_val_up[count][i][1]\n",
    "        elif bert_pred_val_up[count][i][0] == 'age_group_3':\n",
    "            combined_pred_val[count][15] = bert_pred_val_up[count][i][1]\n",
    "    for i in range(4):\n",
    "        if bert_pred_val_down[count][i][0] == 'age_group_0':\n",
    "            combined_pred_val[count][12] = bert_pred_val_down[count][i][1]\n",
    "        elif bert_pred_val_down[count][i][0] == 'age_group_1':\n",
    "            combined_pred_val[count][13] = bert_pred_val_down[count][i][1]\n",
    "        elif bert_pred_val_down[count][i][0] == 'age_group_2':\n",
    "            combined_pred_val[count][14] = bert_pred_val_down[count][i][1]\n",
    "        elif bert_pred_val_down[count][i][0] == 'age_group_3':\n",
    "            combined_pred_val[count][15] = bert_pred_val_down[count][i][1]\n",
    "    count += 1"
   ]
  },
  {
   "cell_type": "code",
   "execution_count": 53,
   "metadata": {},
   "outputs": [],
   "source": [
    "ensemble_model = xgb.XGBClassifier(objective='multi:softmax', random_state=42)"
   ]
  },
  {
   "cell_type": "code",
   "execution_count": 54,
   "metadata": {},
   "outputs": [],
   "source": [
    "combined_pred_train = pd.DataFrame(combined_pred_train)\n",
    "combined_pred_val = pd.DataFrame(combined_pred_val)"
   ]
  },
  {
   "cell_type": "code",
   "execution_count": 55,
   "metadata": {},
   "outputs": [
    {
     "name": "stdout",
     "output_type": "stream",
     "text": [
      "[0]\tvalidation_0-merror:0.00000\n",
      "Will train until validation_0-merror hasn't improved in 10 rounds.\n",
      "[1]\tvalidation_0-merror:0.00000\n",
      "[2]\tvalidation_0-merror:0.00000\n",
      "[3]\tvalidation_0-merror:0.00000\n",
      "[4]\tvalidation_0-merror:0.00000\n",
      "[5]\tvalidation_0-merror:0.00000\n",
      "[6]\tvalidation_0-merror:0.00000\n",
      "[7]\tvalidation_0-merror:0.00000\n",
      "[8]\tvalidation_0-merror:0.00000\n",
      "[9]\tvalidation_0-merror:0.00000\n",
      "[10]\tvalidation_0-merror:0.00000\n",
      "Stopping. Best iteration:\n",
      "[0]\tvalidation_0-merror:0.00000\n",
      "\n"
     ]
    },
    {
     "data": {
      "text/plain": [
       "XGBClassifier(base_score=0.5, booster=None, colsample_bylevel=1,\n",
       "              colsample_bynode=1, colsample_bytree=1, gamma=0, gpu_id=-1,\n",
       "              importance_type='gain', interaction_constraints=None,\n",
       "              learning_rate=0.300000012, max_delta_step=0, max_depth=6,\n",
       "              min_child_weight=1, missing=nan, monotone_constraints=None,\n",
       "              n_estimators=100, n_jobs=0, num_parallel_tree=1,\n",
       "              objective='multi:softprob', random_state=42, reg_alpha=0,\n",
       "              reg_lambda=1, scale_pos_weight=None, subsample=1,\n",
       "              tree_method=None, validate_parameters=False, verbosity=None)"
      ]
     },
     "execution_count": 55,
     "metadata": {},
     "output_type": "execute_result"
    }
   ],
   "source": [
    "ensemble_model.fit(combined_pred_train, train_data['age_group'], eval_set=[(combined_pred_val, val_data['age_group'])], early_stopping_rounds=10)"
   ]
  },
  {
   "cell_type": "code",
   "execution_count": 56,
   "metadata": {},
   "outputs": [],
   "source": [
    "meta_pred = meta_model.predict_proba(test_data_meta.drop('age_group', axis=1))\n",
    "meta_pred_up = meta_model_up.predict_proba(test_data_meta.drop('age_group', axis=1))\n",
    "meta_pred_down = meta_model_down.predict_proba(test_data_meta.drop('age_group', axis=1))\n",
    "combined_pred = []\n",
    "\n",
    "count = 0\n",
    "for pred in predictions:\n",
    "    combined_pred.append([0,0,0,0,0,0,0,0,0,0,0,0,0,0,0,0,0,0,0,0,0,0,0,0])\n",
    "    combined_pred[count][0] = meta_pred[count][0]\n",
    "    combined_pred[count][1] = meta_pred[count][1]\n",
    "    combined_pred[count][2] = meta_pred[count][2]\n",
    "    combined_pred[count][3] = meta_pred[count][3]\n",
    "    combined_pred[count][4] = meta_pred_up[count][0]\n",
    "    combined_pred[count][5] = meta_pred_up[count][1]\n",
    "    combined_pred[count][6] = meta_pred_up[count][2]\n",
    "    combined_pred[count][7] = meta_pred_up[count][3]\n",
    "    combined_pred[count][8] = meta_pred_down[count][0]\n",
    "    combined_pred[count][9] = meta_pred_down[count][1]\n",
    "    combined_pred[count][10] = meta_pred_down[count][2]\n",
    "    combined_pred[count][11] = meta_pred_down[count][3]\n",
    "    for i in range(4):\n",
    "        if pred[i][0] == 'age_group_0':\n",
    "            combined_pred[count][12] = pred[i][1]\n",
    "        elif pred[i][0] == 'age_group_1':\n",
    "            combined_pred[count][13] = pred[i][1]\n",
    "        elif pred[i][0] == 'age_group_2':\n",
    "            combined_pred[count][14] = pred[i][1]\n",
    "        elif pred[i][0] == 'age_group_3':\n",
    "            combined_pred[count][15] = pred[i][1]\n",
    "    for i in range(4):\n",
    "        if predictions_up[count][i][0] == 'age_group_0':\n",
    "            combined_pred[count][12] = predictions_up[count][i][1]\n",
    "        elif predictions_up[count][i][0] == 'age_group_1':\n",
    "            combined_pred[count][13] = predictions_up[count][i][1]\n",
    "        elif predictions_up[count][i][0] == 'age_group_2':\n",
    "            combined_pred[count][14] = predictions_up[count][i][1]\n",
    "        elif predictions_up[count][i][0] == 'age_group_3':\n",
    "            combined_pred[count][15] = predictions_up[count][i][1]\n",
    "    for i in range(4):\n",
    "        if predictions_down[count][i][0] == 'age_group_0':\n",
    "            combined_pred[count][12] = predictions_down[count][i][1]\n",
    "        elif predictions_down[count][i][0] == 'age_group_1':\n",
    "            combined_pred[count][13] = predictions_down[count][i][1]\n",
    "        elif predictions_down[count][i][0] == 'age_group_2':\n",
    "            combined_pred[count][14] = predictions_down[count][i][1]\n",
    "        elif predictions_down[count][i][0] == 'age_group_3':\n",
    "            combined_pred[count][15] = predictions_down[count][i][1]\n",
    "    count += 1"
   ]
  },
  {
   "cell_type": "code",
   "execution_count": 57,
   "metadata": {},
   "outputs": [],
   "source": [
    "label_pred = ensemble_model.predict(pd.DataFrame(combined_pred))"
   ]
  },
  {
   "cell_type": "code",
   "execution_count": 58,
   "metadata": {},
   "outputs": [
    {
     "data": {
      "image/png": "[encoded data removed]",
      "text/plain": [
       "<Figure size 432x288 with 2 Axes>"
      ]
     },
     "metadata": {
      "needs_background": "light"
     },
     "output_type": "display_data"
    }
   ],
   "source": [
    "cm = confusion_matrix(test_data['age_group'], label_pred, normalize='true')\n",
    "df_cm = pd.DataFrame(cm, range(4), range(4))\n",
    "sn.heatmap(df_cm, annot=True)\n",
    "plt.ylabel('True')\n",
    "plt.xlabel('Predicted')\n",
    "plt.show()"
   ]
  },
  {
   "cell_type": "code",
   "execution_count": 59,
   "metadata": {},
   "outputs": [
    {
     "data": {
      "text/plain": [
       "0.4726718273516303"
      ]
     },
     "execution_count": 59,
     "metadata": {},
     "output_type": "execute_result"
    }
   ],
   "source": [
    "accuracy_score(test_data['age_group'], label_pred, normalize='true')"
   ]
  },
  {
   "cell_type": "code",
   "execution_count": null,
   "metadata": {},
   "outputs": [],
   "source": []
  }
 ],
 "metadata": {
  "kernelspec": {
   "display_name": "Python 3",
   "language": "python",
   "name": "python3"
  },
  "language_info": {
   "codemirror_mode": {
    "name": "ipython",
    "version": 3
   },
   "file_extension": ".py",
   "mimetype": "text/x-python",
   "name": "python",
   "nbconvert_exporter": "python",
   "pygments_lexer": "ipython3",
   "version": "3.7.7"
  }
 },
 "nbformat": 4,
 "nbformat_minor": 4
}
